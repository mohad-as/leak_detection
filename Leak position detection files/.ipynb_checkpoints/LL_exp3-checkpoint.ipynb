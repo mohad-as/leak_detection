{
 "cells": [
  {
   "cell_type": "code",
   "execution_count": 482,
   "id": "fbacbeeb",
   "metadata": {},
   "outputs": [],
   "source": [
    "import math, random\n",
    "import numpy as np\n",
    "import pandas as pd\n",
    "import matplotlib.pyplot as plt\n",
    "import librosa.display\n",
    "import os\n",
    "\n",
    "import torch\n",
    "import torchaudio\n",
    "from torchaudio import transforms\n",
    "from torch.utils.data import DataLoader, Dataset, random_split\n",
    "\n",
    "import torch.nn.functional as F\n",
    "import torch.nn as nn\n",
    "from tqdm.auto import tqdm\n",
    "import torch.optim as optim"
   ]
  },
  {
   "cell_type": "markdown",
   "id": "5449e30b",
   "metadata": {},
   "source": [
    "------\n",
    "## 1. Preprocessing of data: "
   ]
  },
  {
   "cell_type": "markdown",
   "id": "db2ea61b",
   "metadata": {},
   "source": [
    "### 1. Audio Utilities:"
   ]
  },
  {
   "cell_type": "code",
   "execution_count": 483,
   "id": "45ab78f3",
   "metadata": {},
   "outputs": [],
   "source": [
    "class AudioUtil ():\n",
    "    \n",
    "    @staticmethod\n",
    "    def open (audio_file):\n",
    "        sig, sr = torchaudio.load(audio_file)\n",
    "        return (sig, sr) \n",
    "    \n",
    "    @staticmethod\n",
    "    def spectro_gram (aud, n_mels = 16, n_fft = 1024, hop_len = 1024):\n",
    "        sig, sr = aud\n",
    "        top_db = 80\n",
    "        spec = transforms.MelSpectrogram(sr,n_fft = n_fft, n_mels = n_mels, hop_length = hop_len)(sig)\n",
    "        spec = transforms.AmplitudeToDB(top_db = top_db)(spec)\n",
    "        return (spec)\n",
    "    \n",
    "    @staticmethod\n",
    "    def spectro_augment(spec, max_mask_pct=0.1, n_freq_masks=1, n_time_masks=1):\n",
    "        _, n_mels, n_steps = spec.shape\n",
    "        mask_value = spec.mean()\n",
    "        aug_spec = spec\n",
    "\n",
    "        freq_mask_param = max_mask_pct * n_mels\n",
    "        for _ in range(n_freq_masks):\n",
    "            aug_spec = transforms.FrequencyMasking(freq_mask_param)(aug_spec, mask_value)\n",
    "\n",
    "        time_mask_param = max_mask_pct * n_steps\n",
    "        for _ in range(n_time_masks):\n",
    "            aug_spec = transforms.TimeMasking(time_mask_param)(aug_spec, mask_value)\n",
    "\n",
    "        return aug_spec"
   ]
  },
  {
   "cell_type": "markdown",
   "id": "19ee74b7",
   "metadata": {},
   "source": [
    "### 2. Sound data set:"
   ]
  },
  {
   "cell_type": "code",
   "execution_count": 484,
   "id": "15f2d721",
   "metadata": {},
   "outputs": [],
   "source": [
    "class SoundDS (Dataset): \n",
    "    \n",
    "    def __init__ (self, df, data_path):\n",
    "        self.df = df\n",
    "        self.data_path = str (data_path)\n",
    "        self.sr = 48000\n",
    "        \n",
    "    def __len__ (self):        \n",
    "        return (len(self.df))\n",
    "        \n",
    "    def __getitem__(self, idx):\n",
    "        audio_file = self.data_path + self.df.loc[idx, \"realtive_path\"]\n",
    "        class_id = torch.tensor(self.df.loc[idx, 'Y'], dtype = float)\n",
    "        aud = AudioUtil.open(audio_file)\n",
    "        sgram = AudioUtil.spectro_gram(aud,  n_fft=1024,n_mels=64, hop_len=1024)\n",
    "        #aug_sgram = AudioUtil.spectro_augment(sgram, max_mask_pct=0.1, n_freq_masks=2, n_time_masks=2)\n",
    "        sgram_m, sgram_s = sgram.mean(), sgram.std()\n",
    "        #class_m, class_s = class_id.mean(), class_id.std()\n",
    "        sgram = (sgram -  sgram_m)/sgram_s\n",
    "        #class_id = (class_id - class_m)/class_s\n",
    "        return sgram, class_id"
   ]
  },
  {
   "cell_type": "markdown",
   "id": "137e9d89",
   "metadata": {},
   "source": [
    "------\n",
    "## 1. Artificial Neural network (ANN): "
   ]
  },
  {
   "cell_type": "markdown",
   "id": "8795487b",
   "metadata": {},
   "source": [
    "## 1. Model building: "
   ]
  },
  {
   "cell_type": "code",
   "execution_count": 485,
   "id": "893c8339",
   "metadata": {},
   "outputs": [],
   "source": [
    "class regressionNN (nn.Module):\n",
    "    \n",
    "    def __init__(self):\n",
    "        super().__init__()\n",
    "        self.layers = nn.Sequential(\n",
    "          nn.Linear(64*141, 512),\n",
    "          nn.ReLU(),\n",
    "          nn.Linear(512, 265),\n",
    "         nn.ReLU(),\n",
    "          nn.Linear(265, 128),\n",
    "          nn.ReLU(),  \n",
    "          nn.Linear(128, 64),\n",
    "          nn.ReLU(),    \n",
    "          nn.Linear(64, 32),\n",
    "          nn.ReLU(),  \n",
    "           nn.Linear(32, 1)\n",
    "#          nn.ReLU(),    \n",
    "#          nn.Linear(16, 1)\n",
    "        )\n",
    "    \n",
    "    def forward(self, x):\n",
    "        x = x.view(-1,64*141) # reshape the input tensor\n",
    "        return self.layers(x)"
   ]
  },
  {
   "cell_type": "markdown",
   "id": "212a4806",
   "metadata": {},
   "source": [
    "## 2. Preparing training data: "
   ]
  },
  {
   "cell_type": "code",
   "execution_count": 486,
   "id": "828520dd",
   "metadata": {},
   "outputs": [],
   "source": [
    "df = pd.read_csv(\"/Users/mohammeda.salha/Desktop/MISCADA/The final project/The code/Dataframes/LL_exp3_0.csv\")\n",
    "Labels = torch.tensor(df[\"Y\"], dtype=float)\n",
    "Labels_m, Labels_s = Labels.mean(), Labels.std()\n",
    "df[\"Y\"] = (Labels-Labels_m)/Labels_s\n",
    "data_path=r'/Users/mohammeda.salha/Desktop/MISCADA/The final project/The code'\n",
    "myds = SoundDS(df, data_path)"
   ]
  },
  {
   "cell_type": "code",
   "execution_count": 487,
   "id": "65b123d0",
   "metadata": {},
   "outputs": [],
   "source": [
    "num_items = len(myds)\n",
    "num_train = round(num_items * 0.8)\n",
    "num_val = num_items - num_train\n",
    "train_ds, val_ds = random_split(myds, [num_train, num_val])\n",
    "# Create training and validation data loaders\n",
    "train_dl =torch.utils.data.DataLoader(train_ds, batch_size=64, shuffle=True)\n",
    "val_dl = torch.utils.data.DataLoader(val_ds, batch_size=64, shuffle=True)"
   ]
  },
  {
   "cell_type": "code",
   "execution_count": 488,
   "id": "ff18c0e2",
   "metadata": {},
   "outputs": [
    {
     "data": {
      "text/plain": [
       "'\\ntraining = []\\nfor k, (i , j) in enumerate (train_dl):\\n    training.append(i)\\n    if k == num_train:\\n        break\\n'"
      ]
     },
     "execution_count": 488,
     "metadata": {},
     "output_type": "execute_result"
    }
   ],
   "source": [
    "# In case you need to load training data. \n",
    "'''\n",
    "training = []\n",
    "for k, (i , j) in enumerate (train_dl):\n",
    "    training.append(i)\n",
    "    if k == num_train:\n",
    "        break\n",
    "'''"
   ]
  },
  {
   "cell_type": "code",
   "execution_count": 489,
   "id": "811a54d9",
   "metadata": {},
   "outputs": [
    {
     "data": {
      "text/plain": [
       "2040"
      ]
     },
     "execution_count": 489,
     "metadata": {},
     "output_type": "execute_result"
    }
   ],
   "source": [
    "num_train"
   ]
  },
  {
   "cell_type": "markdown",
   "id": "777163dc",
   "metadata": {},
   "source": [
    "## 3. Loading Valid data"
   ]
  },
  {
   "cell_type": "code",
   "execution_count": 490,
   "id": "6ff48a2f",
   "metadata": {},
   "outputs": [],
   "source": [
    "df1 = pd.read_csv(\"/Users/mohammeda.salha/Desktop/MISCADA/The final project/The code/Dataframes/LL_exp3_1.csv\")\n",
    "Labels1 = torch.tensor(df1[\"Y\"], dtype=float)\n",
    "Labels1_m, Labels1_s = Labels1.mean(), Labels1.std()\n",
    "df1[\"Y\"] = (Labels1-Labels1_m)/Labels1_s\n",
    "data_path=r'/Users/mohammeda.salha/Desktop/MISCADA/The final project/The code'\n",
    "myds1 = SoundDS(df1, data_path)"
   ]
  },
  {
   "cell_type": "code",
   "execution_count": 491,
   "id": "546a1288",
   "metadata": {},
   "outputs": [],
   "source": [
    "test_dl =torch.utils.data.DataLoader(myds1, batch_size=len(myds1), shuffle=False)"
   ]
  },
  {
   "cell_type": "code",
   "execution_count": 492,
   "id": "cb328b0f",
   "metadata": {},
   "outputs": [
    {
     "data": {
      "text/plain": [
       "'\\nvalid = []\\nfor k, (i , j) in enumerate (test_dl):\\n    valid.append(i)\\n    if k == len(test_dl):\\n        break    \\n'"
      ]
     },
     "execution_count": 492,
     "metadata": {},
     "output_type": "execute_result"
    }
   ],
   "source": [
    "# In case you need to load training data. \n",
    "'''\n",
    "valid = []\n",
    "for k, (i , j) in enumerate (test_dl):\n",
    "    valid.append(i)\n",
    "    if k == len(test_dl):\n",
    "        break    \n",
    "'''"
   ]
  },
  {
   "cell_type": "markdown",
   "id": "8447af17",
   "metadata": {},
   "source": [
    "### 4. Model employment: "
   ]
  },
  {
   "cell_type": "code",
   "execution_count": 493,
   "id": "82de0c26",
   "metadata": {},
   "outputs": [],
   "source": [
    "exp2model = regressionNN()\n",
    "criterion = nn.MSELoss()\n",
    "weight_decay = 1e-4\n",
    "optimizer = optim.Adam(exp2model.parameters(),lr = 0.00001, weight_decay = weight_decay)"
   ]
  },
  {
   "cell_type": "code",
   "execution_count": 494,
   "id": "083aa359",
   "metadata": {},
   "outputs": [],
   "source": [
    "#list(exp2model.layers[4].parameters())"
   ]
  },
  {
   "cell_type": "code",
   "execution_count": 495,
   "id": "8b82dfce",
   "metadata": {},
   "outputs": [
    {
     "data": {
      "application/vnd.jupyter.widget-view+json": {
       "model_id": "b50459306fdd4e8686ac9f5969babe75",
       "version_major": 2,
       "version_minor": 0
      },
      "text/plain": [
       "  0%|          | 0/20 [00:00<?, ?it/s]"
      ]
     },
     "metadata": {},
     "output_type": "display_data"
    }
   ],
   "source": [
    "epoch = 0\n",
    "num_epochs = 20\n",
    "losses = []\n",
    "val_losses = []\n",
    "pbar = tqdm(total=num_epochs)\n",
    "\n",
    "while epoch < num_epochs: \n",
    "    \n",
    "    epoch += 1\n",
    "    steps = list(enumerate(train_dl))\n",
    "    current_loss = 0.0\n",
    "    for i, (x_batch, y_batch) in steps: \n",
    "        x_batch = x_batch.float()\n",
    "        y_batch = y_batch.float()\n",
    "        y_batch_pred = exp2model(x_batch)\n",
    "        loss = criterion(y_batch_pred.view(-1,len(y_batch)),y_batch.view(-1,len(y_batch)))\n",
    "        optimizer.zero_grad()\n",
    "        loss.backward()\n",
    "        optimizer.step()\n",
    "\n",
    "        loss1, current = loss.item(), (i+1)*len(x_batch)\n",
    "        losses.append(loss1)\n",
    "    for x_batch1, y_batch1 in test_dl:\n",
    "        x_batch1 = x_batch1.float()\n",
    "        y_batch1 = y_batch1.float()\n",
    "        y_batch1_pred = exp2model(x_batch1)\n",
    "        loss1 = criterion(y_batch1_pred.view(-1,len(y_batch1)),y_batch1.view(-1,len(y_batch1)))\n",
    "        val_losses.append(loss1)\n",
    "    pbar.update(1)\n"
   ]
  },
  {
   "cell_type": "markdown",
   "id": "557fd047",
   "metadata": {},
   "source": [
    "## Loading the model (Location is temproraly):"
   ]
  },
  {
   "cell_type": "code",
   "execution_count": 362,
   "id": "a8b2dafd",
   "metadata": {},
   "outputs": [],
   "source": [
    "path = \"/Users/mohammeda.salha/Desktop/MISCADA/The final project/The code/The saved models/Exp3/lower epochs\"\n",
    "loaded_parameters = torch.load(os.path.join(path,f\"exp3_{1e-5}.pth\"))"
   ]
  },
  {
   "cell_type": "code",
   "execution_count": 363,
   "id": "c6d75081",
   "metadata": {},
   "outputs": [
    {
     "data": {
      "text/plain": [
       "<All keys matched successfully>"
      ]
     },
     "execution_count": 363,
     "metadata": {},
     "output_type": "execute_result"
    }
   ],
   "source": [
    "exp2model = regressionNN()\n",
    "exp2model.load_state_dict(loaded_parameters[\"model_state\"])"
   ]
  },
  {
   "cell_type": "code",
   "execution_count": 432,
   "id": "210530a3",
   "metadata": {},
   "outputs": [
    {
     "data": {
      "image/png": "[encoded data removed]",
      "text/plain": [
       "<Figure size 640x480 with 1 Axes>"
      ]
     },
     "metadata": {},
     "output_type": "display_data"
    }
   ],
   "source": [
    "with torch.no_grad():\n",
    "    plt.plot(losses, label = \"training data\")\n",
    "    plt.plot(np.arange(len(val_losses))*32, val_losses, label = \"Testing data\")\n",
    "    plt.yscale(\"log\")\n",
    "    plt.ylabel(\"Error rate (MSE)\")\n",
    "    plt.xlabel(\"Number of iteration\")\n",
    "    plt.legend()"
   ]
  },
  {
   "cell_type": "markdown",
   "id": "807283ce",
   "metadata": {},
   "source": [
    "## 5. Checking the resulted data (training data set): "
   ]
  },
  {
   "cell_type": "markdown",
   "id": "7edc51bb",
   "metadata": {},
   "source": [
    "### 1. Plot the histogram"
   ]
  },
  {
   "cell_type": "code",
   "execution_count": 433,
   "id": "a3b60cb0",
   "metadata": {},
   "outputs": [],
   "source": [
    "a1 = np.array([])\n",
    "a1targets = np.array([])\n",
    "for i, (x_batch, y_batch) in enumerate(list(train_dl)): \n",
    "    x1 = exp2model(x_batch)\n",
    "    #*Labels_s + Labels_m\n",
    "    with torch.no_grad():\n",
    "        a1 = np.append(a1,x1.numpy()*Labels_s.numpy() + Labels_m.numpy())\n",
    "        a1targets = np.append(a1targets,y_batch.numpy()*Labels_s.numpy() + Labels_m.numpy())\n",
    "                "
   ]
  },
  {
   "cell_type": "code",
   "execution_count": 434,
   "id": "fae1a005",
   "metadata": {},
   "outputs": [],
   "source": [
    "possible = set(a1targets)"
   ]
  },
  {
   "cell_type": "code",
   "execution_count": 435,
   "id": "357ba3a3",
   "metadata": {},
   "outputs": [
    {
     "data": {
      "image/png": "[encoded data removed]",
      "text/plain": [
       "<Figure size 640x480 with 1 Axes>"
      ]
     },
     "metadata": {},
     "output_type": "display_data"
    }
   ],
   "source": [
    "for p in possible:\n",
    "    plt.hist(a1[a1targets==p], alpha=0.5, label=f'{p}')\n",
    "    plt.xlabel(\"Positions (cm)\")\n",
    "    plt.ylabel(\"Frequency(count)\")\n",
    "#plt.legend()"
   ]
  },
  {
   "cell_type": "markdown",
   "id": "6027d1f9",
   "metadata": {},
   "source": [
    "### 2. Plot the spectogram:"
   ]
  },
  {
   "cell_type": "code",
   "execution_count": 398,
   "id": "8619046d",
   "metadata": {},
   "outputs": [],
   "source": [
    "#librosa.display.specshow(np.array(inputs[60]), sr = 48000, x_axis = \"linear\")"
   ]
  },
  {
   "cell_type": "markdown",
   "id": "0e758c76",
   "metadata": {},
   "source": [
    "### 3. Find mean and std of each value:  "
   ]
  },
  {
   "cell_type": "code",
   "execution_count": 436,
   "id": "772098aa",
   "metadata": {},
   "outputs": [
    {
     "name": "stdout",
     "output_type": "stream",
     "text": [
      "[-55.0, -50.0, -40.0, -35.0, -30.0, -20.0, -15.0, -10.0, 0.0, 10.0, 15.0, 20.0, 30.0, 35.0, 40.0, 50.0, 55.0]\n"
     ]
    }
   ],
   "source": [
    "possible1 = list(possible)\n",
    "possible1.sort()\n",
    "print(possible1)"
   ]
  },
  {
   "cell_type": "code",
   "execution_count": 437,
   "id": "c8309c24",
   "metadata": {},
   "outputs": [],
   "source": [
    "values_class = []\n",
    "for p in possible1:\n",
    "    values_class.append(a1[a1targets==p])"
   ]
  },
  {
   "cell_type": "code",
   "execution_count": 438,
   "id": "055ccb5d",
   "metadata": {},
   "outputs": [
    {
     "name": "stdout",
     "output_type": "stream",
     "text": [
      "The mean of [-55] is -49.365168232028765 and 2.5014298681377505\n",
      "The mean of [-50] is -52.53002873862662 and 2.109866565594308\n",
      "The mean of [-40] is -40.157686185836795 and 3.3775465083382166\n",
      "The mean of [-35] is -34.446387224030076 and 3.3917136807682766\n",
      "The mean of [-30] is -29.654866711846715 and 2.8780074384984418\n",
      "The mean of [-20] is -19.542049869658456 and 4.876453620876153\n",
      "The mean of [-15] is -12.667124553521473 and 3.1478537246877494\n",
      "The mean of [-10] is -12.60788659351628 and 3.676945382471061\n",
      "The mean of [0] is -0.13975760906982093 and 2.3131449771699084\n",
      "The mean of [10] is 10.597599100878858 and 2.4624401714623634\n",
      "The mean of [15] is 13.732198098610187 and 3.2394569057431215\n",
      "The mean of [20] is 19.85594545950101 and 2.8572176298828045\n",
      "The mean of [30] is 30.99966847799658 and 3.7731719268105453\n",
      "The mean of [35] is 35.452344258626304 and 2.8430669608578056\n",
      "The mean of [40] is 43.04783044781601 and 1.9846428266469824\n",
      "The mean of [50] is 48.65388653972956 and 1.6292207618838914\n",
      "The mean of [55] is 52.21471589406331 and 1.453148351376849\n"
     ]
    }
   ],
   "source": [
    "values = [-55,-50,-40,-35,-30,-20,-15,-10,0,10,15,20,30,35,40,50,55]\n",
    "\n",
    "for i in range (17): \n",
    "    with torch.no_grad():\n",
    "        current_mean = (values_class[i]).mean()\n",
    "        current_std = (values_class[i]).std()\n",
    "        print(f\"The mean of {[values[i]]} is {current_mean} and {current_std}\")\n"
   ]
  },
  {
   "cell_type": "code",
   "execution_count": 439,
   "id": "7f45e586",
   "metadata": {},
   "outputs": [],
   "source": [
    "values = [-55,-50,-40,-35,-30,-20,-15,-10,0,10,15,20,30,35,40,50,55]\n",
    "means = []\n",
    "stds = []\n",
    "for i in range (17): \n",
    "    with torch.no_grad():\n",
    "        means.append((values_class[i]).mean())\n",
    "        stds.append((values_class[i]).std())\n",
    "       "
   ]
  },
  {
   "cell_type": "code",
   "execution_count": 440,
   "id": "3f3fef44",
   "metadata": {},
   "outputs": [
    {
     "data": {
      "text/plain": [
       "120.0"
      ]
     },
     "execution_count": 440,
     "metadata": {},
     "output_type": "execute_result"
    }
   ],
   "source": [
    "lengths = []\n",
    "for i in range (17): \n",
    "    lengths.append(len(values_class[i]))\n",
    "np.average(lengths)"
   ]
  },
  {
   "cell_type": "code",
   "execution_count": 441,
   "id": "1bbe0eb1",
   "metadata": {},
   "outputs": [
    {
     "data": {
      "image/png": "[encoded data removed]",
      "text/plain": [
       "<Figure size 1000x600 with 1 Axes>"
      ]
     },
     "metadata": {},
     "output_type": "display_data"
    }
   ],
   "source": [
    "plt.figure(figsize = (10,6))\n",
    "plt.errorbar(values,means, yerr = stds,fmt=\".\", color='red',\n",
    "             ecolor='green', elinewidth=2, capsize=3)\n",
    "plt.xticks(np.array(values))\n",
    "plt.yticks(np.array(values))\n",
    "plt.xlabel(\"Actual values (cm)\")\n",
    "plt.ylabel (\"Mean of the predicted values (cm)\")\n",
    "plt.grid()\n"
   ]
  },
  {
   "cell_type": "markdown",
   "id": "4b4d191d",
   "metadata": {},
   "source": [
    "#### Find a mean and std errors in all values: "
   ]
  },
  {
   "cell_type": "code",
   "execution_count": 442,
   "id": "2678f70a",
   "metadata": {},
   "outputs": [
    {
     "data": {
      "text/plain": [
       "3.6200367163882405"
      ]
     },
     "execution_count": 442,
     "metadata": {},
     "output_type": "execute_result"
    }
   ],
   "source": [
    "values = np.array([-55,-50,-40,-35,-30,-20,-15,-10,0,10,15,20,30,35,40,50,55])\n",
    "errors = np.array([])\n",
    "for i in range (len(values)): \n",
    "    with torch.no_grad():\n",
    "        error = values[i] - values_class[i]\n",
    "        errors = np.append(errors,error)\n",
    "errors.std()\n"
   ]
  },
  {
   "cell_type": "code",
   "execution_count": 443,
   "id": "01de123b",
   "metadata": {},
   "outputs": [
    {
     "name": "stdout",
     "output_type": "stream",
     "text": [
      "Maximum difference in a mean is -5.634831767971235 for a value of -55\n",
      "Maximum difference in an std is 4.876453620876153 for a value of -20\n"
     ]
    }
   ],
   "source": [
    "#Maximum difference in a mean\n",
    "index_max_mean = (np.array(means)-np.array(values)).argmax()\n",
    "print(f\"Maximum difference in a mean is {values[index_max_mean]-means[index_max_mean]} for a value of {values[index_max_mean]}\")\n",
    "#Maximum difference in an std\n",
    "print(f\"Maximum difference in an std is {stds[np.array(stds).argmax()]} for a value of {values[np.array(stds).argmax()]}\")"
   ]
  },
  {
   "cell_type": "markdown",
   "id": "16ae9ce4",
   "metadata": {},
   "source": [
    "### 4. Saving the model: "
   ]
  },
  {
   "cell_type": "code",
   "execution_count": 407,
   "id": "c63f4973",
   "metadata": {},
   "outputs": [],
   "source": [
    "path = \"/Users/mohammeda.salha/Desktop/MISCADA/The final project/The code/The saved models/Exp3/lower epochs\"\n",
    "paratosave = {\"model_state\": exp2model.state_dict(), \"optimizer_state\":optimizer.state_dict(),\"train_losses\":losses,\\\n",
    "             \"valid_losses\":val_losses, \"num_epoch\": num_epochs }\n",
    "torch.save(paratosave, os.path.join(path,f\"exp3_{weight_decay}.pth\"))"
   ]
  },
  {
   "cell_type": "code",
   "execution_count": 408,
   "id": "0a093dc6",
   "metadata": {},
   "outputs": [],
   "source": [
    "training_loss = []\n",
    "valaid_loss = []"
   ]
  },
  {
   "cell_type": "markdown",
   "id": "52bb32af",
   "metadata": {},
   "source": [
    "### 5. Loading the model: "
   ]
  },
  {
   "cell_type": "code",
   "execution_count": 409,
   "id": "9b4d1313",
   "metadata": {},
   "outputs": [],
   "source": [
    "path = \"/Users/mohammeda.salha/Desktop/MISCADA/The final project/The code/The saved models/Exp3/lower epochs\"\n",
    "loaded_parameters = torch.load(os.path.join(path,\"exp3_1e-05.pth\"))"
   ]
  },
  {
   "cell_type": "code",
   "execution_count": 410,
   "id": "87916a78",
   "metadata": {},
   "outputs": [
    {
     "data": {
      "text/plain": [
       "<All keys matched successfully>"
      ]
     },
     "execution_count": 410,
     "metadata": {},
     "output_type": "execute_result"
    }
   ],
   "source": [
    "exp2model = regressionNN()\n",
    "exp2model.load_state_dict(loaded_parameters[\"model_state\"])"
   ]
  },
  {
   "cell_type": "code",
   "execution_count": 411,
   "id": "c31d5e29",
   "metadata": {},
   "outputs": [
    {
     "ename": "KeyError",
     "evalue": "'losses'",
     "output_type": "error",
     "traceback": [
      "\u001b[0;31m---------------------------------------------------------------------------\u001b[0m",
      "\u001b[0;31mKeyError\u001b[0m                                  Traceback (most recent call last)",
      "\u001b[0;32m/var/folders/5h/yplt5td549x2mqvcd96blk9m0000gn/T/ipykernel_7013/3614727410.py\u001b[0m in \u001b[0;36m<module>\u001b[0;34m\u001b[0m\n\u001b[0;32m----> 1\u001b[0;31m \u001b[0mtraining_loss\u001b[0m\u001b[0;34m.\u001b[0m\u001b[0mappend\u001b[0m\u001b[0;34m(\u001b[0m\u001b[0mloaded_parameters\u001b[0m\u001b[0;34m[\u001b[0m\u001b[0;34m\"losses\"\u001b[0m\u001b[0;34m]\u001b[0m\u001b[0;34m)\u001b[0m\u001b[0;34m\u001b[0m\u001b[0;34m\u001b[0m\u001b[0m\n\u001b[0m",
      "\u001b[0;31mKeyError\u001b[0m: 'losses'"
     ]
    }
   ],
   "source": [
    "training_loss.append(loaded_parameters[\"losses\"])"
   ]
  },
  {
   "cell_type": "markdown",
   "id": "bb47a88f",
   "metadata": {},
   "source": [
    "----------\n",
    "## 6. Checking the resulted data (Valid data set): "
   ]
  },
  {
   "cell_type": "code",
   "execution_count": 444,
   "id": "18d933ce",
   "metadata": {},
   "outputs": [],
   "source": [
    "df1 = pd.read_csv(\"/Users/mohammeda.salha/Desktop/MISCADA/The final project/The code/Dataframes/exp3_1data.csv\")\n",
    "Labels1 = torch.tensor(df1[\"Y\"], dtype=float)\n",
    "Labels1_m, Labels1_s = Labels1.mean(), Labels1.std()\n",
    "df1[\"Y\"] = (Labels1-Labels1_m)/Labels1_s\n",
    "data_path=r'/Users/mohammeda.salha/Desktop/MISCADA/The final project/The code'\n",
    "myds1 = SoundDS(df1, data_path)"
   ]
  },
  {
   "cell_type": "code",
   "execution_count": 445,
   "id": "289adca1",
   "metadata": {},
   "outputs": [
    {
     "data": {
      "text/plain": [
       "160"
      ]
     },
     "execution_count": 445,
     "metadata": {},
     "output_type": "execute_result"
    }
   ],
   "source": [
    "len(myds1)"
   ]
  },
  {
   "cell_type": "code",
   "execution_count": 446,
   "id": "b25a341c",
   "metadata": {},
   "outputs": [],
   "source": [
    "test_dl =torch.utils.data.DataLoader(myds1, batch_size=len(myds1), shuffle=False)"
   ]
  },
  {
   "cell_type": "code",
   "execution_count": 447,
   "id": "80020187",
   "metadata": {},
   "outputs": [],
   "source": [
    "for inputs, labels in test_dl: \n",
    "    a = torch.round(exp2model(inputs)*Labels_s + Labels_m )\n",
    "    b = torch.round(labels*Labels1_s + Labels1_m)"
   ]
  },
  {
   "cell_type": "code",
   "execution_count": 448,
   "id": "eeeba28e",
   "metadata": {},
   "outputs": [
    {
     "data": {
      "image/png": "[encoded data removed]",
      "text/plain": [
       "<Figure size 640x480 with 1 Axes>"
      ]
     },
     "metadata": {},
     "output_type": "display_data"
    }
   ],
   "source": [
    "with torch.no_grad():\n",
    "    for i in range(8):\n",
    "        plt.hist(a.view(-1,len(a))[0][20*i:20*(i+1)].numpy(),alpha=0.7, label=f'{i}')\n",
    "        plt.xlabel(\"Positions (cm)\")\n",
    "        plt.ylabel(\"Frequency(count)\")\n"
   ]
  },
  {
   "cell_type": "code",
   "execution_count": 449,
   "id": "9fa89fe7",
   "metadata": {
    "scrolled": true
   },
   "outputs": [
    {
     "name": "stdout",
     "output_type": "stream",
     "text": [
      "The mean of [25] is 28.350000381469727 and std is 3.4224491119384766\n",
      "The mean of [45] is 41.150001525878906 and std is 2.390221357345581\n",
      "The mean of [60] is 50.45000076293945 and std is 0.9986833333969116\n",
      "The mean of [70] is 46.849998474121094 and std is 2.412140369415283\n",
      "The mean of [-25] is -34.849998474121094 and std is 3.407036066055298\n",
      "The mean of [-45] is -46.0 and std is 1.521771788597107\n",
      "The mean of [-60] is -38.0 and std is 5.099019527435303\n",
      "The mean of [-70] is -17.649999618530273 and std is 7.902531147003174\n"
     ]
    }
   ],
   "source": [
    "points = [25, 45, 60, 70, -25,-45,-60,-70]\n",
    "for i in range (8): \n",
    "    current = a.view(-1,len(a))[0][i*20:(i+1)*20]\n",
    "    print (f\"The mean of {[points[i]]} is {current.mean()} and std is {current.std()}\")"
   ]
  },
  {
   "cell_type": "code",
   "execution_count": 450,
   "id": "7147dbe2",
   "metadata": {},
   "outputs": [],
   "source": [
    "means = []\n",
    "stds = []\n",
    "values = [25, 45, 60, 70, -25,-45,-60,-70]\n",
    "for i in range (8): \n",
    "    current = a.view(-1,len(a))[0][i*20:(i+1)*20]\n",
    "    means.append(current.mean())\n",
    "    stds.append(current.std())"
   ]
  },
  {
   "cell_type": "code",
   "execution_count": 451,
   "id": "15b34a29",
   "metadata": {},
   "outputs": [
    {
     "data": {
      "image/png": "[encoded data removed]",
      "text/plain": [
       "<Figure size 640x480 with 1 Axes>"
      ]
     },
     "metadata": {},
     "output_type": "display_data"
    }
   ],
   "source": [
    "with torch.no_grad():\n",
    "    plt.errorbar(values,means, yerr = stds,fmt=\".\", color='red',\n",
    "                 ecolor='green', elinewidth=2, capsize=3)\n",
    "    plt.xticks(np.array(values))\n",
    "    plt.yticks(np.array(values))\n",
    "    plt.xlabel(\"Actual values (cm)\")\n",
    "    plt.ylabel (\"Mean of the predicted values (cm)\")\n",
    "    plt.grid()\n"
   ]
  },
  {
   "cell_type": "code",
   "execution_count": 452,
   "id": "490b8249",
   "metadata": {},
   "outputs": [
    {
     "data": {
      "text/plain": [
       "65.71125620066908"
      ]
     },
     "execution_count": 452,
     "metadata": {},
     "output_type": "execute_result"
    }
   ],
   "source": [
    "values = [25, 45, 60, 70, -25,-45,-60,-70]\n",
    "errors = np.array([])\n",
    "for i in range (len(values)): \n",
    "    with torch.no_grad():\n",
    "        error = values[i] - values_class[i]\n",
    "        errors = np.append(errors,error)\n",
    "errors.std()\n"
   ]
  },
  {
   "cell_type": "code",
   "execution_count": 453,
   "id": "21613c45",
   "metadata": {},
   "outputs": [
    {
     "name": "stdout",
     "output_type": "stream",
     "text": [
      "Maximum difference in a mean is -52.349998474121094 for a value of -70\n",
      "Maximum difference in an std is 7.902531147003174 for a value of -70\n"
     ]
    }
   ],
   "source": [
    "#Maximum difference in a mean\n",
    "with torch.no_grad():\n",
    "    index_max_mean = (np.array(means)-np.array(values)).argmax()\n",
    "    print(f\"Maximum difference in a mean is {values[index_max_mean]-means[index_max_mean]} for a value of {values[index_max_mean]}\")\n",
    "    #Maximum difference in an std\n",
    "    print(f\"Maximum difference in an std is {stds[np.array(stds).argmax()]} for a value of {values[np.array(stds).argmax()]}\")"
   ]
  },
  {
   "cell_type": "markdown",
   "id": "517bb801",
   "metadata": {},
   "source": [
    "### Reporting the results: "
   ]
  },
  {
   "cell_type": "code",
   "execution_count": 387,
   "id": "e00220d5",
   "metadata": {},
   "outputs": [
    {
     "ename": "NameError",
     "evalue": "name 'valaid_loss' is not defined",
     "output_type": "error",
     "traceback": [
      "\u001b[0;31m---------------------------------------------------------------------------\u001b[0m",
      "\u001b[0;31mNameError\u001b[0m                                 Traceback (most recent call last)",
      "\u001b[0;32m/var/folders/5h/yplt5td549x2mqvcd96blk9m0000gn/T/ipykernel_7013/74531758.py\u001b[0m in \u001b[0;36m<module>\u001b[0;34m\u001b[0m\n\u001b[1;32m      1\u001b[0m \u001b[0mcurrent\u001b[0m \u001b[0;34m=\u001b[0m \u001b[0;34m(\u001b[0m\u001b[0;34m(\u001b[0m\u001b[0ma\u001b[0m\u001b[0;34m.\u001b[0m\u001b[0mview\u001b[0m\u001b[0;34m(\u001b[0m\u001b[0;34m-\u001b[0m\u001b[0;36m1\u001b[0m\u001b[0;34m,\u001b[0m\u001b[0mlen\u001b[0m\u001b[0;34m(\u001b[0m\u001b[0ma\u001b[0m\u001b[0;34m)\u001b[0m\u001b[0;34m)\u001b[0m\u001b[0;34m-\u001b[0m\u001b[0mb\u001b[0m\u001b[0;34m.\u001b[0m\u001b[0mview\u001b[0m\u001b[0;34m(\u001b[0m\u001b[0;34m-\u001b[0m\u001b[0;36m1\u001b[0m\u001b[0;34m,\u001b[0m\u001b[0mlen\u001b[0m\u001b[0;34m(\u001b[0m\u001b[0mb\u001b[0m\u001b[0;34m)\u001b[0m\u001b[0;34m)\u001b[0m\u001b[0;34m)\u001b[0m\u001b[0;34m**\u001b[0m\u001b[0;36m2\u001b[0m\u001b[0;34m)\u001b[0m\u001b[0;34m.\u001b[0m\u001b[0msum\u001b[0m\u001b[0;34m(\u001b[0m\u001b[0;34m)\u001b[0m\u001b[0;34m/\u001b[0m\u001b[0mlen\u001b[0m\u001b[0;34m(\u001b[0m\u001b[0ma\u001b[0m\u001b[0;34m)\u001b[0m\u001b[0;34m\u001b[0m\u001b[0;34m\u001b[0m\u001b[0m\n\u001b[0;32m----> 2\u001b[0;31m \u001b[0mvalaid_loss\u001b[0m\u001b[0;34m.\u001b[0m\u001b[0mappend\u001b[0m\u001b[0;34m(\u001b[0m\u001b[0mcurrent\u001b[0m\u001b[0;34m)\u001b[0m\u001b[0;34m\u001b[0m\u001b[0;34m\u001b[0m\u001b[0m\n\u001b[0m",
      "\u001b[0;31mNameError\u001b[0m: name 'valaid_loss' is not defined"
     ]
    }
   ],
   "source": [
    "current = ((a.view(-1,len(a))-b.view(-1,len(b)))**2).sum()/len(a)\n",
    "valaid_loss.append(current)"
   ]
  },
  {
   "cell_type": "code",
   "execution_count": 685,
   "id": "099733b9",
   "metadata": {},
   "outputs": [
    {
     "name": "stdout",
     "output_type": "stream",
     "text": [
      "tensor(2984.3750, dtype=torch.float64, grad_fn=<DivBackward0>)\n"
     ]
    }
   ],
   "source": [
    "print(current)"
   ]
  },
  {
   "cell_type": "markdown",
   "id": "3e05fd6b",
   "metadata": {},
   "source": [
    "### Splitting the predictions of the validation data to two sets: "
   ]
  },
  {
   "cell_type": "code",
   "execution_count": 388,
   "id": "3ff6f939",
   "metadata": {},
   "outputs": [],
   "source": [
    "good_predictions = np.array([])\n",
    "bad_predictions = np.array([])\n",
    "good_set = np.array([-45, 25, 45, 60])\n",
    "bad_set = np.array([-25, -60, -70, 70 ])\n",
    "\n",
    "with torch.no_grad():\n",
    "    for i in good_set: \n",
    "        good_predictions= np.append(good_predictions,a.view(-1,len(a))[b.view(-1,len(b))==i])\n",
    "    for i in bad_set: \n",
    "        bad_predictions= np.append(bad_predictions,a.view(-1,len(a))[b.view(-1,len(b))==i])\n",
    "\n",
    "    "
   ]
  },
  {
   "cell_type": "code",
   "execution_count": 389,
   "id": "bc7e89a9",
   "metadata": {},
   "outputs": [
    {
     "data": {
      "text/plain": [
       "5.687211531145997"
      ]
     },
     "execution_count": 389,
     "metadata": {},
     "output_type": "execute_result"
    }
   ],
   "source": [
    "error_good = np.array([])\n",
    "for i in range (len(good_set)): \n",
    "    error_good = np.append(error_good,(good_set[i] - good_predictions[i*20: (i+1)*20])[:])\n",
    "error_good.std()"
   ]
  },
  {
   "cell_type": "code",
   "execution_count": 390,
   "id": "d3918090",
   "metadata": {},
   "outputs": [
    {
     "data": {
      "text/plain": [
       "29.63637967093822"
      ]
     },
     "execution_count": 390,
     "metadata": {},
     "output_type": "execute_result"
    }
   ],
   "source": [
    "error_bad = np.array([])\n",
    "for i in range (len(bad_set)): \n",
    "    error_bad = np.append(error_bad,(bad_predictions[i*20: (i+1)*20]-bad_set[i])[:])\n",
    "error_bad.std()"
   ]
  },
  {
   "cell_type": "code",
   "execution_count": 391,
   "id": "beb6d6b9",
   "metadata": {},
   "outputs": [
    {
     "data": {
      "text/plain": [
       "array([-35., -38., -30., -40., -37., -42., -33., -37., -40., -35., -38.,\n",
       "       -34., -39., -33., -37., -34., -30., -39., -38., -34., -32., -41.,\n",
       "       -42., -43., -41., -42., -24., -38., -38., -44., -43., -36., -43.,\n",
       "       -36., -42., -34., -35., -41., -33., -33.,  -9., -28., -31.,  -5.,\n",
       "       -21., -32., -23., -24., -31., -23., -26., -29., -20., -16., -16.,\n",
       "       -20., -18., -18., -10., -19.,  46.,  45.,  45.,  45.,  45.,  43.,\n",
       "        44.,  43.,  42.,  44.,  36.,  40.,  42.,  43.,  45.,  45.,  44.,\n",
       "        46.,  46.,  46.])"
      ]
     },
     "execution_count": 391,
     "metadata": {},
     "output_type": "execute_result"
    }
   ],
   "source": [
    "bad_predictions"
   ]
  },
  {
   "cell_type": "markdown",
   "id": "86865689",
   "metadata": {},
   "source": [
    "## Plot the losses against the regularization: "
   ]
  },
  {
   "cell_type": "code",
   "execution_count": 392,
   "id": "6ee2fe4d",
   "metadata": {},
   "outputs": [],
   "source": [
    "train_losse = []\n",
    "valid_losse = []\n",
    "x = [1, 1e-1, 1e-2, 1e-3,1e-4,1e-5,1e-6]"
   ]
  },
  {
   "cell_type": "code",
   "execution_count": 393,
   "id": "5e7d0828",
   "metadata": {},
   "outputs": [],
   "source": [
    "path = \"/Users/mohammeda.salha/Desktop/MISCADA/The final project/The code/The saved models/Exp3/lower epochs\"\n",
    "for i in x: \n",
    "    loaded_parameters = torch.load(os.path.join(path,f\"exp3_{i}.pth\"))\n",
    "    with torch.no_grad():\n",
    "        train_losse.append(loaded_parameters[\"train_losses\"][-1])\n",
    "        valid_losse.append(loaded_parameters[\"valid_losses\"][-1])\n"
   ]
  },
  {
   "cell_type": "code",
   "execution_count": 394,
   "id": "d884dfb7",
   "metadata": {},
   "outputs": [
    {
     "data": {
      "image/png": "[encoded data removed]",
      "text/plain": [
       "<Figure size 640x480 with 1 Axes>"
      ]
     },
     "metadata": {},
     "output_type": "display_data"
    }
   ],
   "source": [
    "x = [1, 1e-1, 1e-2, 1e-3,1e-4,1e-5,1e-6]\n",
    "with torch.no_grad():\n",
    "    plt.plot(x,train_losse, label = \"Training\", marker='*')\n",
    "    plt.plot(x,valid_losse, label = \"validation\",marker='*' )\n",
    "    plt.ylabel(\"Error rate (MSE)\")\n",
    "    plt.xlabel(\"Regularization value\")\n",
    "    plt.xscale(\"log\")\n",
    "    plt.yscale(\"log\")\n",
    "    plt.legend()\n"
   ]
  },
  {
   "cell_type": "code",
   "execution_count": null,
   "id": "adf7d32c",
   "metadata": {},
   "outputs": [],
   "source": []
  }
 ],
 "metadata": {
  "kernelspec": {
   "display_name": "Python 3 (ipykernel)",
   "language": "python",
   "name": "python3"
  },
  "language_info": {
   "codemirror_mode": {
    "name": "ipython",
    "version": 3
   },
   "file_extension": ".py",
   "mimetype": "text/x-python",
   "name": "python",
   "nbconvert_exporter": "python",
   "pygments_lexer": "ipython3",
   "version": "3.9.13"
  }
 },
 "nbformat": 4,
 "nbformat_minor": 5
}
