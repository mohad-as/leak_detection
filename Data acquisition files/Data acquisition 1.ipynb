{
 "cells": [
  {
   "cell_type": "markdown",
   "id": "413da490",
   "metadata": {},
   "source": [
    "# This is a part of exp1 to check if a model can detect a leak with noise: "
   ]
  },
  {
   "cell_type": "code",
   "execution_count": 1,
   "id": "4decc65c",
   "metadata": {},
   "outputs": [],
   "source": [
    "import PyDAQmx as daq\n",
    "import numpy as np\n",
    "from daqai import DAQmx_ReadAI as readai \n",
    "from daqao import DAQmx_WriteSingleAO as writeao\n",
    "import os\n",
    "import time\n",
    "import pandas as pd\n",
    "import torchaudio\n",
    "from torchaudio import transforms\n",
    "import librosa\n",
    "import librosa.display\n",
    "import sounddevice as sd\n",
    "from scipy.io.wavfile import write \n",
    "import matplotlib.pyplot as plt\n",
    "from scipy import signal\n",
    "from scipy.io import wavfile\n",
    "import soundfile as sf\n",
    "from tqdm.auto import tqdm"
   ]
  },
  {
   "cell_type": "markdown",
   "id": "4b428f18",
   "metadata": {},
   "source": [
    "--------------\n",
    "# Recording signal: "
   ]
  },
  {
   "cell_type": "code",
   "execution_count": 2,
   "id": "e6aa48f8",
   "metadata": {},
   "outputs": [],
   "source": [
    "writeao(chan='Dev2/ao0',val=0.0)\n",
    "def record_signal(path=\"\", count= 3, initial_value = 10, fs = 48000, duration =3, relative_path = \"\", label = 0):\n",
    "    pbar = tqdm(total = count)\n",
    "    flow_rates = []\n",
    "    records_names = []\n",
    "    labels = []\n",
    "    path_s = path\n",
    "    writeao(chan='Dev2/ao0',val=initial_value)\n",
    "    time.sleep(10) # Sleep for 3 seconds\n",
    "    for i in range (count):\n",
    "        value= readai(2/10000, chanlist='Dev2/ai0', nchans=1, samplerate=10000, vrange=1.0)\n",
    "        record = sd.rec(duration*fs, samplerate = fs, channels = 1, blocking =False)\n",
    "        sd.wait()\n",
    "        \n",
    "        sound_name = f\"output0_{i}.wav\"\n",
    "        values= np.concatenate((value, readai(2/10000, chanlist='Dev2/ai0', nchans=1, samplerate=10000, vrange=1.0)))\n",
    "        \n",
    "        records_names.append(relative_path+f\"\\output0_{i}.wav\")\n",
    "        flow_rates.append(np.average(values))       \n",
    "        labels.append(label)\n",
    "        sf.write (os.path.join(path_s,sound_name),record,fs)\n",
    "        pbar.update(1)\n",
    "    writeao(chan='Dev2/ao0',val=0.0)\n",
    "    return  flow_rates, records_names, labels"
   ]
  },
  {
   "cell_type": "markdown",
   "id": "60b88e7a",
   "metadata": {},
   "source": [
    "# Distances:"
   ]
  },
  {
   "cell_type": "markdown",
   "id": "4927b632",
   "metadata": {},
   "source": [
    "-----------------\n",
    "## 1. Dis 0 (with noise only): "
   ]
  },
  {
   "cell_type": "code",
   "execution_count": 3,
   "id": "af8ca690",
   "metadata": {},
   "outputs": [
    {
     "data": {
      "application/json": {
       "ascii": false,
       "bar_format": null,
       "colour": null,
       "elapsed": 0.008004188537597656,
       "initial": 0,
       "n": 0,
       "ncols": null,
       "nrows": 29,
       "postfix": null,
       "prefix": "",
       "rate": null,
       "total": 15,
       "unit": "it",
       "unit_divisor": 1000,
       "unit_scale": false
      },
      "application/vnd.jupyter.widget-view+json": {
       "model_id": "57a967e477034b30a802fdb61bd67f60",
       "version_major": 2,
       "version_minor": 0
      },
      "text/plain": [
       "  0%|          | 0/15 [00:00<?, ?it/s]"
      ]
     },
     "metadata": {},
     "output_type": "display_data"
    }
   ],
   "source": [
    "path_s = \"C:\\\\Users\\\\phyug\\\\Desktop\\\\MISCADA\\\\experiments\\\\exp1\\\\audio_records\\\\dis0_with_lnoise\\\\\\without_leak\"\n",
    "relative_path = \"\\\\experiments\\\\exp1\\\\audio_records\\\\dis0_with_lnoise\\\\without_leak\"\n",
    "label = 0\n",
    "fl, ns, lb = record_signal(path=path_s, count= 15, initial_value = 0,\\\n",
    "                           fs = 48000, duration =3, relative_path = relative_path, label = label)\n",
    "\n",
    "df0 = pd.DataFrame(ns, columns = [\"relative_path\"] )\n",
    "df0[\"flow_rate\"] = fl\n",
    "df0[\"Y\"] = lb"
   ]
  },
  {
   "cell_type": "markdown",
   "id": "f5fe9161",
   "metadata": {},
   "source": [
    "## 1. Dis 0 with (noise and leak): "
   ]
  },
  {
   "cell_type": "code",
   "execution_count": 4,
   "id": "7051efa4",
   "metadata": {},
   "outputs": [
    {
     "data": {
      "application/json": {
       "ascii": false,
       "bar_format": null,
       "colour": null,
       "elapsed": 0.015233039855957031,
       "initial": 0,
       "n": 0,
       "ncols": null,
       "nrows": 29,
       "postfix": null,
       "prefix": "",
       "rate": null,
       "total": 15,
       "unit": "it",
       "unit_divisor": 1000,
       "unit_scale": false
      },
      "application/vnd.jupyter.widget-view+json": {
       "model_id": "3aadb176f70541619322e45f4bcc3d66",
       "version_major": 2,
       "version_minor": 0
      },
      "text/plain": [
       "  0%|          | 0/15 [00:00<?, ?it/s]"
      ]
     },
     "metadata": {},
     "output_type": "display_data"
    }
   ],
   "source": [
    "path_s = \"C:\\\\Users\\\\phyug\\\\Desktop\\\\MISCADA\\\\experiments\\\\exp1\\\\audio_records\\\\dis0_with_lnoise\\\\with_leak\"\n",
    "relative_path = \"\\\\experiments\\\\exp1\\\\audio_records\\\\dis0_with_lnoise\\\\with_leak\"\n",
    "label = 1\n",
    "fl, ns, lb = record_signal(path=path_s, count= 15, initial_value = 10,\\\n",
    "                           fs = 48000, duration =3, relative_path = relative_path, label = label)\n",
    "\n",
    "dfn0 = pd.DataFrame(ns, columns = [\"relative_path\"] )\n",
    "dfn0[\"flow_rate\"] = fl\n",
    "dfn0[\"Y\"] = lb"
   ]
  },
  {
   "cell_type": "markdown",
   "id": "87da14a1",
   "metadata": {},
   "source": [
    "-----------------\n",
    "## 2. Dis 20 (with noise only): "
   ]
  },
  {
   "cell_type": "code",
   "execution_count": 5,
   "id": "e25cb677",
   "metadata": {},
   "outputs": [
    {
     "data": {
      "application/json": {
       "ascii": false,
       "bar_format": null,
       "colour": null,
       "elapsed": 0.006976604461669922,
       "initial": 0,
       "n": 0,
       "ncols": null,
       "nrows": 29,
       "postfix": null,
       "prefix": "",
       "rate": null,
       "total": 15,
       "unit": "it",
       "unit_divisor": 1000,
       "unit_scale": false
      },
      "application/vnd.jupyter.widget-view+json": {
       "model_id": "fa62f7646b904baf958249ef04e9230f",
       "version_major": 2,
       "version_minor": 0
      },
      "text/plain": [
       "  0%|          | 0/15 [00:00<?, ?it/s]"
      ]
     },
     "metadata": {},
     "output_type": "display_data"
    }
   ],
   "source": [
    "path_s = \"C:\\\\Users\\\\phyug\\\\Desktop\\\\MISCADA\\\\experiments\\\\exp1\\\\audio_records\\\\dis20_with_lnoise\\\\\\without_leak\"\n",
    "relative_path = \"\\\\experiments\\\\exp1\\\\audio_records\\\\dis20_with_lnoise\\\\without_leak\"\n",
    "label = 0\n",
    "fl, ns, lb = record_signal(path=path_s, count= 15, initial_value = 0,\\\n",
    "                           fs = 48000, duration =3, relative_path = relative_path, label = label)\n",
    "\n",
    "df20 = pd.DataFrame(ns, columns = [\"relative_path\"] )\n",
    "df20[\"flow_rate\"] = fl\n",
    "df20[\"Y\"] = lb"
   ]
  },
  {
   "cell_type": "markdown",
   "id": "f79fcd43",
   "metadata": {},
   "source": [
    "## 2. Dis 20 with (noise and leak): "
   ]
  },
  {
   "cell_type": "code",
   "execution_count": 6,
   "id": "be89be5d",
   "metadata": {},
   "outputs": [
    {
     "data": {
      "application/json": {
       "ascii": false,
       "bar_format": null,
       "colour": null,
       "elapsed": 0.0059833526611328125,
       "initial": 0,
       "n": 0,
       "ncols": null,
       "nrows": 29,
       "postfix": null,
       "prefix": "",
       "rate": null,
       "total": 15,
       "unit": "it",
       "unit_divisor": 1000,
       "unit_scale": false
      },
      "application/vnd.jupyter.widget-view+json": {
       "model_id": "7e1856aaef6142edaad0828fd67aae37",
       "version_major": 2,
       "version_minor": 0
      },
      "text/plain": [
       "  0%|          | 0/15 [00:00<?, ?it/s]"
      ]
     },
     "metadata": {},
     "output_type": "display_data"
    }
   ],
   "source": [
    "path_s = \"C:\\\\Users\\\\phyug\\\\Desktop\\\\MISCADA\\\\experiments\\\\exp1\\\\audio_records\\\\dis20_with_lnoise\\\\with_leak\"\n",
    "relative_path = \"\\\\experiments\\\\exp1\\\\audio_records\\\\dis20_with_lnoise\\\\with_leak\"\n",
    "label = 1\n",
    "fl, ns, lb = record_signal(path=path_s, count= 15, initial_value = 10,\\\n",
    "                           fs = 48000, duration =3, relative_path = relative_path, label = label)\n",
    "\n",
    "dfn20 = pd.DataFrame(ns, columns = [\"relative_path\"] )\n",
    "dfn20[\"flow_rate\"] = fl\n",
    "dfn20[\"Y\"] = lb"
   ]
  },
  {
   "cell_type": "markdown",
   "id": "7a46e6ff",
   "metadata": {},
   "source": [
    "-----------------\n",
    "## 3. Dis 50 (with noise only): "
   ]
  },
  {
   "cell_type": "code",
   "execution_count": 7,
   "id": "0c6c7b31",
   "metadata": {},
   "outputs": [
    {
     "data": {
      "application/json": {
       "ascii": false,
       "bar_format": null,
       "colour": null,
       "elapsed": 0.007492542266845703,
       "initial": 0,
       "n": 0,
       "ncols": null,
       "nrows": 29,
       "postfix": null,
       "prefix": "",
       "rate": null,
       "total": 15,
       "unit": "it",
       "unit_divisor": 1000,
       "unit_scale": false
      },
      "application/vnd.jupyter.widget-view+json": {
       "model_id": "9900787d7af34476bedfe858d5dd0651",
       "version_major": 2,
       "version_minor": 0
      },
      "text/plain": [
       "  0%|          | 0/15 [00:00<?, ?it/s]"
      ]
     },
     "metadata": {},
     "output_type": "display_data"
    }
   ],
   "source": [
    "path_s = \"C:\\\\Users\\\\phyug\\\\Desktop\\\\MISCADA\\\\experiments\\\\exp1\\\\audio_records\\\\dis50_with_lnoise\\\\\\without_leak\"\n",
    "relative_path = \"\\\\experiments\\\\exp1\\\\audio_records\\\\dis50_with_lnoise\\\\without_leak\"\n",
    "label = 0\n",
    "fl, ns, lb = record_signal(path=path_s, count= 15, initial_value = 0,\\\n",
    "                           fs = 48000, duration =3, relative_path = relative_path, label = label)\n",
    "\n",
    "df50 = pd.DataFrame(ns, columns = [\"relative_path\"] )\n",
    "df50[\"flow_rate\"] = fl\n",
    "df50[\"Y\"] = lb"
   ]
  },
  {
   "cell_type": "markdown",
   "id": "f352883c",
   "metadata": {},
   "source": [
    "## 3. Dis 50 with (noise and leak): "
   ]
  },
  {
   "cell_type": "code",
   "execution_count": 8,
   "id": "7d5cf537",
   "metadata": {},
   "outputs": [
    {
     "data": {
      "application/json": {
       "ascii": false,
       "bar_format": null,
       "colour": null,
       "elapsed": 0.007162809371948242,
       "initial": 0,
       "n": 0,
       "ncols": null,
       "nrows": 29,
       "postfix": null,
       "prefix": "",
       "rate": null,
       "total": 15,
       "unit": "it",
       "unit_divisor": 1000,
       "unit_scale": false
      },
      "application/vnd.jupyter.widget-view+json": {
       "model_id": "1733036b440e4383aa0312dbeb182eb1",
       "version_major": 2,
       "version_minor": 0
      },
      "text/plain": [
       "  0%|          | 0/15 [00:00<?, ?it/s]"
      ]
     },
     "metadata": {},
     "output_type": "display_data"
    }
   ],
   "source": [
    "path_s = \"C:\\\\Users\\\\phyug\\\\Desktop\\\\MISCADA\\\\experiments\\\\exp1\\\\audio_records\\\\dis50_with_lnoise\\\\\\with_leak\"\n",
    "relative_path = \"\\\\experiments\\\\exp1\\\\audio_records\\\\dis50_with_lnoise\\\\with_leak\"\n",
    "label = 1\n",
    "fl, ns, lb = record_signal(path=path_s, count= 15, initial_value = 10,\\\n",
    "                           fs = 48000, duration =3, relative_path = relative_path, label = label)\n",
    "\n",
    "dfn50 = pd.DataFrame(ns, columns = [\"relative_path\"] )\n",
    "dfn50[\"flow_rate\"] = fl\n",
    "dfn50[\"Y\"] = lb"
   ]
  },
  {
   "cell_type": "markdown",
   "id": "ac22f9a1",
   "metadata": {},
   "source": [
    "-----------------\n",
    "## 4. Dis -20 (with noise only): "
   ]
  },
  {
   "cell_type": "code",
   "execution_count": 9,
   "id": "6aaeb3d3",
   "metadata": {},
   "outputs": [
    {
     "data": {
      "application/json": {
       "ascii": false,
       "bar_format": null,
       "colour": null,
       "elapsed": 0.006974935531616211,
       "initial": 0,
       "n": 0,
       "ncols": null,
       "nrows": 29,
       "postfix": null,
       "prefix": "",
       "rate": null,
       "total": 15,
       "unit": "it",
       "unit_divisor": 1000,
       "unit_scale": false
      },
      "application/vnd.jupyter.widget-view+json": {
       "model_id": "4f42d9fc2a19405aa64666f62929280f",
       "version_major": 2,
       "version_minor": 0
      },
      "text/plain": [
       "  0%|          | 0/15 [00:00<?, ?it/s]"
      ]
     },
     "metadata": {},
     "output_type": "display_data"
    }
   ],
   "source": [
    "path_s = \"C:\\\\Users\\\\phyug\\\\Desktop\\\\MISCADA\\\\experiments\\\\exp1\\\\audio_records\\\\dis-20_with_lnoise\\\\\\with_leak\"\n",
    "relative_path = \"\\\\experiments\\\\exp1\\\\audio_records\\\\dis-20_with_lnoise\\\\with_leak\"\n",
    "label = 0\n",
    "fl, ns, lb = record_signal(path=path_s, count= 15, initial_value = 0,\\\n",
    "                           fs = 48000, duration =3, relative_path = relative_path, label = label)\n",
    "\n",
    "df_20 = pd.DataFrame(ns, columns = [\"relative_path\"] )\n",
    "df_20[\"flow_rate\"] = fl\n",
    "df_20[\"Y\"] = lb"
   ]
  },
  {
   "cell_type": "markdown",
   "id": "fb9af65a",
   "metadata": {},
   "source": [
    "## 4. Dis -20 with (noise and leak): "
   ]
  },
  {
   "cell_type": "code",
   "execution_count": 10,
   "id": "ed4b77a8",
   "metadata": {},
   "outputs": [
    {
     "data": {
      "application/json": {
       "ascii": false,
       "bar_format": null,
       "colour": null,
       "elapsed": 0.006975889205932617,
       "initial": 0,
       "n": 0,
       "ncols": null,
       "nrows": 29,
       "postfix": null,
       "prefix": "",
       "rate": null,
       "total": 15,
       "unit": "it",
       "unit_divisor": 1000,
       "unit_scale": false
      },
      "application/vnd.jupyter.widget-view+json": {
       "model_id": "74329379d68e4ac2a0d747daa96d798b",
       "version_major": 2,
       "version_minor": 0
      },
      "text/plain": [
       "  0%|          | 0/15 [00:00<?, ?it/s]"
      ]
     },
     "metadata": {},
     "output_type": "display_data"
    }
   ],
   "source": [
    "path_s = \"C:\\\\Users\\\\phyug\\\\Desktop\\\\MISCADA\\\\experiments\\\\exp1\\\\audio_records\\\\dis-20_with_lnoise\\\\with_leak\"\n",
    "relative_path = \"\\\\experiments\\\\exp1\\\\audio_records\\\\dis-20_with_lnoise\\\\with_leak\"\n",
    "label = 1\n",
    "fl, ns, lb = record_signal(path=path_s, count= 15, initial_value = 10,\\\n",
    "                           fs = 48000, duration =3, relative_path = relative_path, label = label)\n",
    "\n",
    "dfn_20 = pd.DataFrame(ns, columns = [\"relative_path\"] )\n",
    "dfn_20[\"flow_rate\"] = fl\n",
    "dfn_20[\"Y\"] = lb"
   ]
  },
  {
   "cell_type": "markdown",
   "id": "ad4faa53",
   "metadata": {},
   "source": [
    "-----------------\n",
    "## 5. Dis -50 (with noise only): "
   ]
  },
  {
   "cell_type": "code",
   "execution_count": 11,
   "id": "c377abf3",
   "metadata": {},
   "outputs": [
    {
     "data": {
      "application/json": {
       "ascii": false,
       "bar_format": null,
       "colour": null,
       "elapsed": 0.006663799285888672,
       "initial": 0,
       "n": 0,
       "ncols": null,
       "nrows": 29,
       "postfix": null,
       "prefix": "",
       "rate": null,
       "total": 15,
       "unit": "it",
       "unit_divisor": 1000,
       "unit_scale": false
      },
      "application/vnd.jupyter.widget-view+json": {
       "model_id": "da9898be5f3a4d439373e83287198c46",
       "version_major": 2,
       "version_minor": 0
      },
      "text/plain": [
       "  0%|          | 0/15 [00:00<?, ?it/s]"
      ]
     },
     "metadata": {},
     "output_type": "display_data"
    }
   ],
   "source": [
    "path_s = \"C:\\\\Users\\\\phyug\\\\Desktop\\\\MISCADA\\\\experiments\\\\exp1\\\\audio_records\\\\dis-50_with_lnoise\\\\\\without_leak\"\n",
    "relative_path = \"\\\\experiments\\\\exp1\\\\audio_records\\\\dis-50_with_lnoise\\\\without_leak\"\n",
    "label = 0\n",
    "fl, ns, lb = record_signal(path=path_s, count= 15, initial_value = 0,\\\n",
    "                           fs = 48000, duration =3, relative_path = relative_path, label = label)\n",
    "\n",
    "df_50 = pd.DataFrame(ns, columns = [\"relative_path\"] )\n",
    "df_50[\"flow_rate\"] = fl\n",
    "df_50[\"Y\"] = lb"
   ]
  },
  {
   "cell_type": "markdown",
   "id": "e447bd19",
   "metadata": {},
   "source": [
    "## 5. Dis -50 with (noise and leak): "
   ]
  },
  {
   "cell_type": "code",
   "execution_count": 12,
   "id": "05ef3e1d",
   "metadata": {},
   "outputs": [
    {
     "data": {
      "application/json": {
       "ascii": false,
       "bar_format": null,
       "colour": null,
       "elapsed": 0.005937337875366211,
       "initial": 0,
       "n": 0,
       "ncols": null,
       "nrows": 29,
       "postfix": null,
       "prefix": "",
       "rate": null,
       "total": 15,
       "unit": "it",
       "unit_divisor": 1000,
       "unit_scale": false
      },
      "application/vnd.jupyter.widget-view+json": {
       "model_id": "0e22ee80c0c1480c9bec10cec9db7b44",
       "version_major": 2,
       "version_minor": 0
      },
      "text/plain": [
       "  0%|          | 0/15 [00:00<?, ?it/s]"
      ]
     },
     "metadata": {},
     "output_type": "display_data"
    }
   ],
   "source": [
    "path_s = \"C:\\\\Users\\\\phyug\\\\Desktop\\\\MISCADA\\\\experiments\\\\exp1\\\\audio_records\\\\dis-50_with_lnoise\\\\\\with_leak\"\n",
    "relative_path = \"\\\\experiments\\\\exp1\\\\audio_records\\\\dis-50_with_lnoise\\\\with_leak\"\n",
    "label = 1\n",
    "fl, ns, lb = record_signal(path=path_s, count= 15, initial_value = 10,\\\n",
    "                           fs = 48000, duration =3, relative_path = relative_path, label = label)\n",
    "\n",
    "dfn_50 = pd.DataFrame(ns, columns = [\"relative_path\"] )\n",
    "dfn_50[\"flow_rate\"] = fl\n",
    "dfn_50[\"Y\"] = lb"
   ]
  },
  {
   "cell_type": "markdown",
   "id": "12f4a6fe",
   "metadata": {},
   "source": [
    "---------\n",
    "## Adding up all the dataframes: "
   ]
  },
  {
   "cell_type": "code",
   "execution_count": 13,
   "id": "36bac43a",
   "metadata": {},
   "outputs": [],
   "source": [
    "df = pd.concat([df0,dfn0,df20,dfn20,df50,dfn50,df_20,dfn_20,df_50,dfn_50], ignore_index= True)\n",
    "df.to_csv(\"exp1_3data.csv\")"
   ]
  },
  {
   "cell_type": "code",
   "execution_count": null,
   "id": "d3c40d03",
   "metadata": {},
   "outputs": [],
   "source": []
  }
 ],
 "metadata": {
  "kernelspec": {
   "display_name": "Python 3 (ipykernel)",
   "language": "python",
   "name": "python3"
  },
  "language_info": {
   "codemirror_mode": {
    "name": "ipython",
    "version": 3
   },
   "file_extension": ".py",
   "mimetype": "text/x-python",
   "name": "python",
   "nbconvert_exporter": "python",
   "pygments_lexer": "ipython3",
   "version": "3.9.13"
  }
 },
 "nbformat": 4,
 "nbformat_minor": 5
}
