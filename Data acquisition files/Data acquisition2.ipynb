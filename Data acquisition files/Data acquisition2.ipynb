{
 "cells": [
  {
   "cell_type": "code",
   "execution_count": 1,
   "id": "4decc65c",
   "metadata": {},
   "outputs": [],
   "source": [
    "import PyDAQmx as daq\n",
    "import numpy as np\n",
    "from daqai import DAQmx_ReadAI as readai \n",
    "from daqao import DAQmx_WriteSingleAO as writeao\n",
    "import os\n",
    "import time\n",
    "import pandas as pd\n",
    "import torchaudio\n",
    "from torchaudio import transforms\n",
    "import librosa\n",
    "import librosa.display\n",
    "import sounddevice as sd\n",
    "from scipy.io.wavfile import write \n",
    "import matplotlib.pyplot as plt\n",
    "from scipy import signal\n",
    "from scipy.io import wavfile\n",
    "import soundfile as sf\n",
    "from tqdm.auto import tqdm"
   ]
  },
  {
   "cell_type": "markdown",
   "id": "4b428f18",
   "metadata": {},
   "source": [
    "--------------\n",
    "# Recording signal: "
   ]
  },
  {
   "cell_type": "code",
   "execution_count": 3,
   "id": "e6aa48f8",
   "metadata": {},
   "outputs": [],
   "source": [
    "writeao(chan='Dev2/ao0',val=0.0)\n",
    "def record_signal(path=\"\", count= 3, initial_value = 10, fs = 48000, duration =3, relative_path = \"\", label = 0):\n",
    "    pbar = tqdm(total = count)\n",
    "    flow_rates = []\n",
    "    records_names = []\n",
    "    labels = []\n",
    "    path_s = path\n",
    "    writeao(chan='Dev2/ao0',val=initial_value)\n",
    "    time.sleep(10) # Sleep for 3 seconds\n",
    "    for i in range (count):\n",
    "        value= readai(2/10000, chanlist='Dev2/ai0', nchans=1, samplerate=10000, vrange=1.0)\n",
    "        record = sd.rec(duration*fs, samplerate = fs, channels = 1, blocking =False)\n",
    "        sd.wait()\n",
    "        \n",
    "        sound_name = f\"output0_{i}.wav\"\n",
    "        values= np.concatenate((value, readai(2/10000, chanlist='Dev2/ai0', nchans=1, samplerate=10000, vrange=1.0)))\n",
    "        \n",
    "        records_names.append(relative_path+f\"\\output0_{i}.wav\")\n",
    "        flow_rates.append(np.average(values))       \n",
    "        labels.append(label)\n",
    "        sf.write (os.path.join(path_s,sound_name),record,fs)\n",
    "        pbar.update(1)\n",
    "    writeao(chan='Dev2/ao0',val=0.0)\n",
    "    return  flow_rates, records_names, labels"
   ]
  },
  {
   "cell_type": "markdown",
   "id": "5b9df8dd",
   "metadata": {},
   "source": [
    "# Training distances: (17 points)"
   ]
  },
  {
   "cell_type": "markdown",
   "id": "de6c785c",
   "metadata": {},
   "source": [
    "## 1. Dis 0"
   ]
  },
  {
   "cell_type": "code",
   "execution_count": 18,
   "id": "cb20836d",
   "metadata": {},
   "outputs": [
    {
     "data": {
      "application/json": {
       "ascii": false,
       "bar_format": null,
       "colour": null,
       "elapsed": 0.006084918975830078,
       "initial": 0,
       "n": 0,
       "ncols": null,
       "nrows": 29,
       "postfix": null,
       "prefix": "",
       "rate": null,
       "total": 150,
       "unit": "it",
       "unit_divisor": 1000,
       "unit_scale": false
      },
      "application/vnd.jupyter.widget-view+json": {
       "model_id": "ee26827ecdae4ee8a8a5e576247426d9",
       "version_major": 2,
       "version_minor": 0
      },
      "text/plain": [
       "  0%|          | 0/150 [00:00<?, ?it/s]"
      ]
     },
     "metadata": {},
     "output_type": "display_data"
    }
   ],
   "source": [
    "path_s = \"C:\\\\Users\\\\phyug\\\\Desktop\\\\MISCADA\\\\experiments\\\\exp3\\\\Audio_records\\\\training\\\\dis0\"\n",
    "relative_path = \"\\\\experiments\\\\exp2\\\\Audio_records\\\\training\\\\dis0\"\n",
    "label = 0\n",
    "fl, ns, lb = record_signal(path=path_s, count= 150, initial_value = 10,\\\n",
    "                           fs = 48000, duration =3, relative_path = relative_path, label = label)\n",
    "\n",
    "df0 = pd.DataFrame(ns, columns = [\"relative_path\"] )\n",
    "df0[\"flow_rate\"] = fl\n",
    "df0[\"Y\"] = lb"
   ]
  },
  {
   "cell_type": "code",
   "execution_count": 6,
   "id": "3d5a4491",
   "metadata": {},
   "outputs": [],
   "source": [
    "df0.to_csv(\"testtest.csv\")"
   ]
  },
  {
   "cell_type": "markdown",
   "id": "fcd09210",
   "metadata": {},
   "source": [
    "## 2. Dis 10"
   ]
  },
  {
   "cell_type": "code",
   "execution_count": 19,
   "id": "1890024a",
   "metadata": {},
   "outputs": [
    {
     "data": {
      "application/json": {
       "ascii": false,
       "bar_format": null,
       "colour": null,
       "elapsed": 0.00697636604309082,
       "initial": 0,
       "n": 0,
       "ncols": null,
       "nrows": 29,
       "postfix": null,
       "prefix": "",
       "rate": null,
       "total": 150,
       "unit": "it",
       "unit_divisor": 1000,
       "unit_scale": false
      },
      "application/vnd.jupyter.widget-view+json": {
       "model_id": "958a99c7048a44d79d18c68eaf0074e9",
       "version_major": 2,
       "version_minor": 0
      },
      "text/plain": [
       "  0%|          | 0/150 [00:00<?, ?it/s]"
      ]
     },
     "metadata": {},
     "output_type": "display_data"
    }
   ],
   "source": [
    "path_s = \"C:\\\\Users\\\\phyug\\\\Desktop\\\\MISCADA\\\\experiments\\\\exp3\\\\Audio_records\\\\training\\\\dis10\"\n",
    "relative_path = \"\\\\experiments\\\\exp2\\\\Audio_records\\\\training\\\\dis10\"\n",
    "label = 10\n",
    "fl, ns, lb = record_signal(path=path_s, count= 150, initial_value = 10,\\\n",
    "                           fs = 48000, duration =3, relative_path = relative_path, label = label)\n",
    "\n",
    "df10 = pd.DataFrame(ns, columns = [\"relative_path\"] )\n",
    "df10[\"flow_rate\"] = fl\n",
    "df10[\"Y\"] = lb"
   ]
  },
  {
   "cell_type": "markdown",
   "id": "e51fc2a5",
   "metadata": {},
   "source": [
    "## 3. Dis 15"
   ]
  },
  {
   "cell_type": "code",
   "execution_count": 20,
   "id": "5746563e",
   "metadata": {},
   "outputs": [
    {
     "data": {
      "application/json": {
       "ascii": false,
       "bar_format": null,
       "colour": null,
       "elapsed": 0.005556583404541016,
       "initial": 0,
       "n": 0,
       "ncols": null,
       "nrows": 29,
       "postfix": null,
       "prefix": "",
       "rate": null,
       "total": 150,
       "unit": "it",
       "unit_divisor": 1000,
       "unit_scale": false
      },
      "application/vnd.jupyter.widget-view+json": {
       "model_id": "223d8660c01944e193f897509e9f834d",
       "version_major": 2,
       "version_minor": 0
      },
      "text/plain": [
       "  0%|          | 0/150 [00:00<?, ?it/s]"
      ]
     },
     "metadata": {},
     "output_type": "display_data"
    }
   ],
   "source": [
    "path_s = \"C:\\\\Users\\\\phyug\\\\Desktop\\\\MISCADA\\\\experiments\\\\exp3\\\\Audio_records\\\\training\\\\dis15\"\n",
    "relative_path = \"\\\\experiments\\\\exp2\\\\Audio_records\\\\training\\\\dis15\"\n",
    "label = 15\n",
    "fl, ns, lb = record_signal(path=path_s, count= 150, initial_value = 10,\\\n",
    "                           fs = 48000, duration =3, relative_path = relative_path, label = label)\n",
    "\n",
    "df15 = pd.DataFrame(ns, columns = [\"relative_path\"] )\n",
    "df15[\"flow_rate\"] = fl\n",
    "df15[\"Y\"] = lb"
   ]
  },
  {
   "cell_type": "markdown",
   "id": "19005275",
   "metadata": {},
   "source": [
    "## 4. Dis 20"
   ]
  },
  {
   "cell_type": "code",
   "execution_count": 21,
   "id": "d04ed35b",
   "metadata": {},
   "outputs": [
    {
     "data": {
      "application/json": {
       "ascii": false,
       "bar_format": null,
       "colour": null,
       "elapsed": 0.005978584289550781,
       "initial": 0,
       "n": 0,
       "ncols": null,
       "nrows": 29,
       "postfix": null,
       "prefix": "",
       "rate": null,
       "total": 150,
       "unit": "it",
       "unit_divisor": 1000,
       "unit_scale": false
      },
      "application/vnd.jupyter.widget-view+json": {
       "model_id": "e7458037b9d44b1c9b560954e51ef63d",
       "version_major": 2,
       "version_minor": 0
      },
      "text/plain": [
       "  0%|          | 0/150 [00:00<?, ?it/s]"
      ]
     },
     "metadata": {},
     "output_type": "display_data"
    }
   ],
   "source": [
    "path_s = \"C:\\\\Users\\\\phyug\\\\Desktop\\\\MISCADA\\\\experiments\\\\exp3\\\\Audio_records\\\\training\\\\dis20\"\n",
    "relative_path = \"\\\\experiments\\\\exp2\\\\Audio_records\\\\training\\\\dis20\"\n",
    "label = 20\n",
    "fl, ns, lb = record_signal(path=path_s, count= 150, initial_value = 10,\\\n",
    "                           fs = 48000, duration =3, relative_path = relative_path, label = label)\n",
    "\n",
    "df20 = pd.DataFrame(ns, columns = [\"relative_path\"] )\n",
    "df20[\"flow_rate\"] = fl\n",
    "df20[\"Y\"] = lb"
   ]
  },
  {
   "cell_type": "markdown",
   "id": "3020ea87",
   "metadata": {},
   "source": [
    "## 5. Dis 30"
   ]
  },
  {
   "cell_type": "code",
   "execution_count": 22,
   "id": "d0ceb151",
   "metadata": {},
   "outputs": [
    {
     "data": {
      "application/json": {
       "ascii": false,
       "bar_format": null,
       "colour": null,
       "elapsed": 0.005286455154418945,
       "initial": 0,
       "n": 0,
       "ncols": null,
       "nrows": 29,
       "postfix": null,
       "prefix": "",
       "rate": null,
       "total": 150,
       "unit": "it",
       "unit_divisor": 1000,
       "unit_scale": false
      },
      "application/vnd.jupyter.widget-view+json": {
       "model_id": "135a5e684ac947e1a3cc43c6107ff8af",
       "version_major": 2,
       "version_minor": 0
      },
      "text/plain": [
       "  0%|          | 0/150 [00:00<?, ?it/s]"
      ]
     },
     "metadata": {},
     "output_type": "display_data"
    }
   ],
   "source": [
    "path_s = \"C:\\\\Users\\\\phyug\\\\Desktop\\\\MISCADA\\\\experiments\\\\exp3\\\\Audio_records\\\\training\\\\dis30\"\n",
    "relative_path = \"\\\\experiments\\\\exp2\\\\Audio_records\\\\training\\\\dis30\"\n",
    "label = 30\n",
    "fl, ns, lb = record_signal(path=path_s, count= 150, initial_value = 10,\\\n",
    "                           fs = 48000, duration =3, relative_path = relative_path, label = label)\n",
    "\n",
    "df30 = pd.DataFrame(ns, columns = [\"relative_path\"] )\n",
    "df30[\"flow_rate\"] = fl\n",
    "df30[\"Y\"] = lb"
   ]
  },
  {
   "cell_type": "markdown",
   "id": "4754001e",
   "metadata": {},
   "source": [
    "## 6. Dis 35"
   ]
  },
  {
   "cell_type": "code",
   "execution_count": 25,
   "id": "5a0ea365",
   "metadata": {},
   "outputs": [
    {
     "data": {
      "application/json": {
       "ascii": false,
       "bar_format": null,
       "colour": null,
       "elapsed": 0.006485939025878906,
       "initial": 0,
       "n": 0,
       "ncols": null,
       "nrows": 29,
       "postfix": null,
       "prefix": "",
       "rate": null,
       "total": 150,
       "unit": "it",
       "unit_divisor": 1000,
       "unit_scale": false
      },
      "application/vnd.jupyter.widget-view+json": {
       "model_id": "005e3c46179b491aa3fd2eb013ec6b8e",
       "version_major": 2,
       "version_minor": 0
      },
      "text/plain": [
       "  0%|          | 0/150 [00:00<?, ?it/s]"
      ]
     },
     "metadata": {},
     "output_type": "display_data"
    }
   ],
   "source": [
    "path_s = \"C:\\\\Users\\\\phyug\\\\Desktop\\\\MISCADA\\\\experiments\\\\exp3\\\\Audio_records\\\\training\\\\dis35\"\n",
    "relative_path = \"\\\\experiments\\\\exp2\\\\Audio_records\\\\training\\\\dis35\"\n",
    "label = 35\n",
    "fl, ns, lb = record_signal(path=path_s, count= 150, initial_value = 10,\\\n",
    "                           fs = 48000, duration =3, relative_path = relative_path, label = label)\n",
    "\n",
    "df35 = pd.DataFrame(ns, columns = [\"relative_path\"] )\n",
    "df35[\"flow_rate\"] = fl\n",
    "df35[\"Y\"] = lb"
   ]
  },
  {
   "cell_type": "code",
   "execution_count": 26,
   "id": "974e0cb8",
   "metadata": {},
   "outputs": [
    {
     "data": {
      "text/html": [
       "<div>\n",
       "<style scoped>\n",
       "    .dataframe tbody tr th:only-of-type {\n",
       "        vertical-align: middle;\n",
       "    }\n",
       "\n",
       "    .dataframe tbody tr th {\n",
       "        vertical-align: top;\n",
       "    }\n",
       "\n",
       "    .dataframe thead th {\n",
       "        text-align: right;\n",
       "    }\n",
       "</style>\n",
       "<table border=\"1\" class=\"dataframe\">\n",
       "  <thead>\n",
       "    <tr style=\"text-align: right;\">\n",
       "      <th></th>\n",
       "      <th>relative_path</th>\n",
       "      <th>flow_rate</th>\n",
       "      <th>Y</th>\n",
       "    </tr>\n",
       "  </thead>\n",
       "  <tbody>\n",
       "    <tr>\n",
       "      <th>0</th>\n",
       "      <td>\\experiments\\exp2\\Audio_records\\training\\dis35...</td>\n",
       "      <td>4.488517</td>\n",
       "      <td>35</td>\n",
       "    </tr>\n",
       "    <tr>\n",
       "      <th>1</th>\n",
       "      <td>\\experiments\\exp2\\Audio_records\\training\\dis35...</td>\n",
       "      <td>4.768527</td>\n",
       "      <td>35</td>\n",
       "    </tr>\n",
       "    <tr>\n",
       "      <th>2</th>\n",
       "      <td>\\experiments\\exp2\\Audio_records\\training\\dis35...</td>\n",
       "      <td>4.938337</td>\n",
       "      <td>35</td>\n",
       "    </tr>\n",
       "    <tr>\n",
       "      <th>3</th>\n",
       "      <td>\\experiments\\exp2\\Audio_records\\training\\dis35...</td>\n",
       "      <td>5.041770</td>\n",
       "      <td>35</td>\n",
       "    </tr>\n",
       "    <tr>\n",
       "      <th>4</th>\n",
       "      <td>\\experiments\\exp2\\Audio_records\\training\\dis35...</td>\n",
       "      <td>5.103636</td>\n",
       "      <td>35</td>\n",
       "    </tr>\n",
       "    <tr>\n",
       "      <th>...</th>\n",
       "      <td>...</td>\n",
       "      <td>...</td>\n",
       "      <td>...</td>\n",
       "    </tr>\n",
       "    <tr>\n",
       "      <th>145</th>\n",
       "      <td>\\experiments\\exp2\\Audio_records\\training\\dis35...</td>\n",
       "      <td>5.329191</td>\n",
       "      <td>35</td>\n",
       "    </tr>\n",
       "    <tr>\n",
       "      <th>146</th>\n",
       "      <td>\\experiments\\exp2\\Audio_records\\training\\dis35...</td>\n",
       "      <td>5.333057</td>\n",
       "      <td>35</td>\n",
       "    </tr>\n",
       "    <tr>\n",
       "      <th>147</th>\n",
       "      <td>\\experiments\\exp2\\Audio_records\\training\\dis35...</td>\n",
       "      <td>5.335957</td>\n",
       "      <td>35</td>\n",
       "    </tr>\n",
       "    <tr>\n",
       "      <th>148</th>\n",
       "      <td>\\experiments\\exp2\\Audio_records\\training\\dis35...</td>\n",
       "      <td>5.332091</td>\n",
       "      <td>35</td>\n",
       "    </tr>\n",
       "    <tr>\n",
       "      <th>149</th>\n",
       "      <td>\\experiments\\exp2\\Audio_records\\training\\dis35...</td>\n",
       "      <td>5.334346</td>\n",
       "      <td>35</td>\n",
       "    </tr>\n",
       "  </tbody>\n",
       "</table>\n",
       "<p>150 rows × 3 columns</p>\n",
       "</div>"
      ],
      "text/plain": [
       "                                         relative_path  flow_rate   Y\n",
       "0    \\experiments\\exp2\\Audio_records\\training\\dis35...   4.488517  35\n",
       "1    \\experiments\\exp2\\Audio_records\\training\\dis35...   4.768527  35\n",
       "2    \\experiments\\exp2\\Audio_records\\training\\dis35...   4.938337  35\n",
       "3    \\experiments\\exp2\\Audio_records\\training\\dis35...   5.041770  35\n",
       "4    \\experiments\\exp2\\Audio_records\\training\\dis35...   5.103636  35\n",
       "..                                                 ...        ...  ..\n",
       "145  \\experiments\\exp2\\Audio_records\\training\\dis35...   5.329191  35\n",
       "146  \\experiments\\exp2\\Audio_records\\training\\dis35...   5.333057  35\n",
       "147  \\experiments\\exp2\\Audio_records\\training\\dis35...   5.335957  35\n",
       "148  \\experiments\\exp2\\Audio_records\\training\\dis35...   5.332091  35\n",
       "149  \\experiments\\exp2\\Audio_records\\training\\dis35...   5.334346  35\n",
       "\n",
       "[150 rows x 3 columns]"
      ]
     },
     "execution_count": 26,
     "metadata": {},
     "output_type": "execute_result"
    }
   ],
   "source": [
    "df35"
   ]
  },
  {
   "cell_type": "markdown",
   "id": "9e9edbf3",
   "metadata": {},
   "source": [
    "## 7. Dis 40"
   ]
  },
  {
   "cell_type": "code",
   "execution_count": 28,
   "id": "1ec61a09",
   "metadata": {},
   "outputs": [
    {
     "data": {
      "application/json": {
       "ascii": false,
       "bar_format": null,
       "colour": null,
       "elapsed": 0.006074428558349609,
       "initial": 0,
       "n": 0,
       "ncols": null,
       "nrows": 29,
       "postfix": null,
       "prefix": "",
       "rate": null,
       "total": 150,
       "unit": "it",
       "unit_divisor": 1000,
       "unit_scale": false
      },
      "application/vnd.jupyter.widget-view+json": {
       "model_id": "8296feba858c4c50961cd6f798c3f094",
       "version_major": 2,
       "version_minor": 0
      },
      "text/plain": [
       "  0%|          | 0/150 [00:00<?, ?it/s]"
      ]
     },
     "metadata": {},
     "output_type": "display_data"
    }
   ],
   "source": [
    "path_s = \"C:\\\\Users\\\\phyug\\\\Desktop\\\\MISCADA\\\\experiments\\\\exp3\\\\Audio_records\\\\training\\\\dis40\"\n",
    "relative_path = \"\\\\experiments\\\\exp2\\\\Audio_records\\\\training\\\\dis40\"\n",
    "label = 40\n",
    "fl, ns, lb = record_signal(path=path_s, count= 150, initial_value = 10,\\\n",
    "                           fs = 48000, duration =3, relative_path = relative_path, label = label)\n",
    "\n",
    "df40 = pd.DataFrame(ns, columns = [\"relative_path\"] )\n",
    "df40[\"flow_rate\"] = fl\n",
    "df40[\"Y\"] = lb"
   ]
  },
  {
   "cell_type": "markdown",
   "id": "5ca08e3e",
   "metadata": {},
   "source": [
    "## 8. Dis 50"
   ]
  },
  {
   "cell_type": "code",
   "execution_count": 29,
   "id": "88eb1d2d",
   "metadata": {},
   "outputs": [
    {
     "data": {
      "application/json": {
       "ascii": false,
       "bar_format": null,
       "colour": null,
       "elapsed": 0.006246328353881836,
       "initial": 0,
       "n": 0,
       "ncols": null,
       "nrows": 29,
       "postfix": null,
       "prefix": "",
       "rate": null,
       "total": 150,
       "unit": "it",
       "unit_divisor": 1000,
       "unit_scale": false
      },
      "application/vnd.jupyter.widget-view+json": {
       "model_id": "a0533961493d4f84b8a33a8942cb0dae",
       "version_major": 2,
       "version_minor": 0
      },
      "text/plain": [
       "  0%|          | 0/150 [00:00<?, ?it/s]"
      ]
     },
     "metadata": {},
     "output_type": "display_data"
    }
   ],
   "source": [
    "path_s = \"C:\\\\Users\\\\phyug\\\\Desktop\\\\MISCADA\\\\experiments\\\\exp3\\\\Audio_records\\\\training\\\\dis50\"\n",
    "relative_path = \"\\\\experiments\\\\exp2\\\\Audio_records\\\\training\\\\dis50\"\n",
    "label = 50\n",
    "fl, ns, lb = record_signal(path=path_s, count= 150, initial_value = 10,\\\n",
    "                           fs = 48000, duration =3, relative_path = relative_path, label = label)\n",
    "\n",
    "df50 = pd.DataFrame(ns, columns = [\"relative_path\"] )\n",
    "df50[\"flow_rate\"] = fl\n",
    "df50[\"Y\"] = lb"
   ]
  },
  {
   "cell_type": "code",
   "execution_count": 30,
   "id": "26e92d58",
   "metadata": {},
   "outputs": [
    {
     "data": {
      "text/html": [
       "<div>\n",
       "<style scoped>\n",
       "    .dataframe tbody tr th:only-of-type {\n",
       "        vertical-align: middle;\n",
       "    }\n",
       "\n",
       "    .dataframe tbody tr th {\n",
       "        vertical-align: top;\n",
       "    }\n",
       "\n",
       "    .dataframe thead th {\n",
       "        text-align: right;\n",
       "    }\n",
       "</style>\n",
       "<table border=\"1\" class=\"dataframe\">\n",
       "  <thead>\n",
       "    <tr style=\"text-align: right;\">\n",
       "      <th></th>\n",
       "      <th>relative_path</th>\n",
       "      <th>flow_rate</th>\n",
       "      <th>Y</th>\n",
       "    </tr>\n",
       "  </thead>\n",
       "  <tbody>\n",
       "    <tr>\n",
       "      <th>0</th>\n",
       "      <td>\\experiments\\exp2\\Audio_records\\training\\dis50...</td>\n",
       "      <td>4.598716</td>\n",
       "      <td>50</td>\n",
       "    </tr>\n",
       "    <tr>\n",
       "      <th>1</th>\n",
       "      <td>\\experiments\\exp2\\Audio_records\\training\\dis50...</td>\n",
       "      <td>4.867771</td>\n",
       "      <td>50</td>\n",
       "    </tr>\n",
       "    <tr>\n",
       "      <th>2</th>\n",
       "      <td>\\experiments\\exp2\\Audio_records\\training\\dis50...</td>\n",
       "      <td>5.025014</td>\n",
       "      <td>50</td>\n",
       "    </tr>\n",
       "    <tr>\n",
       "      <th>3</th>\n",
       "      <td>\\experiments\\exp2\\Audio_records\\training\\dis50...</td>\n",
       "      <td>5.121036</td>\n",
       "      <td>50</td>\n",
       "    </tr>\n",
       "    <tr>\n",
       "      <th>4</th>\n",
       "      <td>\\experiments\\exp2\\Audio_records\\training\\dis50...</td>\n",
       "      <td>5.183547</td>\n",
       "      <td>50</td>\n",
       "    </tr>\n",
       "    <tr>\n",
       "      <th>...</th>\n",
       "      <td>...</td>\n",
       "      <td>...</td>\n",
       "      <td>...</td>\n",
       "    </tr>\n",
       "    <tr>\n",
       "      <th>145</th>\n",
       "      <td>\\experiments\\exp2\\Audio_records\\training\\dis50...</td>\n",
       "      <td>5.337246</td>\n",
       "      <td>50</td>\n",
       "    </tr>\n",
       "    <tr>\n",
       "      <th>146</th>\n",
       "      <td>\\experiments\\exp2\\Audio_records\\training\\dis50...</td>\n",
       "      <td>5.342080</td>\n",
       "      <td>50</td>\n",
       "    </tr>\n",
       "    <tr>\n",
       "      <th>147</th>\n",
       "      <td>\\experiments\\exp2\\Audio_records\\training\\dis50...</td>\n",
       "      <td>5.338857</td>\n",
       "      <td>50</td>\n",
       "    </tr>\n",
       "    <tr>\n",
       "      <th>148</th>\n",
       "      <td>\\experiments\\exp2\\Audio_records\\training\\dis50...</td>\n",
       "      <td>5.340791</td>\n",
       "      <td>50</td>\n",
       "    </tr>\n",
       "    <tr>\n",
       "      <th>149</th>\n",
       "      <td>\\experiments\\exp2\\Audio_records\\training\\dis50...</td>\n",
       "      <td>5.345302</td>\n",
       "      <td>50</td>\n",
       "    </tr>\n",
       "  </tbody>\n",
       "</table>\n",
       "<p>150 rows × 3 columns</p>\n",
       "</div>"
      ],
      "text/plain": [
       "                                         relative_path  flow_rate   Y\n",
       "0    \\experiments\\exp2\\Audio_records\\training\\dis50...   4.598716  50\n",
       "1    \\experiments\\exp2\\Audio_records\\training\\dis50...   4.867771  50\n",
       "2    \\experiments\\exp2\\Audio_records\\training\\dis50...   5.025014  50\n",
       "3    \\experiments\\exp2\\Audio_records\\training\\dis50...   5.121036  50\n",
       "4    \\experiments\\exp2\\Audio_records\\training\\dis50...   5.183547  50\n",
       "..                                                 ...        ...  ..\n",
       "145  \\experiments\\exp2\\Audio_records\\training\\dis50...   5.337246  50\n",
       "146  \\experiments\\exp2\\Audio_records\\training\\dis50...   5.342080  50\n",
       "147  \\experiments\\exp2\\Audio_records\\training\\dis50...   5.338857  50\n",
       "148  \\experiments\\exp2\\Audio_records\\training\\dis50...   5.340791  50\n",
       "149  \\experiments\\exp2\\Audio_records\\training\\dis50...   5.345302  50\n",
       "\n",
       "[150 rows x 3 columns]"
      ]
     },
     "execution_count": 30,
     "metadata": {},
     "output_type": "execute_result"
    }
   ],
   "source": [
    "df50"
   ]
  },
  {
   "cell_type": "markdown",
   "id": "dbf70974",
   "metadata": {},
   "source": [
    "## 9. Dis 55"
   ]
  },
  {
   "cell_type": "code",
   "execution_count": 31,
   "id": "bacb5009",
   "metadata": {},
   "outputs": [
    {
     "data": {
      "application/json": {
       "ascii": false,
       "bar_format": null,
       "colour": null,
       "elapsed": 0.007973194122314453,
       "initial": 0,
       "n": 0,
       "ncols": null,
       "nrows": 29,
       "postfix": null,
       "prefix": "",
       "rate": null,
       "total": 150,
       "unit": "it",
       "unit_divisor": 1000,
       "unit_scale": false
      },
      "application/vnd.jupyter.widget-view+json": {
       "model_id": "7e6f2bbf2c6f4112b57e5dffad4c844e",
       "version_major": 2,
       "version_minor": 0
      },
      "text/plain": [
       "  0%|          | 0/150 [00:00<?, ?it/s]"
      ]
     },
     "metadata": {},
     "output_type": "display_data"
    }
   ],
   "source": [
    "path_s = \"C:\\\\Users\\\\phyug\\\\Desktop\\\\MISCADA\\\\experiments\\\\exp3\\\\Audio_records\\\\training\\\\dis55\"\n",
    "relative_path = \"\\\\experiments\\\\exp2\\\\Audio_records\\\\training\\\\dis55\"\n",
    "label = 55\n",
    "fl, ns, lb = record_signal(path=path_s, count= 150, initial_value = 10,\\\n",
    "                           fs = 48000, duration =3, relative_path = relative_path, label = label)\n",
    "\n",
    "df55 = pd.DataFrame(ns, columns = [\"relative_path\"] )\n",
    "df55[\"flow_rate\"] = fl\n",
    "df55[\"Y\"] = lb"
   ]
  },
  {
   "cell_type": "markdown",
   "id": "74d4ec75",
   "metadata": {},
   "source": [
    "## 10. Dis-10"
   ]
  },
  {
   "cell_type": "code",
   "execution_count": 32,
   "id": "4cd42d1c",
   "metadata": {},
   "outputs": [
    {
     "data": {
      "application/json": {
       "ascii": false,
       "bar_format": null,
       "colour": null,
       "elapsed": 0.005487680435180664,
       "initial": 0,
       "n": 0,
       "ncols": null,
       "nrows": 29,
       "postfix": null,
       "prefix": "",
       "rate": null,
       "total": 150,
       "unit": "it",
       "unit_divisor": 1000,
       "unit_scale": false
      },
      "application/vnd.jupyter.widget-view+json": {
       "model_id": "7f64a51beb7d4b9181f9dbfdec4584ed",
       "version_major": 2,
       "version_minor": 0
      },
      "text/plain": [
       "  0%|          | 0/150 [00:00<?, ?it/s]"
      ]
     },
     "metadata": {},
     "output_type": "display_data"
    }
   ],
   "source": [
    "path_s = \"C:\\\\Users\\\\phyug\\\\Desktop\\\\MISCADA\\\\experiments\\\\exp3\\\\Audio_records\\\\training\\\\dis-10\"\n",
    "relative_path = \"\\\\experiments\\\\exp2\\\\Audio_records\\\\training\\\\dis-10\"\n",
    "label = -10\n",
    "fl, ns, lb = record_signal(path=path_s, count= 150, initial_value = 10,\\\n",
    "                           fs = 48000, duration =3, relative_path = relative_path, label = label)\n",
    "\n",
    "df_10 = pd.DataFrame(ns, columns = [\"relative_path\"] )\n",
    "df_10[\"flow_rate\"] = fl\n",
    "df_10[\"Y\"] = lb"
   ]
  },
  {
   "cell_type": "markdown",
   "id": "2c042ae3",
   "metadata": {},
   "source": [
    "## 11. Dis-15"
   ]
  },
  {
   "cell_type": "code",
   "execution_count": 33,
   "id": "1eab335a",
   "metadata": {},
   "outputs": [
    {
     "data": {
      "application/json": {
       "ascii": false,
       "bar_format": null,
       "colour": null,
       "elapsed": 0.005510807037353516,
       "initial": 0,
       "n": 0,
       "ncols": null,
       "nrows": 29,
       "postfix": null,
       "prefix": "",
       "rate": null,
       "total": 150,
       "unit": "it",
       "unit_divisor": 1000,
       "unit_scale": false
      },
      "application/vnd.jupyter.widget-view+json": {
       "model_id": "310751243eaf4c91a19b207296ff2a04",
       "version_major": 2,
       "version_minor": 0
      },
      "text/plain": [
       "  0%|          | 0/150 [00:00<?, ?it/s]"
      ]
     },
     "metadata": {},
     "output_type": "display_data"
    }
   ],
   "source": [
    "path_s = \"C:\\\\Users\\\\phyug\\\\Desktop\\\\MISCADA\\\\experiments\\\\exp3\\\\Audio_records\\\\training\\\\dis-15\"\n",
    "relative_path = \"\\\\experiments\\\\exp2\\\\Audio_records\\\\training\\\\dis-15\"\n",
    "label = -15\n",
    "fl, ns, lb = record_signal(path=path_s, count= 150, initial_value = 10,\\\n",
    "                           fs = 48000, duration =3, relative_path = relative_path, label = label)\n",
    "\n",
    "df_15 = pd.DataFrame(ns, columns = [\"relative_path\"] )\n",
    "df_15[\"flow_rate\"] = fl\n",
    "df_15[\"Y\"] = lb"
   ]
  },
  {
   "cell_type": "markdown",
   "id": "e9b2af61",
   "metadata": {},
   "source": [
    "## 12. Dis-20"
   ]
  },
  {
   "cell_type": "code",
   "execution_count": 34,
   "id": "c1afa8b2",
   "metadata": {},
   "outputs": [
    {
     "data": {
      "application/json": {
       "ascii": false,
       "bar_format": null,
       "colour": null,
       "elapsed": 0.00498199462890625,
       "initial": 0,
       "n": 0,
       "ncols": null,
       "nrows": 29,
       "postfix": null,
       "prefix": "",
       "rate": null,
       "total": 150,
       "unit": "it",
       "unit_divisor": 1000,
       "unit_scale": false
      },
      "application/vnd.jupyter.widget-view+json": {
       "model_id": "c03bf370787b4814af78a206fbb0f917",
       "version_major": 2,
       "version_minor": 0
      },
      "text/plain": [
       "  0%|          | 0/150 [00:00<?, ?it/s]"
      ]
     },
     "metadata": {},
     "output_type": "display_data"
    }
   ],
   "source": [
    "path_s = \"C:\\\\Users\\\\phyug\\\\Desktop\\\\MISCADA\\\\experiments\\\\exp3\\\\Audio_records\\\\training\\\\dis-20\"\n",
    "relative_path = \"\\\\experiments\\\\exp2\\\\Audio_records\\\\training\\\\dis-20\"\n",
    "label = -20\n",
    "fl, ns, lb = record_signal(path=path_s, count= 150, initial_value = 10,\\\n",
    "                           fs = 48000, duration =3, relative_path = relative_path, label = label)\n",
    "\n",
    "df_20 = pd.DataFrame(ns, columns = [\"relative_path\"] )\n",
    "df_20[\"flow_rate\"] = fl\n",
    "df_20[\"Y\"] = lb"
   ]
  },
  {
   "cell_type": "markdown",
   "id": "8ef4577c",
   "metadata": {},
   "source": [
    "## 13. Dis-30"
   ]
  },
  {
   "cell_type": "code",
   "execution_count": 35,
   "id": "f6b523dd",
   "metadata": {},
   "outputs": [
    {
     "data": {
      "application/json": {
       "ascii": false,
       "bar_format": null,
       "colour": null,
       "elapsed": 0.0066547393798828125,
       "initial": 0,
       "n": 0,
       "ncols": null,
       "nrows": 29,
       "postfix": null,
       "prefix": "",
       "rate": null,
       "total": 150,
       "unit": "it",
       "unit_divisor": 1000,
       "unit_scale": false
      },
      "application/vnd.jupyter.widget-view+json": {
       "model_id": "9b2f88a67ec34f838751e59b7c79e986",
       "version_major": 2,
       "version_minor": 0
      },
      "text/plain": [
       "  0%|          | 0/150 [00:00<?, ?it/s]"
      ]
     },
     "metadata": {},
     "output_type": "display_data"
    }
   ],
   "source": [
    "path_s = \"C:\\\\Users\\\\phyug\\\\Desktop\\\\MISCADA\\\\experiments\\\\exp3\\\\Audio_records\\\\training\\\\dis-30\"\n",
    "relative_path = \"\\\\experiments\\\\exp2\\\\Audio_records\\\\training\\\\dis-30\"\n",
    "label = -30\n",
    "fl, ns, lb = record_signal(path=path_s, count= 150, initial_value = 10,\\\n",
    "                           fs = 48000, duration =3, relative_path = relative_path, label = label)\n",
    "\n",
    "df_30 = pd.DataFrame(ns, columns = [\"relative_path\"] )\n",
    "df_30[\"flow_rate\"] = fl\n",
    "df_30[\"Y\"] = lb"
   ]
  },
  {
   "cell_type": "markdown",
   "id": "afba316f",
   "metadata": {},
   "source": [
    "## 14. Dis-35"
   ]
  },
  {
   "cell_type": "code",
   "execution_count": 36,
   "id": "2322183e",
   "metadata": {},
   "outputs": [
    {
     "data": {
      "application/json": {
       "ascii": false,
       "bar_format": null,
       "colour": null,
       "elapsed": 0.0049822330474853516,
       "initial": 0,
       "n": 0,
       "ncols": null,
       "nrows": 29,
       "postfix": null,
       "prefix": "",
       "rate": null,
       "total": 150,
       "unit": "it",
       "unit_divisor": 1000,
       "unit_scale": false
      },
      "application/vnd.jupyter.widget-view+json": {
       "model_id": "a0d1a2d406c24416acefe68853ba97f1",
       "version_major": 2,
       "version_minor": 0
      },
      "text/plain": [
       "  0%|          | 0/150 [00:00<?, ?it/s]"
      ]
     },
     "metadata": {},
     "output_type": "display_data"
    }
   ],
   "source": [
    "path_s = \"C:\\\\Users\\\\phyug\\\\Desktop\\\\MISCADA\\\\experiments\\\\exp3\\\\Audio_records\\\\training\\\\dis-35\"\n",
    "relative_path = \"\\\\experiments\\\\exp2\\\\Audio_records\\\\training\\\\dis-35\"\n",
    "label = -35\n",
    "fl, ns, lb = record_signal(path=path_s, count= 150, initial_value = 10,\\\n",
    "                           fs = 48000, duration =3, relative_path = relative_path, label = label)\n",
    "\n",
    "df_35 = pd.DataFrame(ns, columns = [\"relative_path\"] )\n",
    "df_35[\"flow_rate\"] = fl\n",
    "df_35[\"Y\"] = lb"
   ]
  },
  {
   "cell_type": "markdown",
   "id": "bf10a635",
   "metadata": {},
   "source": [
    "## 15. Dis -40"
   ]
  },
  {
   "cell_type": "code",
   "execution_count": 37,
   "id": "54013688",
   "metadata": {},
   "outputs": [
    {
     "data": {
      "application/json": {
       "ascii": false,
       "bar_format": null,
       "colour": null,
       "elapsed": 0.00449371337890625,
       "initial": 0,
       "n": 0,
       "ncols": null,
       "nrows": 29,
       "postfix": null,
       "prefix": "",
       "rate": null,
       "total": 150,
       "unit": "it",
       "unit_divisor": 1000,
       "unit_scale": false
      },
      "application/vnd.jupyter.widget-view+json": {
       "model_id": "cdd79dc1555a4803abc8d46f1db82c11",
       "version_major": 2,
       "version_minor": 0
      },
      "text/plain": [
       "  0%|          | 0/150 [00:00<?, ?it/s]"
      ]
     },
     "metadata": {},
     "output_type": "display_data"
    }
   ],
   "source": [
    "path_s = \"C:\\\\Users\\\\phyug\\\\Desktop\\\\MISCADA\\\\experiments\\\\exp3\\\\Audio_records\\\\training\\\\dis-40\"\n",
    "relative_path = \"\\\\experiments\\\\exp2\\\\Audio_records\\\\training\\\\dis-40\"\n",
    "label = -40\n",
    "fl, ns, lb = record_signal(path=path_s, count= 150, initial_value = 10,\\\n",
    "                           fs = 48000, duration =3, relative_path = relative_path, label = label)\n",
    "\n",
    "df_40 = pd.DataFrame(ns, columns = [\"relative_path\"] )\n",
    "df_40[\"flow_rate\"] = fl\n",
    "df_40[\"Y\"] = lb"
   ]
  },
  {
   "cell_type": "markdown",
   "id": "8eaf328f",
   "metadata": {},
   "source": [
    "## 16. Dis -50"
   ]
  },
  {
   "cell_type": "code",
   "execution_count": 38,
   "id": "6ae5348b",
   "metadata": {},
   "outputs": [
    {
     "data": {
      "application/json": {
       "ascii": false,
       "bar_format": null,
       "colour": null,
       "elapsed": 0.008082866668701172,
       "initial": 0,
       "n": 0,
       "ncols": null,
       "nrows": 29,
       "postfix": null,
       "prefix": "",
       "rate": null,
       "total": 150,
       "unit": "it",
       "unit_divisor": 1000,
       "unit_scale": false
      },
      "application/vnd.jupyter.widget-view+json": {
       "model_id": "6c3484cb8de74068ba186a7f6986a0bc",
       "version_major": 2,
       "version_minor": 0
      },
      "text/plain": [
       "  0%|          | 0/150 [00:00<?, ?it/s]"
      ]
     },
     "metadata": {},
     "output_type": "display_data"
    }
   ],
   "source": [
    "path_s = \"C:\\\\Users\\\\phyug\\\\Desktop\\\\MISCADA\\\\experiments\\\\exp3\\\\Audio_records\\\\training\\\\dis-50\"\n",
    "relative_path = \"\\\\experiments\\\\exp2\\\\Audio_records\\\\training\\\\dis-50\"\n",
    "label = -50\n",
    "fl, ns, lb = record_signal(path=path_s, count= 150, initial_value = 10,\\\n",
    "                           fs = 48000, duration =3, relative_path = relative_path, label = label)\n",
    "\n",
    "df_50 = pd.DataFrame(ns, columns = [\"relative_path\"] )\n",
    "df_50[\"flow_rate\"] = fl\n",
    "df_50[\"Y\"] = lb"
   ]
  },
  {
   "cell_type": "markdown",
   "id": "329cc512",
   "metadata": {},
   "source": [
    "## 17. Dis -55"
   ]
  },
  {
   "cell_type": "code",
   "execution_count": 39,
   "id": "7a2d5de6",
   "metadata": {},
   "outputs": [
    {
     "data": {
      "application/json": {
       "ascii": false,
       "bar_format": null,
       "colour": null,
       "elapsed": 0.005813121795654297,
       "initial": 0,
       "n": 0,
       "ncols": null,
       "nrows": 29,
       "postfix": null,
       "prefix": "",
       "rate": null,
       "total": 150,
       "unit": "it",
       "unit_divisor": 1000,
       "unit_scale": false
      },
      "application/vnd.jupyter.widget-view+json": {
       "model_id": "c945db9a57da49808ae9ab813acd247f",
       "version_major": 2,
       "version_minor": 0
      },
      "text/plain": [
       "  0%|          | 0/150 [00:00<?, ?it/s]"
      ]
     },
     "metadata": {},
     "output_type": "display_data"
    }
   ],
   "source": [
    "path_s = \"C:\\\\Users\\\\phyug\\\\Desktop\\\\MISCADA\\\\experiments\\\\exp3\\\\Audio_records\\\\training\\\\dis-55\"\n",
    "relative_path = \"\\\\experiments\\\\exp2\\\\Audio_records\\\\training\\\\dis-55\"\n",
    "label = -55\n",
    "fl, ns, lb = record_signal(path=path_s, count= 150, initial_value = 10,\\\n",
    "                           fs = 48000, duration =3, relative_path = relative_path, label = label)\n",
    "\n",
    "df_55 = pd.DataFrame(ns, columns = [\"relative_path\"] )\n",
    "df_55[\"flow_rate\"] = fl\n",
    "df_55[\"Y\"] = lb"
   ]
  },
  {
   "cell_type": "markdown",
   "id": "37d8f430",
   "metadata": {},
   "source": [
    "## Combining all the data: "
   ]
  },
  {
   "cell_type": "code",
   "execution_count": 43,
   "id": "c3be6d27",
   "metadata": {},
   "outputs": [],
   "source": [
    "df_all = pd.concat([df0, df10, df15,df20,df30,df35,df40,df50,df55,df_10,df_15,df_20,df_30,df_35,\\\n",
    "                    df_40,df_50,df_55], ignore_index = True)\n",
    "df_all.to_csv(\"exp3_0data.csv\")"
   ]
  },
  {
   "cell_type": "markdown",
   "id": "555f7c42",
   "metadata": {},
   "source": [
    "------------------\n",
    "# Testing distances: (6 points)"
   ]
  },
  {
   "cell_type": "markdown",
   "id": "41c7b118",
   "metadata": {},
   "source": [
    "## 1. Dis 25"
   ]
  },
  {
   "cell_type": "code",
   "execution_count": 4,
   "id": "bbfd8ee7",
   "metadata": {},
   "outputs": [
    {
     "data": {
      "application/json": {
       "ascii": false,
       "bar_format": null,
       "colour": null,
       "elapsed": 0.008968830108642578,
       "initial": 0,
       "n": 0,
       "ncols": null,
       "nrows": 29,
       "postfix": null,
       "prefix": "",
       "rate": null,
       "total": 20,
       "unit": "it",
       "unit_divisor": 1000,
       "unit_scale": false
      },
      "application/vnd.jupyter.widget-view+json": {
       "model_id": "f6f78c3ac2904cffa86b6b609b536bc9",
       "version_major": 2,
       "version_minor": 0
      },
      "text/plain": [
       "  0%|          | 0/20 [00:00<?, ?it/s]"
      ]
     },
     "metadata": {},
     "output_type": "display_data"
    }
   ],
   "source": [
    "path_s = \"C:\\\\Users\\\\phyug\\\\Desktop\\\\MISCADA\\\\experiments\\\\exp3\\\\Audio_records\\\\testing\\\\dis25\"\n",
    "relative_path = \"\\\\experiments\\\\exp3\\\\Audio_records\\\\testing\\\\dis25\"\n",
    "label = 25\n",
    "fl, ns, lb = record_signal(path=path_s, count= 20, initial_value = 10,\\\n",
    "                           fs = 48000, duration =3, relative_path = relative_path, label = label)\n",
    "\n",
    "df25 = pd.DataFrame(ns, columns = [\"realtive_path\"] )\n",
    "df25[\"flow_rate\"] = fl\n",
    "df25[\"Y\"] = lb"
   ]
  },
  {
   "cell_type": "markdown",
   "id": "4a30de59",
   "metadata": {},
   "source": [
    "## 2. Dis 45"
   ]
  },
  {
   "cell_type": "code",
   "execution_count": 5,
   "id": "dbec3cc1",
   "metadata": {},
   "outputs": [
    {
     "data": {
      "application/json": {
       "ascii": false,
       "bar_format": null,
       "colour": null,
       "elapsed": 0.007418155670166016,
       "initial": 0,
       "n": 0,
       "ncols": null,
       "nrows": 29,
       "postfix": null,
       "prefix": "",
       "rate": null,
       "total": 20,
       "unit": "it",
       "unit_divisor": 1000,
       "unit_scale": false
      },
      "application/vnd.jupyter.widget-view+json": {
       "model_id": "a1fd83369615493d8ce306c5df90075c",
       "version_major": 2,
       "version_minor": 0
      },
      "text/plain": [
       "  0%|          | 0/20 [00:00<?, ?it/s]"
      ]
     },
     "metadata": {},
     "output_type": "display_data"
    }
   ],
   "source": [
    "path_s = \"C:\\\\Users\\\\phyug\\\\Desktop\\\\MISCADA\\\\experiments\\\\exp3\\\\Audio_records\\\\testing\\\\dis45\"\n",
    "relative_path = \"\\\\experiments\\\\exp3\\\\Audio_records\\\\testing\\\\dis45\"\n",
    "label = 45\n",
    "fl, ns, lb = record_signal(path=path_s, count= 20, initial_value = 10,\\\n",
    "                           fs = 48000, duration =3, relative_path = relative_path, label = label)\n",
    "\n",
    "df45 = pd.DataFrame(ns, columns = [\"realtive_path\"] )\n",
    "df45[\"flow_rate\"] = fl\n",
    "df45[\"Y\"] = lb"
   ]
  },
  {
   "cell_type": "markdown",
   "id": "e965da66",
   "metadata": {},
   "source": [
    "## 3. Dis 60"
   ]
  },
  {
   "cell_type": "code",
   "execution_count": 6,
   "id": "07f1a0b4",
   "metadata": {},
   "outputs": [
    {
     "data": {
      "application/json": {
       "ascii": false,
       "bar_format": null,
       "colour": null,
       "elapsed": 0.005947589874267578,
       "initial": 0,
       "n": 0,
       "ncols": null,
       "nrows": 29,
       "postfix": null,
       "prefix": "",
       "rate": null,
       "total": 20,
       "unit": "it",
       "unit_divisor": 1000,
       "unit_scale": false
      },
      "application/vnd.jupyter.widget-view+json": {
       "model_id": "1e2e0abcac3b4244a55cf0c1789fbd4e",
       "version_major": 2,
       "version_minor": 0
      },
      "text/plain": [
       "  0%|          | 0/20 [00:00<?, ?it/s]"
      ]
     },
     "metadata": {},
     "output_type": "display_data"
    }
   ],
   "source": [
    "path_s = \"C:\\\\Users\\\\phyug\\\\Desktop\\\\MISCADA\\\\experiments\\\\exp3\\\\Audio_records\\\\testing\\\\dis60\"\n",
    "relative_path = \"\\\\experiments\\\\exp3\\\\Audio_records\\\\testing\\\\dis60\"\n",
    "label = 60\n",
    "fl, ns, lb = record_signal(path=path_s, count= 20, initial_value = 10,\\\n",
    "                           fs = 48000, duration =3, relative_path = relative_path, label = label)\n",
    "\n",
    "df60 = pd.DataFrame(ns, columns = [\"realtive_path\"] )\n",
    "df60[\"flow_rate\"] = fl\n",
    "df60[\"Y\"] = lb"
   ]
  },
  {
   "cell_type": "markdown",
   "id": "2f052151",
   "metadata": {},
   "source": [
    "## 4. Dis 70"
   ]
  },
  {
   "cell_type": "code",
   "execution_count": 7,
   "id": "f73508fb",
   "metadata": {},
   "outputs": [
    {
     "data": {
      "application/json": {
       "ascii": false,
       "bar_format": null,
       "colour": null,
       "elapsed": 0.0060596466064453125,
       "initial": 0,
       "n": 0,
       "ncols": null,
       "nrows": 29,
       "postfix": null,
       "prefix": "",
       "rate": null,
       "total": 20,
       "unit": "it",
       "unit_divisor": 1000,
       "unit_scale": false
      },
      "application/vnd.jupyter.widget-view+json": {
       "model_id": "f55ba42c3e2341ca9410fa5e822a7239",
       "version_major": 2,
       "version_minor": 0
      },
      "text/plain": [
       "  0%|          | 0/20 [00:00<?, ?it/s]"
      ]
     },
     "metadata": {},
     "output_type": "display_data"
    }
   ],
   "source": [
    "path_s = \"C:\\\\Users\\\\phyug\\\\Desktop\\\\MISCADA\\\\experiments\\\\exp3\\\\Audio_records\\\\testing\\\\dis70\"\n",
    "relative_path = \"\\\\experiments\\\\exp3\\\\Audio_records\\\\testing\\\\dis70\"\n",
    "label = 70\n",
    "fl, ns, lb = record_signal(path=path_s, count= 20, initial_value = 10,\\\n",
    "                           fs = 48000, duration =3, relative_path = relative_path, label = label)\n",
    "\n",
    "df70 = pd.DataFrame(ns, columns = [\"realtive_path\"] )\n",
    "df70[\"flow_rate\"] = fl\n",
    "df70[\"Y\"] = lb"
   ]
  },
  {
   "cell_type": "markdown",
   "id": "4cebdc4f",
   "metadata": {},
   "source": [
    "## 5. Dis -25"
   ]
  },
  {
   "cell_type": "code",
   "execution_count": 9,
   "id": "f02dab8b",
   "metadata": {},
   "outputs": [
    {
     "data": {
      "application/json": {
       "ascii": false,
       "bar_format": null,
       "colour": null,
       "elapsed": 0.005980491638183594,
       "initial": 0,
       "n": 0,
       "ncols": null,
       "nrows": 29,
       "postfix": null,
       "prefix": "",
       "rate": null,
       "total": 20,
       "unit": "it",
       "unit_divisor": 1000,
       "unit_scale": false
      },
      "application/vnd.jupyter.widget-view+json": {
       "model_id": "5d1e41325373469abdce6c66df7ee323",
       "version_major": 2,
       "version_minor": 0
      },
      "text/plain": [
       "  0%|          | 0/20 [00:00<?, ?it/s]"
      ]
     },
     "metadata": {},
     "output_type": "display_data"
    }
   ],
   "source": [
    "path_s = \"C:\\\\Users\\\\phyug\\\\Desktop\\\\MISCADA\\\\experiments\\\\exp3\\\\Audio_records\\\\testing\\\\dis-25\"\n",
    "relative_path = \"\\\\experiments\\\\exp3\\\\Audio_records\\\\testing\\\\dis-25\"\n",
    "label = -25\n",
    "fl, ns, lb = record_signal(path=path_s, count= 20, initial_value = 10,\\\n",
    "                           fs = 48000, duration =3, relative_path = relative_path, label = label)\n",
    "\n",
    "df_25 = pd.DataFrame(ns, columns = [\"realtive_path\"] )\n",
    "df_25[\"flow_rate\"] = fl\n",
    "df_25[\"Y\"] = lb"
   ]
  },
  {
   "cell_type": "markdown",
   "id": "588a49d7",
   "metadata": {},
   "source": [
    "## 6. Dis -45"
   ]
  },
  {
   "cell_type": "code",
   "execution_count": 10,
   "id": "fd4cc66f",
   "metadata": {},
   "outputs": [
    {
     "data": {
      "application/json": {
       "ascii": false,
       "bar_format": null,
       "colour": null,
       "elapsed": 0.007997274398803711,
       "initial": 0,
       "n": 0,
       "ncols": null,
       "nrows": 29,
       "postfix": null,
       "prefix": "",
       "rate": null,
       "total": 20,
       "unit": "it",
       "unit_divisor": 1000,
       "unit_scale": false
      },
      "application/vnd.jupyter.widget-view+json": {
       "model_id": "c5bad5df87ae46649aa4c48631d74758",
       "version_major": 2,
       "version_minor": 0
      },
      "text/plain": [
       "  0%|          | 0/20 [00:00<?, ?it/s]"
      ]
     },
     "metadata": {},
     "output_type": "display_data"
    }
   ],
   "source": [
    "path_s = \"C:\\\\Users\\\\phyug\\\\Desktop\\\\MISCADA\\\\experiments\\\\exp3\\\\Audio_records\\\\testing\\\\dis-45\"\n",
    "relative_path = \"\\\\experiments\\\\exp3\\\\Audio_records\\\\testing\\\\dis-45\"\n",
    "label = -45\n",
    "fl, ns, lb = record_signal(path=path_s, count= 20, initial_value = 10,\\\n",
    "                           fs = 48000, duration =3, relative_path = relative_path, label = label)\n",
    "\n",
    "df_45 = pd.DataFrame(ns, columns = [\"realtive_path\"] )\n",
    "df_45[\"flow_rate\"] = fl\n",
    "df_45[\"Y\"] = lb"
   ]
  },
  {
   "cell_type": "markdown",
   "id": "92619452",
   "metadata": {},
   "source": [
    "## 7. Dis -60"
   ]
  },
  {
   "cell_type": "code",
   "execution_count": 11,
   "id": "88a677b4",
   "metadata": {},
   "outputs": [
    {
     "data": {
      "application/json": {
       "ascii": false,
       "bar_format": null,
       "colour": null,
       "elapsed": 0.0059795379638671875,
       "initial": 0,
       "n": 0,
       "ncols": null,
       "nrows": 29,
       "postfix": null,
       "prefix": "",
       "rate": null,
       "total": 20,
       "unit": "it",
       "unit_divisor": 1000,
       "unit_scale": false
      },
      "application/vnd.jupyter.widget-view+json": {
       "model_id": "64a7151401c3406e8706ea445d1135b5",
       "version_major": 2,
       "version_minor": 0
      },
      "text/plain": [
       "  0%|          | 0/20 [00:00<?, ?it/s]"
      ]
     },
     "metadata": {},
     "output_type": "display_data"
    }
   ],
   "source": [
    "path_s = \"C:\\\\Users\\\\phyug\\\\Desktop\\\\MISCADA\\\\experiments\\\\exp3\\\\Audio_records\\\\testing\\\\dis-60\"\n",
    "relative_path = \"\\\\experiments\\\\exp3\\\\Audio_records\\\\testing\\\\dis-60\"\n",
    "label = -60\n",
    "fl, ns, lb = record_signal(path=path_s, count= 20, initial_value = 10,\\\n",
    "                           fs = 48000, duration =3, relative_path = relative_path, label = label)\n",
    "\n",
    "df_60 = pd.DataFrame(ns, columns = [\"realtive_path\"] )\n",
    "df_60[\"flow_rate\"] = fl\n",
    "df_60[\"Y\"] = lb"
   ]
  },
  {
   "cell_type": "markdown",
   "id": "bb49e2cf",
   "metadata": {},
   "source": [
    "## 8. Dis -70"
   ]
  },
  {
   "cell_type": "code",
   "execution_count": 12,
   "id": "6cf00f4f",
   "metadata": {},
   "outputs": [
    {
     "data": {
      "application/json": {
       "ascii": false,
       "bar_format": null,
       "colour": null,
       "elapsed": 0.004976511001586914,
       "initial": 0,
       "n": 0,
       "ncols": null,
       "nrows": 29,
       "postfix": null,
       "prefix": "",
       "rate": null,
       "total": 20,
       "unit": "it",
       "unit_divisor": 1000,
       "unit_scale": false
      },
      "application/vnd.jupyter.widget-view+json": {
       "model_id": "affaa2adae12475384ea92eec86cdc99",
       "version_major": 2,
       "version_minor": 0
      },
      "text/plain": [
       "  0%|          | 0/20 [00:00<?, ?it/s]"
      ]
     },
     "metadata": {},
     "output_type": "display_data"
    }
   ],
   "source": [
    "path_s = \"C:\\\\Users\\\\phyug\\\\Desktop\\\\MISCADA\\\\experiments\\\\exp3\\\\Audio_records\\\\testing\\\\dis-70\"\n",
    "relative_path = \"\\\\experiments\\\\exp3\\\\Audio_records\\\\testing\\\\dis-70\"\n",
    "label = -70\n",
    "fl, ns, lb = record_signal(path=path_s, count= 20, initial_value = 10,\\\n",
    "                           fs = 48000, duration =3, relative_path = relative_path, label = label)\n",
    "\n",
    "df_70 = pd.DataFrame(ns, columns = [\"realtive_path\"] )\n",
    "df_70[\"flow_rate\"] = fl\n",
    "df_70[\"Y\"] = lb"
   ]
  },
  {
   "cell_type": "code",
   "execution_count": 17,
   "id": "e15bf62f",
   "metadata": {},
   "outputs": [],
   "source": [
    "writeao(chan='Dev2/ao0',val=0.0)"
   ]
  },
  {
   "cell_type": "markdown",
   "id": "ca45eef6",
   "metadata": {},
   "source": [
    "## Combining all the data in one file:"
   ]
  },
  {
   "cell_type": "code",
   "execution_count": 14,
   "id": "3b6258f1",
   "metadata": {},
   "outputs": [],
   "source": [
    "df_all1 = pd.concat([df25,df45,df60,df70,df_25,df_45,df_70], ignore_index= True)\n",
    "df_all1.to_csv(\"exp3_1data.csv\")"
   ]
  },
  {
   "cell_type": "code",
   "execution_count": null,
   "id": "3d1044fc",
   "metadata": {},
   "outputs": [],
   "source": []
  }
 ],
 "metadata": {
  "kernelspec": {
   "display_name": "Python 3 (ipykernel)",
   "language": "python",
   "name": "python3"
  },
  "language_info": {
   "codemirror_mode": {
    "name": "ipython",
    "version": 3
   },
   "file_extension": ".py",
   "mimetype": "text/x-python",
   "name": "python",
   "nbconvert_exporter": "python",
   "pygments_lexer": "ipython3",
   "version": "3.9.13"
  }
 },
 "nbformat": 4,
 "nbformat_minor": 5
}
