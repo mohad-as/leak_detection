{
 "cells": [
  {
   "cell_type": "code",
   "execution_count": 3,
   "id": "016b0cea",
   "metadata": {},
   "outputs": [],
   "source": [
    "import PyDAQmx as daq\n",
    "import numpy as np\n",
    "from daqai import DAQmx_ReadAI as readai \n",
    "from daqao import DAQmx_WriteSingleAO as writeao\n",
    "import os\n",
    "import time\n",
    "import pandas as pd\n",
    "import torchaudio\n",
    "from torchaudio import transforms\n",
    "import librosa\n",
    "import librosa.display"
   ]
  },
  {
   "cell_type": "markdown",
   "id": "8ec177d3",
   "metadata": {},
   "source": [
    "# Recording audio "
   ]
  },
  {
   "cell_type": "code",
   "execution_count": 55,
   "id": "a008b5dc",
   "metadata": {},
   "outputs": [],
   "source": [
    "import sounddevice as sd\n",
    "from scipy.io.wavfile import write \n",
    "import matplotlib.pyplot as plt\n",
    "from scipy import signal\n",
    "from scipy.io import wavfile\n",
    "import soundfile as sf"
   ]
  },
  {
   "cell_type": "code",
   "execution_count": 56,
   "id": "7b11a028",
   "metadata": {},
   "outputs": [],
   "source": [
    "writeao(chan='Dev2/ao0',val=0.0)"
   ]
  },
  {
   "cell_type": "code",
   "execution_count": 57,
   "id": "0339100d",
   "metadata": {},
   "outputs": [],
   "source": [
    "def record_signal(path=\"\", count= 3, initial_value = 10, fs = 48000, duration =3, relative_path = \"\", label = 0):\n",
    "    flow_rates = []\n",
    "    records_names = []\n",
    "    labels = []\n",
    "    path_s = path\n",
    "    writeao(chan='Dev2/ao0',val=initial_value)\n",
    "    time.sleep(3) # Sleep for 3 seconds\n",
    "    for i in range (count):\n",
    "        value= readai(2/10000, chanlist='Dev2/ai0', nchans=1, samplerate=10000, vrange=1.0)\n",
    "        record = sd.rec(duration*fs, samplerate = fs, channels = 1, blocking =False)\n",
    "        sd.wait()\n",
    "        \n",
    "        sound_name = f\"output0_{i}.wav\"\n",
    "        values= np.concatenate((value, readai(2/10000, chanlist='Dev2/ai0', nchans=1, samplerate=10000, vrange=1.0)))\n",
    "        \n",
    "        records_names.append(relative_path+f\"\\output0_{i}.wav\")\n",
    "        flow_rates.append(np.average(values))       \n",
    "        labels.append(label)\n",
    "        sf.write (os.path.join(path_s,sound_name),record,fs)\n",
    "        \n",
    "    writeao(chan='Dev2/ao0',val=0.0)\n",
    "    return  flow_rates, records_names, labels"
   ]
  },
  {
   "cell_type": "code",
   "execution_count": 7,
   "id": "0d9662dc",
   "metadata": {},
   "outputs": [],
   "source": [
    "def convertSpecto (path_s, path_g,count = 150):\n",
    "    for i in range(count):\n",
    "        sound_name = f\"output0_{i}.wav\"\n",
    "        image_name = f\"output0_{i}\"\n",
    "        sample_rate, samples = wavfile.read(os.path.join(path_s,sound_name))\n",
    "        plt.figure()\n",
    "        #inferno\n",
    "        powerspectrum, frequenciesFound, time, imageAxis = plt.specgram (samples, 1024, sample_rate, cmap = \"magma\", scale = \"dB\")\n",
    "        plt.colorbar(label = \"dB\")\n",
    "        #plt.xlabel(\"Time\")\n",
    "        #plt.ylabel(\"Frequency\")\n",
    "        #plt.title(sound_name)\n",
    "        plt.savefig(os.path.join(path_g, image_name))\n",
    "        plt.close()\n",
    "                \n"
   ]
  },
  {
   "cell_type": "markdown",
   "id": "32ca1393",
   "metadata": {},
   "source": [
    "--------------\n",
    "## 0 dis"
   ]
  },
  {
   "cell_type": "code",
   "execution_count": 31,
   "id": "ace5da86",
   "metadata": {},
   "outputs": [
    {
     "ename": "KeyboardInterrupt",
     "evalue": "",
     "output_type": "error",
     "traceback": [
      "\u001b[1;31m---------------------------------------------------------------------------\u001b[0m",
      "\u001b[1;31mKeyboardInterrupt\u001b[0m                         Traceback (most recent call last)",
      "Cell \u001b[1;32mIn[31], line 2\u001b[0m\n\u001b[0;32m      1\u001b[0m path_s \u001b[38;5;241m=\u001b[39m \u001b[38;5;124m\"\u001b[39m\u001b[38;5;124mC:\u001b[39m\u001b[38;5;130;01m\\\\\u001b[39;00m\u001b[38;5;124mUsers\u001b[39m\u001b[38;5;130;01m\\\\\u001b[39;00m\u001b[38;5;124mphyug\u001b[39m\u001b[38;5;130;01m\\\\\u001b[39;00m\u001b[38;5;124mDesktop\u001b[39m\u001b[38;5;130;01m\\\\\u001b[39;00m\u001b[38;5;124mMISCADA\u001b[39m\u001b[38;5;130;01m\\\\\u001b[39;00m\u001b[38;5;124mexperiments\u001b[39m\u001b[38;5;130;01m\\\\\u001b[39;00m\u001b[38;5;124mexp0\u001b[39m\u001b[38;5;130;01m\\\\\u001b[39;00m\u001b[38;5;124maudio_records\u001b[39m\u001b[38;5;130;01m\\\\\u001b[39;00m\u001b[38;5;124mdis0\u001b[39m\u001b[38;5;124m\"\u001b[39m\n\u001b[1;32m----> 2\u001b[0m f, n \u001b[38;5;241m=\u001b[39m \u001b[43mrecord_signal\u001b[49m\u001b[43m(\u001b[49m\u001b[43mpath\u001b[49m\u001b[38;5;241;43m=\u001b[39;49m\u001b[43mpath_s\u001b[49m\u001b[43m,\u001b[49m\u001b[43m \u001b[49m\u001b[43mcount\u001b[49m\u001b[38;5;241;43m=\u001b[39;49m\u001b[43m \u001b[49m\u001b[38;5;241;43m150\u001b[39;49m\u001b[43m,\u001b[49m\u001b[43m \u001b[49m\u001b[43minitial_value\u001b[49m\u001b[43m \u001b[49m\u001b[38;5;241;43m=\u001b[39;49m\u001b[43m \u001b[49m\u001b[38;5;241;43m10\u001b[39;49m\u001b[43m,\u001b[49m\u001b[43m \u001b[49m\u001b[43mfs\u001b[49m\u001b[43m \u001b[49m\u001b[38;5;241;43m=\u001b[39;49m\u001b[43m \u001b[49m\u001b[38;5;241;43m48000\u001b[39;49m\u001b[43m,\u001b[49m\u001b[43m \u001b[49m\u001b[43mduration\u001b[49m\u001b[43m \u001b[49m\u001b[38;5;241;43m=\u001b[39;49m\u001b[38;5;241;43m3\u001b[39;49m\u001b[43m)\u001b[49m\n",
      "Cell \u001b[1;32mIn[16], line 10\u001b[0m, in \u001b[0;36mrecord_signal\u001b[1;34m(path, count, initial_value, fs, duration)\u001b[0m\n\u001b[0;32m      8\u001b[0m value\u001b[38;5;241m=\u001b[39m readai(\u001b[38;5;241m2\u001b[39m\u001b[38;5;241m/\u001b[39m\u001b[38;5;241m10000\u001b[39m, chanlist\u001b[38;5;241m=\u001b[39m\u001b[38;5;124m'\u001b[39m\u001b[38;5;124mDev2/ai0\u001b[39m\u001b[38;5;124m'\u001b[39m, nchans\u001b[38;5;241m=\u001b[39m\u001b[38;5;241m1\u001b[39m, samplerate\u001b[38;5;241m=\u001b[39m\u001b[38;5;241m10000\u001b[39m, vrange\u001b[38;5;241m=\u001b[39m\u001b[38;5;241m1.0\u001b[39m)\n\u001b[0;32m      9\u001b[0m record \u001b[38;5;241m=\u001b[39m sd\u001b[38;5;241m.\u001b[39mrec(duration\u001b[38;5;241m*\u001b[39mfs, samplerate \u001b[38;5;241m=\u001b[39m fs, channels \u001b[38;5;241m=\u001b[39m \u001b[38;5;241m1\u001b[39m, blocking \u001b[38;5;241m=\u001b[39m\u001b[38;5;28;01mFalse\u001b[39;00m)\n\u001b[1;32m---> 10\u001b[0m \u001b[43msd\u001b[49m\u001b[38;5;241;43m.\u001b[39;49m\u001b[43mwait\u001b[49m\u001b[43m(\u001b[49m\u001b[43m)\u001b[49m\n\u001b[0;32m     11\u001b[0m sound_name \u001b[38;5;241m=\u001b[39m \u001b[38;5;124mf\u001b[39m\u001b[38;5;124m\"\u001b[39m\u001b[38;5;124moutput0_\u001b[39m\u001b[38;5;132;01m{\u001b[39;00mi\u001b[38;5;132;01m}\u001b[39;00m\u001b[38;5;124m.wav\u001b[39m\u001b[38;5;124m\"\u001b[39m\n\u001b[0;32m     12\u001b[0m values\u001b[38;5;241m=\u001b[39m np\u001b[38;5;241m.\u001b[39mconcatenate((value, readai(\u001b[38;5;241m2\u001b[39m\u001b[38;5;241m/\u001b[39m\u001b[38;5;241m10000\u001b[39m, chanlist\u001b[38;5;241m=\u001b[39m\u001b[38;5;124m'\u001b[39m\u001b[38;5;124mDev2/ai0\u001b[39m\u001b[38;5;124m'\u001b[39m, nchans\u001b[38;5;241m=\u001b[39m\u001b[38;5;241m1\u001b[39m, samplerate\u001b[38;5;241m=\u001b[39m\u001b[38;5;241m10000\u001b[39m, vrange\u001b[38;5;241m=\u001b[39m\u001b[38;5;241m1.0\u001b[39m)))\n",
      "File \u001b[1;32m~\\AppData\\Roaming\\Python\\Python39\\site-packages\\sounddevice.py:395\u001b[0m, in \u001b[0;36mwait\u001b[1;34m(ignore_errors)\u001b[0m\n\u001b[0;32m    379\u001b[0m \u001b[38;5;250m\u001b[39m\u001b[38;5;124;03m\"\"\"Wait for `play()`/`rec()`/`playrec()` to be finished.\u001b[39;00m\n\u001b[0;32m    380\u001b[0m \n\u001b[0;32m    381\u001b[0m \u001b[38;5;124;03mPlayback/recording can be stopped with a `KeyboardInterrupt`.\u001b[39;00m\n\u001b[1;32m   (...)\u001b[0m\n\u001b[0;32m    392\u001b[0m \n\u001b[0;32m    393\u001b[0m \u001b[38;5;124;03m\"\"\"\u001b[39;00m\n\u001b[0;32m    394\u001b[0m \u001b[38;5;28;01mif\u001b[39;00m _last_callback:\n\u001b[1;32m--> 395\u001b[0m     \u001b[38;5;28;01mreturn\u001b[39;00m \u001b[43m_last_callback\u001b[49m\u001b[38;5;241;43m.\u001b[39;49m\u001b[43mwait\u001b[49m\u001b[43m(\u001b[49m\u001b[43mignore_errors\u001b[49m\u001b[43m)\u001b[49m\n",
      "File \u001b[1;32m~\\AppData\\Roaming\\Python\\Python39\\site-packages\\sounddevice.py:2601\u001b[0m, in \u001b[0;36m_CallbackContext.wait\u001b[1;34m(self, ignore_errors)\u001b[0m\n\u001b[0;32m   2595\u001b[0m \u001b[38;5;250m\u001b[39m\u001b[38;5;124;03m\"\"\"Wait for finished_callback.\u001b[39;00m\n\u001b[0;32m   2596\u001b[0m \n\u001b[0;32m   2597\u001b[0m \u001b[38;5;124;03mCan be interrupted with a KeyboardInterrupt.\u001b[39;00m\n\u001b[0;32m   2598\u001b[0m \n\u001b[0;32m   2599\u001b[0m \u001b[38;5;124;03m\"\"\"\u001b[39;00m\n\u001b[0;32m   2600\u001b[0m \u001b[38;5;28;01mtry\u001b[39;00m:\n\u001b[1;32m-> 2601\u001b[0m     \u001b[38;5;28;43mself\u001b[39;49m\u001b[38;5;241;43m.\u001b[39;49m\u001b[43mevent\u001b[49m\u001b[38;5;241;43m.\u001b[39;49m\u001b[43mwait\u001b[49m\u001b[43m(\u001b[49m\u001b[43m)\u001b[49m\n\u001b[0;32m   2602\u001b[0m \u001b[38;5;28;01mfinally\u001b[39;00m:\n\u001b[0;32m   2603\u001b[0m     \u001b[38;5;28mself\u001b[39m\u001b[38;5;241m.\u001b[39mstream\u001b[38;5;241m.\u001b[39mclose(ignore_errors)\n",
      "File \u001b[1;32mC:\\ProgramData\\Anaconda3\\lib\\threading.py:574\u001b[0m, in \u001b[0;36mEvent.wait\u001b[1;34m(self, timeout)\u001b[0m\n\u001b[0;32m    572\u001b[0m signaled \u001b[38;5;241m=\u001b[39m \u001b[38;5;28mself\u001b[39m\u001b[38;5;241m.\u001b[39m_flag\n\u001b[0;32m    573\u001b[0m \u001b[38;5;28;01mif\u001b[39;00m \u001b[38;5;129;01mnot\u001b[39;00m signaled:\n\u001b[1;32m--> 574\u001b[0m     signaled \u001b[38;5;241m=\u001b[39m \u001b[38;5;28;43mself\u001b[39;49m\u001b[38;5;241;43m.\u001b[39;49m\u001b[43m_cond\u001b[49m\u001b[38;5;241;43m.\u001b[39;49m\u001b[43mwait\u001b[49m\u001b[43m(\u001b[49m\u001b[43mtimeout\u001b[49m\u001b[43m)\u001b[49m\n\u001b[0;32m    575\u001b[0m \u001b[38;5;28;01mreturn\u001b[39;00m signaled\n",
      "File \u001b[1;32mC:\\ProgramData\\Anaconda3\\lib\\threading.py:312\u001b[0m, in \u001b[0;36mCondition.wait\u001b[1;34m(self, timeout)\u001b[0m\n\u001b[0;32m    310\u001b[0m \u001b[38;5;28;01mtry\u001b[39;00m:    \u001b[38;5;66;03m# restore state no matter what (e.g., KeyboardInterrupt)\u001b[39;00m\n\u001b[0;32m    311\u001b[0m     \u001b[38;5;28;01mif\u001b[39;00m timeout \u001b[38;5;129;01mis\u001b[39;00m \u001b[38;5;28;01mNone\u001b[39;00m:\n\u001b[1;32m--> 312\u001b[0m         \u001b[43mwaiter\u001b[49m\u001b[38;5;241;43m.\u001b[39;49m\u001b[43macquire\u001b[49m\u001b[43m(\u001b[49m\u001b[43m)\u001b[49m\n\u001b[0;32m    313\u001b[0m         gotit \u001b[38;5;241m=\u001b[39m \u001b[38;5;28;01mTrue\u001b[39;00m\n\u001b[0;32m    314\u001b[0m     \u001b[38;5;28;01melse\u001b[39;00m:\n",
      "\u001b[1;31mKeyboardInterrupt\u001b[0m: "
     ]
    }
   ],
   "source": [
    "path_s = \"C:\\\\Users\\\\phyug\\\\Desktop\\\\MISCADA\\\\experiments\\\\exp0\\\\audio_records\\\\dis0\"\n",
    "f, n = record_signal(path=path_s, count= 150, initial_value = 10, fs = 48000, duration =3)"
   ]
  },
  {
   "cell_type": "code",
   "execution_count": 19,
   "id": "a73c8d3a",
   "metadata": {},
   "outputs": [],
   "source": [
    "df = pd.DataFrame(f, columns = [\"Flow_rate0\"] )\n",
    "df[\"Records_names0\"] = n"
   ]
  },
  {
   "cell_type": "code",
   "execution_count": 7,
   "id": "9d444888",
   "metadata": {
    "scrolled": false
   },
   "outputs": [],
   "source": [
    "path_g = \"C:\\\\Users\\\\phyug\\\\Desktop\\\\MISCADA\\\\experiments\\\\exp0\\\\spectograms\\\\dis0\"\n",
    "path_s = \"C:\\\\Users\\\\phyug\\\\Desktop\\\\MISCADA\\\\experiments\\\\exp0\\\\audio_records\\\\dis0\"\n",
    "convertSpecto (path_s, path_g,count = 150)"
   ]
  },
  {
   "cell_type": "markdown",
   "id": "e2f23b61",
   "metadata": {},
   "source": [
    "--------------------"
   ]
  },
  {
   "cell_type": "markdown",
   "id": "522c9dc9",
   "metadata": {},
   "source": [
    "## Dis 20"
   ]
  },
  {
   "cell_type": "code",
   "execution_count": 20,
   "id": "ab3ef961",
   "metadata": {},
   "outputs": [],
   "source": [
    "path_s = \"C:\\\\Users\\\\phyug\\\\Desktop\\\\MISCADA\\\\experiments\\\\exp0\\\\audio_records\\\\dis20\"\n",
    "path_g = \"C:\\\\Users\\\\phyug\\\\Desktop\\\\MISCADA\\\\experiments\\\\exp0\\\\spectograms\\\\dis20\"\n",
    "f20, n20 = record_signal(path=path_s, count=150, initial_value = 10, fs = 48000, duration =3)\n",
    "df[\"Flow_rate 20\"] = f20\n",
    "df[\"Records_names 20\"] = n20\n",
    "#convertSpecto (path_s, path_g,count = 5)"
   ]
  },
  {
   "cell_type": "markdown",
   "id": "54dfed1a",
   "metadata": {},
   "source": [
    "---------------\n",
    "## Dis 40"
   ]
  },
  {
   "cell_type": "code",
   "execution_count": 21,
   "id": "8cf6916b",
   "metadata": {},
   "outputs": [],
   "source": [
    "path_s = \"C:\\\\Users\\\\phyug\\\\Desktop\\\\MISCADA\\\\experiments\\\\exp0\\\\audio_records\\\\dis40\"\n",
    "path_g = \"C:\\\\Users\\\\phyug\\\\Desktop\\\\MISCADA\\\\experiments\\\\exp0\\\\spectograms\\\\dis40\"\n",
    "f40, n40 = record_signal(path=path_s, count= 150, initial_value = 10, fs = 48000, duration =3)\n",
    "df[\"Flow_rate 40\"] = f40\n",
    "df[\"Records_names 40\"] = n40"
   ]
  },
  {
   "cell_type": "markdown",
   "id": "4ef8a0d5",
   "metadata": {},
   "source": [
    "-----------\n",
    "## Dis -20"
   ]
  },
  {
   "cell_type": "code",
   "execution_count": 23,
   "id": "a19d0765",
   "metadata": {},
   "outputs": [],
   "source": [
    "path_s = \"C:\\\\Users\\\\phyug\\\\Desktop\\\\MISCADA\\\\experiments\\\\exp0\\\\audio_records\\\\dis-20\"\n",
    "path_g = \"C:\\\\Users\\\\phyug\\\\Desktop\\\\MISCADA\\\\experiments\\\\exp0\\\\spectograms\\\\dis-20\"\n",
    "f_20, n_20 = record_signal(path=path_s, count= 150, initial_value = 10, fs = 48000, duration =3)\n",
    "df[\"Flow_rate -20\"] = f_20\n",
    "df[\"Records_names -20\"] = n_20"
   ]
  },
  {
   "cell_type": "markdown",
   "id": "41a9a245",
   "metadata": {},
   "source": [
    "------------\n",
    "## Dis -40"
   ]
  },
  {
   "cell_type": "code",
   "execution_count": 25,
   "id": "8bb5b1fa",
   "metadata": {},
   "outputs": [],
   "source": [
    "path_s = \"C:\\\\Users\\\\phyug\\\\Desktop\\\\MISCADA\\\\experiments\\\\exp0\\\\audio_records\\\\dis-40\"\n",
    "path_g = \"C:\\\\Users\\\\phyug\\\\Desktop\\\\MISCADA\\\\experiments\\\\exp0\\\\spectograms\\\\dis-40\"\n",
    "f_40, n_40 = record_signal(path=path_s, count= 150, initial_value = 10, fs = 48000, duration =3)\n",
    "df[\"Flow_rate -40\"] = f_40\n",
    "df[\"Records_names-40\"] = n_40"
   ]
  },
  {
   "cell_type": "code",
   "execution_count": 26,
   "id": "019b96b7",
   "metadata": {},
   "outputs": [],
   "source": [
    "df.to_csv(\"exp0data.csv\")"
   ]
  },
  {
   "cell_type": "markdown",
   "id": "ccffa9a2",
   "metadata": {},
   "source": [
    "-------------------\n",
    "## Dis 15"
   ]
  },
  {
   "cell_type": "code",
   "execution_count": 9,
   "id": "fc593208",
   "metadata": {},
   "outputs": [
    {
     "data": {
      "text/plain": [
       "([3.271811595390318,\n",
       "  4.256195838446729,\n",
       "  4.75950457417639,\n",
       "  5.050469867623178,\n",
       "  5.224791267130058,\n",
       "  5.329835215816274,\n",
       "  5.39943488733843,\n",
       "  5.443256902741268,\n",
       "  5.47451231078594,\n",
       "  5.493523332173936,\n",
       "  5.508989925845526,\n",
       "  5.52316763671115,\n",
       "  5.533156478457386,\n",
       "  5.543789761606604,\n",
       "  5.548300851427484],\n",
       " ['output0_0.wav',\n",
       "  'output0_1.wav',\n",
       "  'output0_2.wav',\n",
       "  'output0_3.wav',\n",
       "  'output0_4.wav',\n",
       "  'output0_5.wav',\n",
       "  'output0_6.wav',\n",
       "  'output0_7.wav',\n",
       "  'output0_8.wav',\n",
       "  'output0_9.wav',\n",
       "  'output0_10.wav',\n",
       "  'output0_11.wav',\n",
       "  'output0_12.wav',\n",
       "  'output0_13.wav',\n",
       "  'output0_14.wav'])"
      ]
     },
     "execution_count": 9,
     "metadata": {},
     "output_type": "execute_result"
    }
   ],
   "source": [
    "path_s = \"C:\\\\Users\\\\phyug\\\\Desktop\\\\MISCADA\\\\experiments\\\\exp0\\\\audio_records\\\\new_values\\\\dis 15\"\n",
    "record_signal(path=path_s, count= 15, initial_value = 10, fs = 48000, duration =3)"
   ]
  },
  {
   "cell_type": "markdown",
   "id": "cd6cb4a1",
   "metadata": {},
   "source": [
    "---------------\n",
    "## Dis -15"
   ]
  },
  {
   "cell_type": "code",
   "execution_count": 10,
   "id": "68838b10",
   "metadata": {},
   "outputs": [
    {
     "data": {
      "text/plain": [
       "([3.299844796420075,\n",
       "  4.3280510548793245,\n",
       "  4.829104245698545,\n",
       "  5.114591787219979,\n",
       "  5.283435434801504,\n",
       "  5.380746086651925,\n",
       "  5.440356916427845,\n",
       "  5.482890049024718,\n",
       "  5.50770104303956,\n",
       "  5.523489857412642,\n",
       "  5.536056464770809,\n",
       "  5.544434203009587,\n",
       "  5.550234175636433,\n",
       "  5.555389706860296,\n",
       "  5.561189679487143],\n",
       " ['output0_0.wav',\n",
       "  'output0_1.wav',\n",
       "  'output0_2.wav',\n",
       "  'output0_3.wav',\n",
       "  'output0_4.wav',\n",
       "  'output0_5.wav',\n",
       "  'output0_6.wav',\n",
       "  'output0_7.wav',\n",
       "  'output0_8.wav',\n",
       "  'output0_9.wav',\n",
       "  'output0_10.wav',\n",
       "  'output0_11.wav',\n",
       "  'output0_12.wav',\n",
       "  'output0_13.wav',\n",
       "  'output0_14.wav'])"
      ]
     },
     "execution_count": 10,
     "metadata": {},
     "output_type": "execute_result"
    }
   ],
   "source": [
    "path_s = \"C:\\\\Users\\\\phyug\\\\Desktop\\\\MISCADA\\\\experiments\\\\exp0\\\\audio_records\\\\new_values\\\\dis -15\"\n",
    "record_signal(path=path_s, count= 15, initial_value = 10, fs = 48000, duration =3)"
   ]
  },
  {
   "cell_type": "markdown",
   "id": "dfa69bc4",
   "metadata": {},
   "source": [
    "---------------\n",
    "## Dis 30"
   ]
  },
  {
   "cell_type": "code",
   "execution_count": 14,
   "id": "6c3eb92b",
   "metadata": {},
   "outputs": [
    {
     "data": {
      "text/plain": [
       "([4.546838911192026,\n",
       "  5.017603356071049,\n",
       "  5.268935503234388,\n",
       "  5.404268197860802,\n",
       "  5.484178931830684,\n",
       "  5.528967609337997,\n",
       "  5.557323031069245,\n",
       "  5.572467404039344,\n",
       "  5.581489583681105,\n",
       "  5.588256218412425,\n",
       "  5.5953450738452375,\n",
       "  5.596633956651203,\n",
       "  5.598567280860152,\n",
       "  5.598245060158661,\n",
       "  5.59598951524822],\n",
       " ['output0_0.wav',\n",
       "  'output0_1.wav',\n",
       "  'output0_2.wav',\n",
       "  'output0_3.wav',\n",
       "  'output0_4.wav',\n",
       "  'output0_5.wav',\n",
       "  'output0_6.wav',\n",
       "  'output0_7.wav',\n",
       "  'output0_8.wav',\n",
       "  'output0_9.wav',\n",
       "  'output0_10.wav',\n",
       "  'output0_11.wav',\n",
       "  'output0_12.wav',\n",
       "  'output0_13.wav',\n",
       "  'output0_14.wav'])"
      ]
     },
     "execution_count": 14,
     "metadata": {},
     "output_type": "execute_result"
    }
   ],
   "source": [
    "path_s = \"C:\\\\Users\\\\phyug\\\\Desktop\\\\MISCADA\\\\experiments\\\\exp0\\\\audio_records\\\\new_values\\\\dis 30\"\n",
    "record_signal(path=path_s, count= 15, initial_value = 10, fs = 48000, duration =3)"
   ]
  },
  {
   "cell_type": "markdown",
   "id": "5cfca851",
   "metadata": {},
   "source": [
    "------------------\n",
    "# Exp1"
   ]
  },
  {
   "cell_type": "code",
   "execution_count": 17,
   "id": "a1826f04",
   "metadata": {},
   "outputs": [],
   "source": [
    "writeao(chan='Dev2/ao0',val=0.0)"
   ]
  },
  {
   "cell_type": "markdown",
   "id": "a1f206e1",
   "metadata": {},
   "source": [
    "---------------------\n",
    "## 1. Dis 0"
   ]
  },
  {
   "cell_type": "markdown",
   "id": "c2faa548",
   "metadata": {},
   "source": [
    "### Without leak"
   ]
  },
  {
   "cell_type": "code",
   "execution_count": 23,
   "id": "0ccef7c9",
   "metadata": {},
   "outputs": [],
   "source": [
    "path_s = \"C:\\\\Users\\\\phyug\\\\Desktop\\\\MISCADA\\\\experiments\\\\exp1\\\\audio_records\\\\dis0\\\\without_leak\"\n",
    "relative_path = \"\\experiments\\exp1\\audio_records\\dis0\\without_leak\"\n",
    "f1_0, n1_0 = record_signal(path=path_s, count= 150, initial_value = 0, fs = 48000, duration =3, relative_path = relative_path)"
   ]
  },
  {
   "cell_type": "code",
   "execution_count": 24,
   "id": "bf20cf62",
   "metadata": {},
   "outputs": [],
   "source": [
    "df1 = pd.DataFrame(n1_0, columns = [\"relative_path\"] )\n",
    "df1[\"flow_rate\"] = f1_0"
   ]
  },
  {
   "cell_type": "code",
   "execution_count": 25,
   "id": "3e9841b9",
   "metadata": {},
   "outputs": [
    {
     "data": {
      "text/html": [
       "<div>\n",
       "<style scoped>\n",
       "    .dataframe tbody tr th:only-of-type {\n",
       "        vertical-align: middle;\n",
       "    }\n",
       "\n",
       "    .dataframe tbody tr th {\n",
       "        vertical-align: top;\n",
       "    }\n",
       "\n",
       "    .dataframe thead th {\n",
       "        text-align: right;\n",
       "    }\n",
       "</style>\n",
       "<table border=\"1\" class=\"dataframe\">\n",
       "  <thead>\n",
       "    <tr style=\"text-align: right;\">\n",
       "      <th></th>\n",
       "      <th>relative_path</th>\n",
       "      <th>flow_rate</th>\n",
       "    </tr>\n",
       "  </thead>\n",
       "  <tbody>\n",
       "    <tr>\n",
       "      <th>0</th>\n",
       "      <td>\\experiments\\exp1\u0007udio_records\\dis0\\without_le...</td>\n",
       "      <td>0.122104</td>\n",
       "    </tr>\n",
       "    <tr>\n",
       "      <th>1</th>\n",
       "      <td>\\experiments\\exp1\u0007udio_records\\dis0\\without_le...</td>\n",
       "      <td>0.132738</td>\n",
       "    </tr>\n",
       "    <tr>\n",
       "      <th>2</th>\n",
       "      <td>\\experiments\\exp1\u0007udio_records\\dis0\\without_le...</td>\n",
       "      <td>0.133382</td>\n",
       "    </tr>\n",
       "    <tr>\n",
       "      <th>3</th>\n",
       "      <td>\\experiments\\exp1\u0007udio_records\\dis0\\without_le...</td>\n",
       "      <td>0.128226</td>\n",
       "    </tr>\n",
       "    <tr>\n",
       "      <th>4</th>\n",
       "      <td>\\experiments\\exp1\u0007udio_records\\dis0\\without_le...</td>\n",
       "      <td>0.130804</td>\n",
       "    </tr>\n",
       "  </tbody>\n",
       "</table>\n",
       "</div>"
      ],
      "text/plain": [
       "                                       relative_path  flow_rate\n",
       "0  \\experiments\\exp1\u0007udio_records\\dis0\\without_le...   0.122104\n",
       "1  \\experiments\\exp1\u0007udio_records\\dis0\\without_le...   0.132738\n",
       "2  \\experiments\\exp1\u0007udio_records\\dis0\\without_le...   0.133382\n",
       "3  \\experiments\\exp1\u0007udio_records\\dis0\\without_le...   0.128226\n",
       "4  \\experiments\\exp1\u0007udio_records\\dis0\\without_le...   0.130804"
      ]
     },
     "execution_count": 25,
     "metadata": {},
     "output_type": "execute_result"
    }
   ],
   "source": [
    "df1.head()"
   ]
  },
  {
   "cell_type": "markdown",
   "id": "4a9e951f",
   "metadata": {},
   "source": [
    "### With Leak"
   ]
  },
  {
   "cell_type": "code",
   "execution_count": 26,
   "id": "f4cf70e3",
   "metadata": {},
   "outputs": [],
   "source": [
    "path_s = \"C:\\\\Users\\\\phyug\\\\Desktop\\\\MISCADA\\\\experiments\\\\exp1\\\\audio_records\\\\dis0\\\\with_leak\"\n",
    "relative_path = \"\\experiments\\exp1\\audio_records\\dis0\\with_leak\"\n",
    "f1_0, n1_0 = record_signal(path=path_s, count= 150, initial_value = 10, fs = 48000, duration =3, relative_path = relative_path)\n",
    "df2 = pd.DataFrame(n1_0, columns = [\"relative_path\"] )\n",
    "df2[\"flow_rate\"] = f1_0"
   ]
  },
  {
   "cell_type": "markdown",
   "id": "1daf6d03",
   "metadata": {},
   "source": [
    "---------------------\n",
    "## 2. Dis 20"
   ]
  },
  {
   "cell_type": "markdown",
   "id": "f5d25e68",
   "metadata": {},
   "source": [
    "### Without leak"
   ]
  },
  {
   "cell_type": "code",
   "execution_count": 28,
   "id": "ea331e82",
   "metadata": {},
   "outputs": [],
   "source": [
    "path_s = \"C:\\\\Users\\\\phyug\\\\Desktop\\\\MISCADA\\\\experiments\\\\exp1\\\\audio_records\\\\dis20\\\\without_leak\"\n",
    "relative_path = \"\\experiments\\exp1\\audio_records\\dis20\\without_leak\"\n",
    "f1_0, n1_0 = record_signal(path=path_s, count= 150, initial_value = 0, fs = 48000, duration =3, relative_path = relative_path)\n",
    "df3 = pd.DataFrame(n1_0, columns = [\"relative_path\"] )\n",
    "df3[\"flow_rate\"] = f1_0"
   ]
  },
  {
   "cell_type": "markdown",
   "id": "4b80e4b4",
   "metadata": {},
   "source": [
    "### With leak"
   ]
  },
  {
   "cell_type": "code",
   "execution_count": 29,
   "id": "6775b899",
   "metadata": {},
   "outputs": [],
   "source": [
    "path_s = \"C:\\\\Users\\\\phyug\\\\Desktop\\\\MISCADA\\\\experiments\\\\exp1\\\\audio_records\\\\dis20\\\\with_leak\"\n",
    "relative_path = \"\\experiments\\exp1\\audio_records\\dis20\\with_leak\"\n",
    "f1_0, n1_0 = record_signal(path=path_s, count= 150, initial_value = 10, fs = 48000, duration =3, relative_path = relative_path)\n",
    "df4 = pd.DataFrame(n1_0, columns = [\"relative_path\"] )\n",
    "df4[\"flow_rate\"] = f1_0"
   ]
  },
  {
   "cell_type": "markdown",
   "id": "ac2c061a",
   "metadata": {},
   "source": [
    "------------\n",
    "## 3. Dis 50"
   ]
  },
  {
   "cell_type": "markdown",
   "id": "1aec4630",
   "metadata": {},
   "source": [
    "### Without leak"
   ]
  },
  {
   "cell_type": "code",
   "execution_count": 30,
   "id": "2570d908",
   "metadata": {},
   "outputs": [],
   "source": [
    "path_s = \"C:\\\\Users\\\\phyug\\\\Desktop\\\\MISCADA\\\\experiments\\\\exp1\\\\audio_records\\\\dis50\\\\without_leak\"\n",
    "relative_path = \"\\experiments\\exp1\\audio_records\\dis50\\without_leak\"\n",
    "f1_0, n1_0 = record_signal(path=path_s, count= 150, initial_value = 0, fs = 48000, duration =3, relative_path = relative_path)\n",
    "df5 = pd.DataFrame(n1_0, columns = [\"relative_path\"] )\n",
    "df5[\"flow_rate\"] = f1_0"
   ]
  },
  {
   "cell_type": "markdown",
   "id": "9ff13ace",
   "metadata": {},
   "source": [
    "### With leak"
   ]
  },
  {
   "cell_type": "code",
   "execution_count": 31,
   "id": "80a6a2f0",
   "metadata": {},
   "outputs": [],
   "source": [
    "path_s = \"C:\\\\Users\\\\phyug\\\\Desktop\\\\MISCADA\\\\experiments\\\\exp1\\\\audio_records\\\\dis50\\\\with_leak\"\n",
    "relative_path = \"\\experiments\\exp1\\audio_records\\dis50\\with_leak\"\n",
    "f1_0, n1_0 = record_signal(path=path_s, count= 150, initial_value = 10, fs = 48000, duration =3, relative_path = relative_path)\n",
    "df6 = pd.DataFrame(n1_0, columns = [\"relative_path\"] )\n",
    "df6[\"flow_rate\"] = f1_0"
   ]
  },
  {
   "cell_type": "markdown",
   "id": "57059f1f",
   "metadata": {},
   "source": [
    "---------------\n",
    "## 4. Dis -20"
   ]
  },
  {
   "cell_type": "markdown",
   "id": "98dc3ab0",
   "metadata": {},
   "source": [
    "### Without leak"
   ]
  },
  {
   "cell_type": "code",
   "execution_count": 32,
   "id": "96dc760a",
   "metadata": {},
   "outputs": [],
   "source": [
    "path_s = \"C:\\\\Users\\\\phyug\\\\Desktop\\\\MISCADA\\\\experiments\\\\exp1\\\\audio_records\\\\dis-20\\\\without_leak\"\n",
    "relative_path = \"\\experiments\\exp1\\audio_records\\dis-20\\without_leak\"\n",
    "f1_0, n1_0 = record_signal(path=path_s, count= 150, initial_value = 0, fs = 48000, duration =3, relative_path = relative_path)\n",
    "df7 = pd.DataFrame(n1_0, columns = [\"relative_path\"] )\n",
    "df7[\"flow_rate\"] = f1_0"
   ]
  },
  {
   "cell_type": "markdown",
   "id": "7e839cc4",
   "metadata": {},
   "source": [
    "### With leak"
   ]
  },
  {
   "cell_type": "code",
   "execution_count": 33,
   "id": "9d238fff",
   "metadata": {},
   "outputs": [],
   "source": [
    "path_s = \"C:\\\\Users\\\\phyug\\\\Desktop\\\\MISCADA\\\\experiments\\\\exp1\\\\audio_records\\\\dis-20\\\\with_leak\"\n",
    "relative_path = \"\\experiments\\exp1\\audio_records\\dis-20\\with_leak\"\n",
    "f1_0, n1_0 = record_signal(path=path_s, count= 150, initial_value = 10, fs = 48000, duration =3, relative_path = relative_path)\n",
    "df8 = pd.DataFrame(n1_0, columns = [\"relative_path\"] )\n",
    "df8[\"flow_rate\"] = f1_0"
   ]
  },
  {
   "cell_type": "markdown",
   "id": "bc347981",
   "metadata": {},
   "source": [
    "-----------\n",
    "## 5. Dis -50"
   ]
  },
  {
   "cell_type": "markdown",
   "id": "7ac947c0",
   "metadata": {},
   "source": [
    "### Without leak"
   ]
  },
  {
   "cell_type": "code",
   "execution_count": 34,
   "id": "86753826",
   "metadata": {},
   "outputs": [],
   "source": [
    "path_s = \"C:\\\\Users\\\\phyug\\\\Desktop\\\\MISCADA\\\\experiments\\\\exp1\\\\audio_records\\\\dis-50\\\\without_leak\"\n",
    "relative_path = \"\\experiments\\exp1\\audio_records\\dis-50\\without_leak\"\n",
    "f1_0, n1_0 = record_signal(path=path_s, count= 150, initial_value = 0, fs = 48000, duration =3, relative_path = relative_path)\n",
    "df9 = pd.DataFrame(n1_0, columns = [\"relative_path\"] )\n",
    "df9[\"flow_rate\"] = f1_0"
   ]
  },
  {
   "cell_type": "markdown",
   "id": "848bc426",
   "metadata": {},
   "source": [
    "### With leak"
   ]
  },
  {
   "cell_type": "code",
   "execution_count": 35,
   "id": "2e88ff70",
   "metadata": {},
   "outputs": [],
   "source": [
    "path_s = \"C:\\\\Users\\\\phyug\\\\Desktop\\\\MISCADA\\\\experiments\\\\exp1\\\\audio_records\\\\dis-50\\\\with_leak\"\n",
    "relative_path = \"\\experiments\\exp1\\audio_records\\dis-50\\with_leak\"\n",
    "f1_0, n1_0 = record_signal(path=path_s, count= 150, initial_value = 10, fs = 48000, duration =3, relative_path = relative_path)\n",
    "df10 = pd.DataFrame(n1_0, columns = [\"relative_path\"] )\n",
    "df10[\"flow_rate\"] = f1_0"
   ]
  },
  {
   "cell_type": "markdown",
   "id": "ab252a4d",
   "metadata": {},
   "source": [
    "-------------\n",
    "### Combine all the data frames:"
   ]
  },
  {
   "cell_type": "code",
   "execution_count": 45,
   "id": "e80151ce",
   "metadata": {},
   "outputs": [],
   "source": [
    "df = pd.concat([df1,df2,df3,df4,df5,df6,df7,df8,df9,df10],ignore_index = True)"
   ]
  },
  {
   "cell_type": "code",
   "execution_count": 47,
   "id": "c24f73dd",
   "metadata": {},
   "outputs": [],
   "source": [
    "df.to_csv(\"exp1_0data.csv\")"
   ]
  },
  {
   "cell_type": "code",
   "execution_count": 48,
   "id": "e6b39d2c",
   "metadata": {},
   "outputs": [],
   "source": [
    "def generate_filenames(ps):\n",
    "    paths = []\n",
    "    for p in ps:\n",
    "        for i in range (150):\n",
    "            paths.append(p+f\"\\output0_{i}.wav\")\n",
    "    df = pd.DataFrame(paths, columns = [\"relative_path\"] )\n",
    "    return (df)"
   ]
  },
  {
   "cell_type": "code",
   "execution_count": 51,
   "id": "da35aae2",
   "metadata": {},
   "outputs": [],
   "source": [
    "rp1 = \"\\experiments\\exp1\\Audio_records\\dis0\\without_leak\"\n",
    "rp2 = \"\\experiments\\exp1\\Audio_records\\dis0\\with_leak\"\n",
    "rp3 = \"\\experiments\\exp1\\Audio_records\\dis20\\without_leak\"\n",
    "rp4 = \"\\experiments\\exp1\\Audio_records\\dis20\\with_leak\"\n",
    "rp5 = \"\\experiments\\exp1\\Audio_records\\dis50\\without_leak\"\n",
    "rp6 = \"\\experiments\\exp1\\Audio_records\\dis50\\with_leak\"\n",
    "rp7 = \"\\experiments\\exp1\\Audio_records\\dis-20\\without_leak\"\n",
    "rp8 = \"\\experiments\\exp1\\Audio_records\\dis-20\\with_leak\"\n",
    "rp9 = \"\\experiments\\exp1\\Audio_records\\dis-50\\without_leak\"\n",
    "rp10 = \"\\experiments\\exp1\\Audio_records\\dis-50\\with_leak\"\n",
    "ps = [rp1,rp2,rp3,rp4,rp5,rp6,rp7,rp8,rp9,rp10]\n",
    "dfp = generate_filenames(ps)\n",
    "dfp.to_csv(\"path_names.csv\")"
   ]
  },
  {
   "cell_type": "markdown",
   "id": "a0e90c87",
   "metadata": {},
   "source": [
    "----\n",
    "# Exp 2"
   ]
  },
  {
   "cell_type": "markdown",
   "id": "b66bce0d",
   "metadata": {},
   "source": [
    "## 1. Dis 0"
   ]
  },
  {
   "cell_type": "code",
   "execution_count": 58,
   "id": "3987075d",
   "metadata": {},
   "outputs": [],
   "source": [
    "path_s = \"C:\\\\Users\\\\phyug\\\\Desktop\\\\MISCADA\\\\experiments\\\\exp2\\\\Audio_records\\\\training\\\\dis0\"\n",
    "relative_path = \"\\experiments\\exp2\\Audio_records\\training\\dis0\"\n",
    "label = 0\n",
    "fl, ns, lb = record_signal(path=path_s, count= 150, initial_value = 10,\\\n",
    "                           fs = 48000, duration =3, relative_path = relative_path, label = label)\n",
    "\n",
    "df0 = pd.DataFrame(ns, columns = [\"relative_path\"] )\n",
    "df0[\"flow_rate\"] = fl\n",
    "df0[\"Y\"] = lb"
   ]
  },
  {
   "cell_type": "code",
   "execution_count": 61,
   "id": "993b29d6",
   "metadata": {},
   "outputs": [],
   "source": [
    "df0.to_csv(\"test10.csv\")"
   ]
  },
  {
   "cell_type": "markdown",
   "id": "4f1e3d7f",
   "metadata": {},
   "source": [
    "## 2. Dis 10"
   ]
  },
  {
   "cell_type": "code",
   "execution_count": 64,
   "id": "03c8dd49",
   "metadata": {},
   "outputs": [],
   "source": [
    "path_s = \"C:\\\\Users\\\\phyug\\\\Desktop\\\\MISCADA\\\\experiments\\\\exp2\\\\Audio_records\\\\training\\\\dis10\"\n",
    "relative_path = \"\\experiments\\exp2\\Audio_records\\training\\dis10\"\n",
    "label = 10\n",
    "\n",
    "fl, ns, lb = record_signal(path=path_s, count= 150, initial_value = 10,\\\n",
    "                           fs = 48000, duration =3, relative_path = relative_path, label = label)\n",
    "\n",
    "df10 = pd.DataFrame(ns, columns = [\"relative_path\"] )\n",
    "df10[\"flow_rate\"] = fl\n",
    "df10[\"Y\"] = lb"
   ]
  },
  {
   "cell_type": "markdown",
   "id": "d1b37aec",
   "metadata": {},
   "source": [
    "## 3. Dis 20"
   ]
  },
  {
   "cell_type": "code",
   "execution_count": 65,
   "id": "ef829abd",
   "metadata": {},
   "outputs": [],
   "source": [
    "path_s = \"C:\\\\Users\\\\phyug\\\\Desktop\\\\MISCADA\\\\experiments\\\\exp2\\\\Audio_records\\\\training\\\\dis20\"\n",
    "relative_path = \"\\experiments\\exp2\\Audio_records\\training\\dis20\"\n",
    "label = 20\n",
    "\n",
    "fl, ns, lb = record_signal(path=path_s, count= 150, initial_value = 10,\\\n",
    "                           fs = 48000, duration =3, relative_path = relative_path, label = label)\n",
    "\n",
    "df20 = pd.DataFrame(ns, columns = [\"relative_path\"] )\n",
    "df20[\"flow_rate\"] = fl\n",
    "df20[\"Y\"] = lb"
   ]
  },
  {
   "cell_type": "markdown",
   "id": "2038c117",
   "metadata": {},
   "source": [
    "## 4. Dis 30"
   ]
  },
  {
   "cell_type": "code",
   "execution_count": 66,
   "id": "9fee25e3",
   "metadata": {},
   "outputs": [],
   "source": [
    "path_s = \"C:\\\\Users\\\\phyug\\\\Desktop\\\\MISCADA\\\\experiments\\\\exp2\\\\Audio_records\\\\training\\\\dis30\"\n",
    "relative_path = \"\\experiments\\exp2\\Audio_records\\training\\dis30\"\n",
    "label = 30\n",
    "\n",
    "fl, ns, lb = record_signal(path=path_s, count= 150, initial_value = 10,\\\n",
    "                           fs = 48000, duration =3, relative_path = relative_path, label = label)\n",
    "\n",
    "df30 = pd.DataFrame(ns, columns = [\"relative_path\"] )\n",
    "df30[\"flow_rate\"] = fl\n",
    "df30[\"Y\"] = lb"
   ]
  },
  {
   "cell_type": "markdown",
   "id": "9ae9271b",
   "metadata": {},
   "source": [
    "## 5. Dis 40"
   ]
  },
  {
   "cell_type": "code",
   "execution_count": 67,
   "id": "54112884",
   "metadata": {},
   "outputs": [],
   "source": [
    "path_s = \"C:\\\\Users\\\\phyug\\\\Desktop\\\\MISCADA\\\\experiments\\\\exp2\\\\Audio_records\\\\training\\\\dis40\"\n",
    "relative_path = \"\\experiments\\exp2\\Audio_records\\training\\dis40\"\n",
    "label = 40\n",
    "\n",
    "fl, ns, lb = record_signal(path=path_s, count= 150, initial_value = 10,\\\n",
    "                           fs = 48000, duration =3, relative_path = relative_path, label = label)\n",
    "\n",
    "df40 = pd.DataFrame(ns, columns = [\"relative_path\"] )\n",
    "df40[\"flow_rate\"] = fl\n",
    "df40[\"Y\"] = lb"
   ]
  },
  {
   "cell_type": "markdown",
   "id": "0e8bb7fc",
   "metadata": {},
   "source": [
    "## 6. Dis 50"
   ]
  },
  {
   "cell_type": "code",
   "execution_count": 68,
   "id": "9fe3197b",
   "metadata": {},
   "outputs": [],
   "source": [
    "path_s = \"C:\\\\Users\\\\phyug\\\\Desktop\\\\MISCADA\\\\experiments\\\\exp2\\\\Audio_records\\\\training\\\\dis50\"\n",
    "relative_path = \"\\experiments\\exp2\\Audio_records\\training\\dis50\"\n",
    "label = 50\n",
    "\n",
    "fl, ns, lb = record_signal(path=path_s, count= 150, initial_value = 10,\\\n",
    "                           fs = 48000, duration =3, relative_path = relative_path, label = label)\n",
    "\n",
    "df50 = pd.DataFrame(ns, columns = [\"relative_path\"] )\n",
    "df50[\"flow_rate\"] = fl\n",
    "df50[\"Y\"] = lb"
   ]
  },
  {
   "cell_type": "markdown",
   "id": "ad5582f7",
   "metadata": {},
   "source": [
    "## 7. Dis -10"
   ]
  },
  {
   "cell_type": "code",
   "execution_count": 69,
   "id": "48fb64cd",
   "metadata": {},
   "outputs": [],
   "source": [
    "path_s = \"C:\\\\Users\\\\phyug\\\\Desktop\\\\MISCADA\\\\experiments\\\\exp2\\\\Audio_records\\\\training\\\\dis-10\"\n",
    "relative_path = \"\\experiments\\exp2\\Audio_records\\training\\dis-10\"\n",
    "label = -10\n",
    "\n",
    "fl, ns, lb = record_signal(path=path_s, count= 150, initial_value = 10,\\\n",
    "                           fs = 48000, duration =3, relative_path = relative_path, label = label)\n",
    "\n",
    "df_10 = pd.DataFrame(ns, columns = [\"relative_path\"] )\n",
    "df_10[\"flow_rate\"] = fl\n",
    "df_10[\"Y\"] = lb"
   ]
  },
  {
   "cell_type": "markdown",
   "id": "6ce998d3",
   "metadata": {},
   "source": [
    "## 8. Dis -20"
   ]
  },
  {
   "cell_type": "code",
   "execution_count": 70,
   "id": "9012f5a7",
   "metadata": {},
   "outputs": [],
   "source": [
    "path_s = \"C:\\\\Users\\\\phyug\\\\Desktop\\\\MISCADA\\\\experiments\\\\exp2\\\\Audio_records\\\\training\\\\dis-20\"\n",
    "relative_path = \"\\experiments\\exp2\\Audio_records\\training\\dis-20\"\n",
    "label = -20\n",
    "\n",
    "fl, ns, lb = record_signal(path=path_s, count= 150, initial_value = 10,\\\n",
    "                           fs = 48000, duration =3, relative_path = relative_path, label = label)\n",
    "\n",
    "df_20 = pd.DataFrame(ns, columns = [\"relative_path\"] )\n",
    "df_20[\"flow_rate\"] = fl\n",
    "df_20[\"Y\"] = lb"
   ]
  },
  {
   "cell_type": "markdown",
   "id": "d21f636d",
   "metadata": {},
   "source": [
    "## 9. Dis -30"
   ]
  },
  {
   "cell_type": "code",
   "execution_count": 71,
   "id": "88de159c",
   "metadata": {},
   "outputs": [],
   "source": [
    "path_s = \"C:\\\\Users\\\\phyug\\\\Desktop\\\\MISCADA\\\\experiments\\\\exp2\\\\Audio_records\\\\training\\\\dis-30\"\n",
    "relative_path = \"\\experiments\\exp2\\Audio_records\\training\\dis-30\"\n",
    "label = -30\n",
    "\n",
    "fl, ns, lb = record_signal(path=path_s, count= 150, initial_value = 10,\\\n",
    "                           fs = 48000, duration =3, relative_path = relative_path, label = label)\n",
    "\n",
    "df_30 = pd.DataFrame(ns, columns = [\"relative_path\"] )\n",
    "df_30[\"flow_rate\"] = fl\n",
    "df_30[\"Y\"] = lb"
   ]
  },
  {
   "cell_type": "markdown",
   "id": "aa530503",
   "metadata": {},
   "source": [
    "## 10. Dis -40"
   ]
  },
  {
   "cell_type": "code",
   "execution_count": 72,
   "id": "64a7710c",
   "metadata": {},
   "outputs": [],
   "source": [
    "path_s = \"C:\\\\Users\\\\phyug\\\\Desktop\\\\MISCADA\\\\experiments\\\\exp2\\\\Audio_records\\\\training\\\\dis-40\"\n",
    "relative_path = \"\\experiments\\exp2\\Audio_records\\training\\dis-40\"\n",
    "label = -40\n",
    "\n",
    "fl, ns, lb = record_signal(path=path_s, count= 150, initial_value = 10,\\\n",
    "                           fs = 48000, duration =3, relative_path = relative_path, label = label)\n",
    "\n",
    "df_40 = pd.DataFrame(ns, columns = [\"relative_path\"] )\n",
    "df_40[\"flow_rate\"] = fl\n",
    "df_40[\"Y\"] = lb"
   ]
  },
  {
   "cell_type": "markdown",
   "id": "25ae7247",
   "metadata": {},
   "source": [
    "## 11. Dis -50"
   ]
  },
  {
   "cell_type": "code",
   "execution_count": 73,
   "id": "cce79859",
   "metadata": {},
   "outputs": [],
   "source": [
    "path_s = \"C:\\\\Users\\\\phyug\\\\Desktop\\\\MISCADA\\\\experiments\\\\exp2\\\\Audio_records\\\\training\\\\dis-50\"\n",
    "relative_path = \"\\experiments\\exp2\\Audio_records\\training\\dis-50\"\n",
    "label = -50\n",
    "\n",
    "fl, ns, lb = record_signal(path=path_s, count= 150, initial_value = 10,\\\n",
    "                           fs = 48000, duration =3, relative_path = relative_path, label = label)\n",
    "\n",
    "df_50 = pd.DataFrame(ns, columns = [\"relative_path\"] )\n",
    "df_50[\"flow_rate\"] = fl\n",
    "df_50[\"Y\"] = lb"
   ]
  },
  {
   "cell_type": "markdown",
   "id": "6443f42c",
   "metadata": {},
   "source": [
    "### Combining all the dataframes: "
   ]
  },
  {
   "cell_type": "code",
   "execution_count": 74,
   "id": "bda2e218",
   "metadata": {},
   "outputs": [],
   "source": [
    "df_all = pd.concat([df0,df10,df20,df30,df40,df50,df_10,df_20,df_30,df_40,df_50],ignore_index = True)\n",
    "df_all.to_csv(\"exp2_0data.csv\")"
   ]
  },
  {
   "cell_type": "markdown",
   "id": "7415c412",
   "metadata": {},
   "source": [
    "## Data to testing"
   ]
  },
  {
   "cell_type": "markdown",
   "id": "2891b20e",
   "metadata": {},
   "source": [
    "## 1. Dis 15"
   ]
  },
  {
   "cell_type": "code",
   "execution_count": 75,
   "id": "ab4ad0ed",
   "metadata": {},
   "outputs": [
    {
     "ename": "NameError",
     "evalue": "name 'f1' is not defined",
     "output_type": "error",
     "traceback": [
      "\u001b[1;31m---------------------------------------------------------------------------\u001b[0m",
      "\u001b[1;31mNameError\u001b[0m                                 Traceback (most recent call last)",
      "Cell \u001b[1;32mIn[75], line 9\u001b[0m\n\u001b[0;32m      5\u001b[0m fl, ns, lb \u001b[38;5;241m=\u001b[39m record_signal(path\u001b[38;5;241m=\u001b[39mpath_s, count\u001b[38;5;241m=\u001b[39m \u001b[38;5;241m15\u001b[39m, initial_value \u001b[38;5;241m=\u001b[39m \u001b[38;5;241m10\u001b[39m,\\\n\u001b[0;32m      6\u001b[0m                            fs \u001b[38;5;241m=\u001b[39m \u001b[38;5;241m48000\u001b[39m, duration \u001b[38;5;241m=\u001b[39m\u001b[38;5;241m3\u001b[39m, relative_path \u001b[38;5;241m=\u001b[39m relative_path, label \u001b[38;5;241m=\u001b[39m label)\n\u001b[0;32m      8\u001b[0m df15 \u001b[38;5;241m=\u001b[39m pd\u001b[38;5;241m.\u001b[39mDataFrame(ns, columns \u001b[38;5;241m=\u001b[39m [\u001b[38;5;124m\"\u001b[39m\u001b[38;5;124mrelative_path\u001b[39m\u001b[38;5;124m\"\u001b[39m] )\n\u001b[1;32m----> 9\u001b[0m df15[\u001b[38;5;124m\"\u001b[39m\u001b[38;5;124mflow_rate\u001b[39m\u001b[38;5;124m\"\u001b[39m] \u001b[38;5;241m=\u001b[39m \u001b[43mf1\u001b[49m\n\u001b[0;32m     10\u001b[0m df15[\u001b[38;5;124m\"\u001b[39m\u001b[38;5;124mY\u001b[39m\u001b[38;5;124m\"\u001b[39m] \u001b[38;5;241m=\u001b[39m lb\n",
      "\u001b[1;31mNameError\u001b[0m: name 'f1' is not defined"
     ]
    }
   ],
   "source": [
    "path_s = \"C:\\\\Users\\\\phyug\\\\Desktop\\\\MISCADA\\\\experiments\\\\exp2\\\\Audio_records\\\\testing\\\\dis15\"\n",
    "relative_path = \"\\experiments\\exp2\\Audio_records\\testing\\dis15\"\n",
    "label = 15\n",
    "\n",
    "fl, ns, lb = record_signal(path=path_s, count= 15, initial_value = 10,\\\n",
    "                           fs = 48000, duration =3, relative_path = relative_path, label = label)\n",
    "\n",
    "df15 = pd.DataFrame(ns, columns = [\"relative_path\"] )\n",
    "df15[\"flow_rate\"] = fl\n",
    "df15[\"Y\"] = lb"
   ]
  },
  {
   "cell_type": "code",
   "execution_count": 76,
   "id": "d06b6920",
   "metadata": {},
   "outputs": [],
   "source": [
    "df15 = pd.DataFrame(ns, columns = [\"relative_path\"] )\n",
    "df15[\"flow_rate\"] = fl\n",
    "df15[\"Y\"] = lb"
   ]
  },
  {
   "cell_type": "markdown",
   "id": "acf2f2af",
   "metadata": {},
   "source": [
    "## 2. Dis 35"
   ]
  },
  {
   "cell_type": "code",
   "execution_count": 77,
   "id": "548fc247",
   "metadata": {},
   "outputs": [],
   "source": [
    "path_s = \"C:\\\\Users\\\\phyug\\\\Desktop\\\\MISCADA\\\\experiments\\\\exp2\\\\Audio_records\\\\testing\\\\dis35\"\n",
    "relative_path = \"\\experiments\\exp2\\Audio_records\\testing\\dis35\"\n",
    "label = 35\n",
    "\n",
    "fl, ns, lb = record_signal(path=path_s, count= 15, initial_value = 10,\\\n",
    "                           fs = 48000, duration =3, relative_path = relative_path, label = label)\n",
    "\n",
    "df35 = pd.DataFrame(ns, columns = [\"relative_path\"] )\n",
    "df35[\"flow_rate\"] = fl\n",
    "df35[\"Y\"] = lb"
   ]
  },
  {
   "cell_type": "markdown",
   "id": "b0751bf6",
   "metadata": {},
   "source": [
    "## 3. Dis 60"
   ]
  },
  {
   "cell_type": "code",
   "execution_count": 78,
   "id": "1b145a9d",
   "metadata": {},
   "outputs": [],
   "source": [
    "path_s = \"C:\\\\Users\\\\phyug\\\\Desktop\\\\MISCADA\\\\experiments\\\\exp2\\\\Audio_records\\\\testing\\\\dis60\"\n",
    "relative_path = \"\\experiments\\exp2\\Audio_records\\testing\\dis60\"\n",
    "label = 60\n",
    "\n",
    "fl, ns, lb = record_signal(path=path_s, count= 15, initial_value = 10,\\\n",
    "                           fs = 48000, duration =3, relative_path = relative_path, label = label)\n",
    "\n",
    "df60 = pd.DataFrame(ns, columns = [\"relative_path\"] )\n",
    "df60[\"flow_rate\"] = fl\n",
    "df60[\"Y\"] = lb"
   ]
  },
  {
   "cell_type": "markdown",
   "id": "9ce7edb8",
   "metadata": {},
   "source": [
    "## 3. Dis -15"
   ]
  },
  {
   "cell_type": "code",
   "execution_count": 79,
   "id": "2701e050",
   "metadata": {},
   "outputs": [],
   "source": [
    "path_s = \"C:\\\\Users\\\\phyug\\\\Desktop\\\\MISCADA\\\\experiments\\\\exp2\\\\Audio_records\\\\testing\\\\dis-15\"\n",
    "relative_path = \"\\experiments\\exp2\\Audio_records\\testing\\dis-15\"\n",
    "label = -15\n",
    "\n",
    "fl, ns, lb = record_signal(path=path_s, count= 15, initial_value = 10,\\\n",
    "                           fs = 48000, duration =3, relative_path = relative_path, label = label)\n",
    "\n",
    "df_15 = pd.DataFrame(ns, columns = [\"relative_path\"] )\n",
    "df_15[\"flow_rate\"] = fl\n",
    "df_15[\"Y\"] = lb"
   ]
  },
  {
   "cell_type": "markdown",
   "id": "db63d606",
   "metadata": {},
   "source": [
    "## 4. Dis -35"
   ]
  },
  {
   "cell_type": "code",
   "execution_count": 80,
   "id": "7ffa2546",
   "metadata": {},
   "outputs": [],
   "source": [
    "path_s = \"C:\\\\Users\\\\phyug\\\\Desktop\\\\MISCADA\\\\experiments\\\\exp2\\\\Audio_records\\\\testing\\\\dis-35\"\n",
    "relative_path = \"\\experiments\\exp2\\Audio_records\\testing\\dis-35\"\n",
    "label = -35\n",
    "\n",
    "fl, ns, lb = record_signal(path=path_s, count= 15, initial_value = 10,\\\n",
    "                           fs = 48000, duration =3, relative_path = relative_path, label = label)\n",
    "\n",
    "df_35 = pd.DataFrame(ns, columns = [\"relative_path\"] )\n",
    "df_35[\"flow_rate\"] = fl\n",
    "df_35[\"Y\"] = lb"
   ]
  },
  {
   "cell_type": "code",
   "execution_count": 81,
   "id": "7aeed481",
   "metadata": {},
   "outputs": [],
   "source": [
    "df_all1 = pd.concat([df15, df35, df60,df_15,df_35], ignore_index = True)\n",
    "df_all1.to_csv(\"exp2_1data.csv\")"
   ]
  },
  {
   "cell_type": "code",
   "execution_count": null,
   "id": "733b1dd8",
   "metadata": {},
   "outputs": [],
   "source": []
  }
 ],
 "metadata": {
  "kernelspec": {
   "display_name": "Python 3 (ipykernel)",
   "language": "python",
   "name": "python3"
  },
  "language_info": {
   "codemirror_mode": {
    "name": "ipython",
    "version": 3
   },
   "file_extension": ".py",
   "mimetype": "text/x-python",
   "name": "python",
   "nbconvert_exporter": "python",
   "pygments_lexer": "ipython3",
   "version": "3.9.13"
  }
 },
 "nbformat": 4,
 "nbformat_minor": 5
}
