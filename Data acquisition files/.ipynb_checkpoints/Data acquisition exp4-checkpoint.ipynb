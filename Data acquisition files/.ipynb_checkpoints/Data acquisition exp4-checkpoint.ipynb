{
 "cells": [
  {
   "cell_type": "code",
   "execution_count": 1,
   "id": "4decc65c",
   "metadata": {},
   "outputs": [],
   "source": [
    "import PyDAQmx as daq\n",
    "import numpy as np\n",
    "from daqai import DAQmx_ReadAI as readai \n",
    "from daqao import DAQmx_WriteSingleAO as writeao\n",
    "import os\n",
    "import time\n",
    "import pandas as pd\n",
    "import torchaudio\n",
    "from torchaudio import transforms\n",
    "import librosa\n",
    "import librosa.display\n",
    "import sounddevice as sd\n",
    "from scipy.io.wavfile import write \n",
    "import matplotlib.pyplot as plt\n",
    "from scipy import signal\n",
    "from scipy.io import wavfile\n",
    "import soundfile as sf\n",
    "from tqdm.auto import tqdm"
   ]
  },
  {
   "cell_type": "markdown",
   "id": "4b428f18",
   "metadata": {},
   "source": [
    "--------------\n",
    "# Recording signal: "
   ]
  },
  {
   "cell_type": "code",
   "execution_count": 2,
   "id": "e6aa48f8",
   "metadata": {},
   "outputs": [],
   "source": [
    "writeao(chan='Dev2/ao0',val=0.0)\n",
    "def record_signal(path=\"\", count= 3, initial_value = 10, fs = 48000, duration =3, relative_path = \"\", label = 0):\n",
    "    pbar = tqdm(total = count)\n",
    "    flow_rates = []\n",
    "    records_names = []\n",
    "    labels = []\n",
    "    path_s = path\n",
    "    writeao(chan='Dev2/ao0',val=initial_value)\n",
    "    time.sleep(10) # Sleep for 3 seconds\n",
    "    for i in range (count):\n",
    "        value= readai(2/10000, chanlist='Dev2/ai0', nchans=1, samplerate=10000, vrange=1.0)\n",
    "        record = sd.rec(duration*fs, samplerate = fs, channels = 1, blocking =False)\n",
    "        sd.wait()\n",
    "        \n",
    "        sound_name = f\"output0_{i}.wav\"\n",
    "        values= np.concatenate((value, readai(2/10000, chanlist='Dev2/ai0', nchans=1, samplerate=10000, vrange=1.0)))\n",
    "        \n",
    "        records_names.append(relative_path+f\"\\output0_{i}.wav\")\n",
    "        flow_rates.append(np.average(values))       \n",
    "        labels.append(label)\n",
    "        sf.write (os.path.join(path_s,sound_name),record,fs)\n",
    "        pbar.update(1)\n",
    "    writeao(chan='Dev2/ao0',val=0.0)\n",
    "    return  flow_rates, records_names, labels"
   ]
  },
  {
   "cell_type": "markdown",
   "id": "5b9df8dd",
   "metadata": {},
   "source": [
    "# Training distances: (6 points)"
   ]
  },
  {
   "cell_type": "markdown",
   "id": "41c7b118",
   "metadata": {},
   "source": [
    "## 1. Dis 25"
   ]
  },
  {
   "cell_type": "code",
   "execution_count": 3,
   "id": "bbfd8ee7",
   "metadata": {},
   "outputs": [
    {
     "data": {
      "application/json": {
       "ascii": false,
       "bar_format": null,
       "colour": null,
       "elapsed": 0.0059812068939208984,
       "initial": 0,
       "n": 0,
       "ncols": null,
       "nrows": 29,
       "postfix": null,
       "prefix": "",
       "rate": null,
       "total": 150,
       "unit": "it",
       "unit_divisor": 1000,
       "unit_scale": false
      },
      "application/vnd.jupyter.widget-view+json": {
       "model_id": "68d00beff4084c6ab3aecfb54b45a436",
       "version_major": 2,
       "version_minor": 0
      },
      "text/plain": [
       "  0%|          | 0/150 [00:00<?, ?it/s]"
      ]
     },
     "metadata": {},
     "output_type": "display_data"
    }
   ],
   "source": [
    "path_s = \"C:\\\\Users\\\\phyug\\\\Desktop\\\\MISCADA\\\\experiments\\\\exp3\\\\Audio_records\\\\testing\\\\dis25\"\n",
    "relative_path = \"\\\\experiments\\\\exp3\\\\Audio_records\\\\testing\\\\dis25\"\n",
    "label = 25\n",
    "fl, ns, lb = record_signal(path=path_s, count= 150, initial_value = 10,\\\n",
    "                           fs = 48000, duration =3, relative_path = relative_path, label = label)\n",
    "\n",
    "df25 = pd.DataFrame(ns, columns = [\"realtive_path\"] )\n",
    "df25[\"flow_rate\"] = fl\n",
    "df25[\"Y\"] = lb"
   ]
  },
  {
   "cell_type": "markdown",
   "id": "4a30de59",
   "metadata": {},
   "source": [
    "## 2. Dis 45"
   ]
  },
  {
   "cell_type": "code",
   "execution_count": 4,
   "id": "dbec3cc1",
   "metadata": {},
   "outputs": [
    {
     "data": {
      "application/json": {
       "ascii": false,
       "bar_format": null,
       "colour": null,
       "elapsed": 0.006546497344970703,
       "initial": 0,
       "n": 0,
       "ncols": null,
       "nrows": 29,
       "postfix": null,
       "prefix": "",
       "rate": null,
       "total": 150,
       "unit": "it",
       "unit_divisor": 1000,
       "unit_scale": false
      },
      "application/vnd.jupyter.widget-view+json": {
       "model_id": "d8ac0a60b219402fa4e26252e137b924",
       "version_major": 2,
       "version_minor": 0
      },
      "text/plain": [
       "  0%|          | 0/150 [00:00<?, ?it/s]"
      ]
     },
     "metadata": {},
     "output_type": "display_data"
    }
   ],
   "source": [
    "path_s = \"C:\\\\Users\\\\phyug\\\\Desktop\\\\MISCADA\\\\experiments\\\\exp3\\\\Audio_records\\\\testing\\\\dis45\"\n",
    "relative_path = \"\\\\experiments\\\\exp3\\\\Audio_records\\\\testing\\\\dis45\"\n",
    "label = 45\n",
    "fl, ns, lb = record_signal(path=path_s, count= 150, initial_value = 10,\\\n",
    "                           fs = 48000, duration =3, relative_path = relative_path, label = label)\n",
    "\n",
    "df45 = pd.DataFrame(ns, columns = [\"realtive_path\"] )\n",
    "df45[\"flow_rate\"] = fl\n",
    "df45[\"Y\"] = lb"
   ]
  },
  {
   "cell_type": "markdown",
   "id": "e965da66",
   "metadata": {},
   "source": [
    "## 3. Dis 60"
   ]
  },
  {
   "cell_type": "code",
   "execution_count": 5,
   "id": "07f1a0b4",
   "metadata": {},
   "outputs": [
    {
     "data": {
      "application/json": {
       "ascii": false,
       "bar_format": null,
       "colour": null,
       "elapsed": 0.006974458694458008,
       "initial": 0,
       "n": 0,
       "ncols": null,
       "nrows": 29,
       "postfix": null,
       "prefix": "",
       "rate": null,
       "total": 150,
       "unit": "it",
       "unit_divisor": 1000,
       "unit_scale": false
      },
      "application/vnd.jupyter.widget-view+json": {
       "model_id": "4632400c67c04ff79c97d8515b41507f",
       "version_major": 2,
       "version_minor": 0
      },
      "text/plain": [
       "  0%|          | 0/150 [00:00<?, ?it/s]"
      ]
     },
     "metadata": {},
     "output_type": "display_data"
    }
   ],
   "source": [
    "path_s = \"C:\\\\Users\\\\phyug\\\\Desktop\\\\MISCADA\\\\experiments\\\\exp3\\\\Audio_records\\\\testing\\\\dis60\"\n",
    "relative_path = \"\\\\experiments\\\\exp3\\\\Audio_records\\\\testing\\\\dis60\"\n",
    "label = 60\n",
    "fl, ns, lb = record_signal(path=path_s, count= 150, initial_value = 10,\\\n",
    "                           fs = 48000, duration =3, relative_path = relative_path, label = label)\n",
    "\n",
    "df60 = pd.DataFrame(ns, columns = [\"realtive_path\"] )\n",
    "df60[\"flow_rate\"] = fl\n",
    "df60[\"Y\"] = lb"
   ]
  },
  {
   "cell_type": "markdown",
   "id": "2f052151",
   "metadata": {},
   "source": [
    "## 4. Dis 70"
   ]
  },
  {
   "cell_type": "code",
   "execution_count": 6,
   "id": "f73508fb",
   "metadata": {},
   "outputs": [
    {
     "data": {
      "application/json": {
       "ascii": false,
       "bar_format": null,
       "colour": null,
       "elapsed": 0.004984140396118164,
       "initial": 0,
       "n": 0,
       "ncols": null,
       "nrows": 29,
       "postfix": null,
       "prefix": "",
       "rate": null,
       "total": 150,
       "unit": "it",
       "unit_divisor": 1000,
       "unit_scale": false
      },
      "application/vnd.jupyter.widget-view+json": {
       "model_id": "57823da7e3eb427fb703bc26dba2dfc4",
       "version_major": 2,
       "version_minor": 0
      },
      "text/plain": [
       "  0%|          | 0/150 [00:00<?, ?it/s]"
      ]
     },
     "metadata": {},
     "output_type": "display_data"
    }
   ],
   "source": [
    "path_s = \"C:\\\\Users\\\\phyug\\\\Desktop\\\\MISCADA\\\\experiments\\\\exp3\\\\Audio_records\\\\testing\\\\dis70\"\n",
    "relative_path = \"\\\\experiments\\\\exp3\\\\Audio_records\\\\testing\\\\dis70\"\n",
    "label = 70\n",
    "fl, ns, lb = record_signal(path=path_s, count= 150, initial_value = 10,\\\n",
    "                           fs = 48000, duration =3, relative_path = relative_path, label = label)\n",
    "\n",
    "df70 = pd.DataFrame(ns, columns = [\"realtive_path\"] )\n",
    "df70[\"flow_rate\"] = fl\n",
    "df70[\"Y\"] = lb"
   ]
  },
  {
   "cell_type": "markdown",
   "id": "4cebdc4f",
   "metadata": {},
   "source": [
    "## 5. Dis -25"
   ]
  },
  {
   "cell_type": "code",
   "execution_count": 7,
   "id": "f02dab8b",
   "metadata": {},
   "outputs": [
    {
     "data": {
      "application/json": {
       "ascii": false,
       "bar_format": null,
       "colour": null,
       "elapsed": 0.005980253219604492,
       "initial": 0,
       "n": 0,
       "ncols": null,
       "nrows": 29,
       "postfix": null,
       "prefix": "",
       "rate": null,
       "total": 150,
       "unit": "it",
       "unit_divisor": 1000,
       "unit_scale": false
      },
      "application/vnd.jupyter.widget-view+json": {
       "model_id": "b6be194704044c44b6e9fdbae0e6675a",
       "version_major": 2,
       "version_minor": 0
      },
      "text/plain": [
       "  0%|          | 0/150 [00:00<?, ?it/s]"
      ]
     },
     "metadata": {},
     "output_type": "display_data"
    }
   ],
   "source": [
    "path_s = \"C:\\\\Users\\\\phyug\\\\Desktop\\\\MISCADA\\\\experiments\\\\exp3\\\\Audio_records\\\\testing\\\\dis-25\"\n",
    "relative_path = \"\\\\experiments\\\\exp3\\\\Audio_records\\\\testing\\\\dis-25\"\n",
    "label = -25\n",
    "fl, ns, lb = record_signal(path=path_s, count= 150, initial_value = 10,\\\n",
    "                           fs = 48000, duration =3, relative_path = relative_path, label = label)\n",
    "\n",
    "df_25 = pd.DataFrame(ns, columns = [\"realtive_path\"] )\n",
    "df_25[\"flow_rate\"] = fl\n",
    "df_25[\"Y\"] = lb"
   ]
  },
  {
   "cell_type": "markdown",
   "id": "588a49d7",
   "metadata": {},
   "source": [
    "## 6. Dis -45"
   ]
  },
  {
   "cell_type": "code",
   "execution_count": 8,
   "id": "fd4cc66f",
   "metadata": {},
   "outputs": [
    {
     "data": {
      "application/json": {
       "ascii": false,
       "bar_format": null,
       "colour": null,
       "elapsed": 0.006488323211669922,
       "initial": 0,
       "n": 0,
       "ncols": null,
       "nrows": 29,
       "postfix": null,
       "prefix": "",
       "rate": null,
       "total": 150,
       "unit": "it",
       "unit_divisor": 1000,
       "unit_scale": false
      },
      "application/vnd.jupyter.widget-view+json": {
       "model_id": "5d651e67443a4ad3b5de5589601d50a4",
       "version_major": 2,
       "version_minor": 0
      },
      "text/plain": [
       "  0%|          | 0/150 [00:00<?, ?it/s]"
      ]
     },
     "metadata": {},
     "output_type": "display_data"
    }
   ],
   "source": [
    "path_s = \"C:\\\\Users\\\\phyug\\\\Desktop\\\\MISCADA\\\\experiments\\\\exp3\\\\Audio_records\\\\testing\\\\dis-45\"\n",
    "relative_path = \"\\\\experiments\\\\exp3\\\\Audio_records\\\\testing\\\\dis-45\"\n",
    "label = -45\n",
    "fl, ns, lb = record_signal(path=path_s, count= 150, initial_value = 10,\\\n",
    "                           fs = 48000, duration =3, relative_path = relative_path, label = label)\n",
    "\n",
    "df_45 = pd.DataFrame(ns, columns = [\"realtive_path\"] )\n",
    "df_45[\"flow_rate\"] = fl\n",
    "df_45[\"Y\"] = lb"
   ]
  },
  {
   "cell_type": "markdown",
   "id": "92619452",
   "metadata": {},
   "source": [
    "## 7. Dis -60"
   ]
  },
  {
   "cell_type": "code",
   "execution_count": 9,
   "id": "88a677b4",
   "metadata": {},
   "outputs": [
    {
     "data": {
      "application/json": {
       "ascii": false,
       "bar_format": null,
       "colour": null,
       "elapsed": 0.006900787353515625,
       "initial": 0,
       "n": 0,
       "ncols": null,
       "nrows": 29,
       "postfix": null,
       "prefix": "",
       "rate": null,
       "total": 150,
       "unit": "it",
       "unit_divisor": 1000,
       "unit_scale": false
      },
      "application/vnd.jupyter.widget-view+json": {
       "model_id": "370e35eba502401a87e004fd2e2f9f79",
       "version_major": 2,
       "version_minor": 0
      },
      "text/plain": [
       "  0%|          | 0/150 [00:00<?, ?it/s]"
      ]
     },
     "metadata": {},
     "output_type": "display_data"
    }
   ],
   "source": [
    "path_s = \"C:\\\\Users\\\\phyug\\\\Desktop\\\\MISCADA\\\\experiments\\\\exp3\\\\Audio_records\\\\testing\\\\dis-60\"\n",
    "relative_path = \"\\\\experiments\\\\exp3\\\\Audio_records\\\\testing\\\\dis-60\"\n",
    "label = -60\n",
    "fl, ns, lb = record_signal(path=path_s, count= 150, initial_value = 10,\\\n",
    "                           fs = 48000, duration =3, relative_path = relative_path, label = label)\n",
    "\n",
    "df_60 = pd.DataFrame(ns, columns = [\"realtive_path\"] )\n",
    "df_60[\"flow_rate\"] = fl\n",
    "df_60[\"Y\"] = lb"
   ]
  },
  {
   "cell_type": "markdown",
   "id": "bb49e2cf",
   "metadata": {},
   "source": [
    "## 8. Dis -70"
   ]
  },
  {
   "cell_type": "code",
   "execution_count": 12,
   "id": "6cf00f4f",
   "metadata": {},
   "outputs": [
    {
     "data": {
      "application/json": {
       "ascii": false,
       "bar_format": null,
       "colour": null,
       "elapsed": 0.0064373016357421875,
       "initial": 0,
       "n": 0,
       "ncols": null,
       "nrows": 29,
       "postfix": null,
       "prefix": "",
       "rate": null,
       "total": 150,
       "unit": "it",
       "unit_divisor": 1000,
       "unit_scale": false
      },
      "application/vnd.jupyter.widget-view+json": {
       "model_id": "348a7a501e4b4b05aa8ed29b46de4c82",
       "version_major": 2,
       "version_minor": 0
      },
      "text/plain": [
       "  0%|          | 0/150 [00:00<?, ?it/s]"
      ]
     },
     "metadata": {},
     "output_type": "display_data"
    }
   ],
   "source": [
    "path_s = \"C:\\\\Users\\\\phyug\\\\Desktop\\\\MISCADA\\\\experiments\\\\exp3\\\\Audio_records\\\\testing\\\\dis-70\"\n",
    "relative_path = \"\\\\experiments\\\\exp3\\\\Audio_records\\\\testing\\\\dis-70\"\n",
    "label = -70\n",
    "fl, ns, lb = record_signal(path=path_s, count= 150, initial_value = 10,\\\n",
    "                           fs = 48000, duration =3, relative_path = relative_path, label = label)\n",
    "\n",
    "df_70 = pd.DataFrame(ns, columns = [\"realtive_path\"] )\n",
    "df_70[\"flow_rate\"] = fl\n",
    "df_70[\"Y\"] = lb"
   ]
  },
  {
   "cell_type": "code",
   "execution_count": 11,
   "id": "e15bf62f",
   "metadata": {},
   "outputs": [],
   "source": [
    "writeao(chan='Dev2/ao0',val=0.0)"
   ]
  },
  {
   "cell_type": "markdown",
   "id": "ca45eef6",
   "metadata": {},
   "source": [
    "## Combining all the data in one file:"
   ]
  },
  {
   "cell_type": "code",
   "execution_count": 13,
   "id": "3b6258f1",
   "metadata": {},
   "outputs": [],
   "source": [
    "df_all1 = pd.concat([df25,df45,df60,df70,df_25,df_45,df_70], ignore_index= True)\n",
    "df_all1.to_csv(\"exp4_1data.csv\")"
   ]
  },
  {
   "cell_type": "code",
   "execution_count": null,
   "id": "3d1044fc",
   "metadata": {},
   "outputs": [],
   "source": []
  }
 ],
 "metadata": {
  "kernelspec": {
   "display_name": "Python 3 (ipykernel)",
   "language": "python",
   "name": "python3"
  },
  "language_info": {
   "codemirror_mode": {
    "name": "ipython",
    "version": 3
   },
   "file_extension": ".py",
   "mimetype": "text/x-python",
   "name": "python",
   "nbconvert_exporter": "python",
   "pygments_lexer": "ipython3",
   "version": "3.9.13"
  }
 },
 "nbformat": 4,
 "nbformat_minor": 5
}
